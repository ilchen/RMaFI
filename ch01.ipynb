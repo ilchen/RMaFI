{
 "cells": [
  {
   "cell_type": "markdown",
   "id": "charged-scholarship",
   "metadata": {},
   "source": [
    "# Introduction (The Capital Asset Pricing Model)\n",
    "Most exercises in this Chapter are pretty simple. I only tackle more complex ones using Pandas, SciPy, and Matplotlib."
   ]
  },
  {
   "cell_type": "code",
   "execution_count": 1,
   "id": "disabled-national",
   "metadata": {},
   "outputs": [],
   "source": [
    "import pandas as pd\n",
    "import numpy as np\n",
    "from scipy.stats import norm\n",
    "import matplotlib.ticker as mtick"
   ]
  },
  {
   "cell_type": "markdown",
   "id": "active-pottery",
   "metadata": {},
   "source": [
    "### Exercise 1.11\n",
    "Answer from the textbook: 99.89%"
   ]
  },
  {
   "cell_type": "code",
   "execution_count": 2,
   "id": "blind-mineral",
   "metadata": {},
   "outputs": [
    {
     "name": "stdout",
     "output_type": "stream",
     "text": [
      "Probability that the bank will have a positive equity at the end of the year: 99.89%\n"
     ]
    }
   ],
   "source": [
    "assets = 1.\n",
    "mu = .006 * assets\n",
    "sigma = .015 * assets\n",
    "equity = .04 * assets\n",
    "distr = norm(loc=mu, scale=sigma)\n",
    "print(f'Probability that the bank will have a positive equity at the end of the year: {1 - distr.cdf(-equity):.2%}')"
   ]
  },
  {
   "cell_type": "markdown",
   "id": "moved-christopher",
   "metadata": {},
   "source": [
    "### Exercise 1.15"
   ]
  },
  {
   "cell_type": "code",
   "execution_count": 3,
   "id": "aware-positive",
   "metadata": {},
   "outputs": [],
   "source": [
    "mu1 = .08\n",
    "sigma1 = .14\n",
    "mu2 = .12\n",
    "sigma2 = .2\n",
    "rho = .3\n",
    "weights = np.arange(0., 1.1, .1)"
   ]
  },
  {
   "cell_type": "code",
   "execution_count": 4,
   "id": "incident-chaos",
   "metadata": {},
   "outputs": [],
   "source": [
    "df = pd.DataFrame(np.column_stack((weights, 1 - weights)), columns = ['\\u03C91', '\\u03C92'])\n",
    "df['\\u03BCP'] = df.iloc[:,0] * mu1 + df.iloc[:,1] * mu2\n",
    "df['\\u03C3P'] = np.sqrt(np.square(df.iloc[:,0]) * sigma1**2 + np.square(df.iloc[:,1]) * sigma2**2\n",
    "                        + 2. * rho * df.iloc[:,0] * df.iloc[:,1] * sigma1 * sigma2)"
   ]
  },
  {
   "cell_type": "code",
   "execution_count": 5,
   "id": "gothic-chemical",
   "metadata": {},
   "outputs": [
    {
     "data": {
      "text/html": [
       "<div>\n",
       "<style scoped>\n",
       "    .dataframe tbody tr th:only-of-type {\n",
       "        vertical-align: middle;\n",
       "    }\n",
       "\n",
       "    .dataframe tbody tr th {\n",
       "        vertical-align: top;\n",
       "    }\n",
       "\n",
       "    .dataframe thead th {\n",
       "        text-align: right;\n",
       "    }\n",
       "</style>\n",
       "<table border=\"1\" class=\"dataframe\">\n",
       "  <thead>\n",
       "    <tr style=\"text-align: right;\">\n",
       "      <th></th>\n",
       "      <th>ω1</th>\n",
       "      <th>ω2</th>\n",
       "      <th>μP</th>\n",
       "      <th>σP</th>\n",
       "    </tr>\n",
       "  </thead>\n",
       "  <tbody>\n",
       "    <tr>\n",
       "      <th>0</th>\n",
       "      <td>0.0</td>\n",
       "      <td>1.0</td>\n",
       "      <td>0.120</td>\n",
       "      <td>0.200000</td>\n",
       "    </tr>\n",
       "    <tr>\n",
       "      <th>1</th>\n",
       "      <td>0.1</td>\n",
       "      <td>0.9</td>\n",
       "      <td>0.116</td>\n",
       "      <td>0.184684</td>\n",
       "    </tr>\n",
       "    <tr>\n",
       "      <th>2</th>\n",
       "      <td>0.2</td>\n",
       "      <td>0.8</td>\n",
       "      <td>0.112</td>\n",
       "      <td>0.170505</td>\n",
       "    </tr>\n",
       "    <tr>\n",
       "      <th>3</th>\n",
       "      <td>0.3</td>\n",
       "      <td>0.7</td>\n",
       "      <td>0.108</td>\n",
       "      <td>0.157772</td>\n",
       "    </tr>\n",
       "    <tr>\n",
       "      <th>4</th>\n",
       "      <td>0.4</td>\n",
       "      <td>0.6</td>\n",
       "      <td>0.104</td>\n",
       "      <td>0.146860</td>\n",
       "    </tr>\n",
       "    <tr>\n",
       "      <th>5</th>\n",
       "      <td>0.5</td>\n",
       "      <td>0.5</td>\n",
       "      <td>0.100</td>\n",
       "      <td>0.138203</td>\n",
       "    </tr>\n",
       "    <tr>\n",
       "      <th>6</th>\n",
       "      <td>0.6</td>\n",
       "      <td>0.4</td>\n",
       "      <td>0.096</td>\n",
       "      <td>0.132242</td>\n",
       "    </tr>\n",
       "    <tr>\n",
       "      <th>7</th>\n",
       "      <td>0.7</td>\n",
       "      <td>0.3</td>\n",
       "      <td>0.092</td>\n",
       "      <td>0.129352</td>\n",
       "    </tr>\n",
       "    <tr>\n",
       "      <th>8</th>\n",
       "      <td>0.8</td>\n",
       "      <td>0.2</td>\n",
       "      <td>0.088</td>\n",
       "      <td>0.129738</td>\n",
       "    </tr>\n",
       "    <tr>\n",
       "      <th>9</th>\n",
       "      <td>0.9</td>\n",
       "      <td>0.1</td>\n",
       "      <td>0.084</td>\n",
       "      <td>0.133372</td>\n",
       "    </tr>\n",
       "    <tr>\n",
       "      <th>10</th>\n",
       "      <td>1.0</td>\n",
       "      <td>0.0</td>\n",
       "      <td>0.080</td>\n",
       "      <td>0.140000</td>\n",
       "    </tr>\n",
       "  </tbody>\n",
       "</table>\n",
       "</div>"
      ],
      "text/plain": [
       "     ω1   ω2     μP        σP\n",
       "0   0.0  1.0  0.120  0.200000\n",
       "1   0.1  0.9  0.116  0.184684\n",
       "2   0.2  0.8  0.112  0.170505\n",
       "3   0.3  0.7  0.108  0.157772\n",
       "4   0.4  0.6  0.104  0.146860\n",
       "5   0.5  0.5  0.100  0.138203\n",
       "6   0.6  0.4  0.096  0.132242\n",
       "7   0.7  0.3  0.092  0.129352\n",
       "8   0.8  0.2  0.088  0.129738\n",
       "9   0.9  0.1  0.084  0.133372\n",
       "10  1.0  0.0  0.080  0.140000"
      ]
     },
     "execution_count": 5,
     "metadata": {},
     "output_type": "execute_result"
    }
   ],
   "source": [
    "df"
   ]
  },
  {
   "cell_type": "code",
   "execution_count": 6,
   "id": "radio-cinema",
   "metadata": {},
   "outputs": [
    {
     "data": {
      "image/png": "[encoded data removed]",
      "text/plain": [
       "<Figure size 1080x720 with 1 Axes>"
      ]
     },
     "metadata": {
      "needs_background": "light"
     },
     "output_type": "display_data"
    }
   ],
   "source": [
    "ax = df.plot(3, 2, figsize=(15,10), xlim=(0, df.iloc[:,3].max() + .01), ylim=(0, df.iloc[:,2].max() + .01),\n",
    "             xlabel='Standard deviation of return (%)', ylabel='Expected return (%)', style='-o',\n",
    "             xticks=np.arange(0, .21, .02), grid=True, legend=False)\n",
    "ax.xaxis.set_major_formatter(mtick.PercentFormatter(1, 0))\n",
    "ax.yaxis.set_major_formatter(mtick.PercentFormatter(1, 0))"
   ]
  },
  {
   "cell_type": "markdown",
   "id": "comparative-raise",
   "metadata": {},
   "source": [
    "### Exercise 1.16"
   ]
  },
  {
   "cell_type": "code",
   "execution_count": 7,
   "id": "thermal-permit",
   "metadata": {},
   "outputs": [],
   "source": [
    "mu_mkt = .12\n",
    "risk_free_rate = .07\n",
    "sigma_mkt = .15\n",
    "mu_p1 = .1\n",
    "mu_p2 = .2"
   ]
  },
  {
   "cell_type": "code",
   "execution_count": 9,
   "id": "entertaining-reverse",
   "metadata": {},
   "outputs": [
    {
     "name": "stdout",
     "output_type": "stream",
     "text": [
      "σP1: 9.00%\n",
      "σP2: 39.00%\n"
     ]
    }
   ],
   "source": [
    "w_mkt_p1 = (mu_p1 - risk_free_rate) / (mu_mkt - risk_free_rate)\n",
    "w_mkt_p2 = (mu_p2 - risk_free_rate) / (mu_mkt - risk_free_rate)\n",
    "sigma_p1 = w_mkt_p1 * sigma_mkt\n",
    "sigma_p2 = w_mkt_p2 * sigma_mkt\n",
    "print(f'\\u03C3P1: {sigma_p1:.2%}\\n\\u03C3P2: {sigma_p2:.2%}')"
   ]
  },
  {
   "cell_type": "markdown",
   "id": "certified-sample",
   "metadata": {},
   "source": [
    "### Exercise 1.17"
   ]
  },
  {
   "cell_type": "code",
   "execution_count": 22,
   "id": "broke-handbook",
   "metadata": {},
   "outputs": [
    {
     "name": "stdout",
     "output_type": "stream",
     "text": [
      "For a confidence level of 99.0% the bank needs to hold equity equivallent to 3.85% of its assets\n",
      "For a confidence level of 99.9% the bank needs to hold equity equivallent to 5.38% of its assets\n"
     ]
    }
   ],
   "source": [
    "mu = .8    # in percetage points of assets\n",
    "sigma = 2  # idem\n",
    "conf_levs = [.99, .999]\n",
    "\n",
    "for conf_lev in conf_levs:\n",
    "    print(f'For a confidence level of {conf_lev:.1%} the bank needs to hold equity equivallent to '\n",
    "          f'{norm.ppf(conf_lev) * sigma - mu:.2f}% of its assets')"
   ]
  },
  {
   "cell_type": "code",
   "execution_count": null,
   "id": "confirmed-welcome",
   "metadata": {},
   "outputs": [],
   "source": []
  }
 ],
 "metadata": {
  "kernelspec": {
   "display_name": "Python 3",
   "language": "python",
   "name": "python3"
  },
  "language_info": {
   "codemirror_mode": {
    "name": "ipython",
    "version": 3
   },
   "file_extension": ".py",
   "mimetype": "text/x-python",
   "name": "python",
   "nbconvert_exporter": "python",
   "pygments_lexer": "ipython3",
   "version": "3.9.0"
  }
 },
 "nbformat": 4,
 "nbformat_minor": 5
}
