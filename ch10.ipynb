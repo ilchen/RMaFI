{
 "cells": [
  {
   "cell_type": "markdown",
   "id": "corrected-arena",
   "metadata": {},
   "source": [
    "## Volatility\n",
    "\n",
    "The trully interesting exercises in this chapter are in the _Further Questions_ section. 10.20 and 10.22 are my vavourite ones. I created [dedicated classes for estimating EWMA and GARCH parameters](https://github.com/ilchen/RMaFI/blob/master/volatility/parameter_estimators.py) to tackle problems similar to those scratched in these exercises.\n",
    "\n",
    "I don't want to repeate the exercises per see, so below you will find calculations inspired by them."
   ]
  },
  {
   "cell_type": "markdown",
   "id": "surgical-relative",
   "metadata": {},
   "source": [
    "#### Estimating the &lambda; parameter for EWMA"
   ]
  },
  {
   "cell_type": "code",
   "execution_count": 1,
   "id": "acting-coast",
   "metadata": {},
   "outputs": [],
   "source": [
    "import pandas_datareader.data as web\n",
    "import datetime\n",
    "\n",
    "from volatility import parameter_estimators"
   ]
  },
  {
   "cell_type": "code",
   "execution_count": 2,
   "id": "otherwise-receiver",
   "metadata": {},
   "outputs": [],
   "source": [
    "# Looking at an asset price changes between 7th July 2005 and 7th July 2010\n",
    "start = datetime.datetime(2005, 7, 27)\n",
    "end = datetime.datetime(2010, 7, 27)\n",
    "\n",
    "# I use Yahoo Finance to fetch asset prices, in this case looking at the GBPUSD currency pair\n",
    "data = web.get_data_yahoo('GBPUSD=X', start, end)\n",
    "asset_prices_series = data['Adj Close']"
   ]
  },
  {
   "cell_type": "code",
   "execution_count": 3,
   "id": "australian-reasoning",
   "metadata": {},
   "outputs": [
    {
     "name": "stdout",
     "output_type": "stream",
     "text": [
      "Objective function: -0.00000 after 14 iterations\n",
      "Optimal value for λ using the minimum difference method: 0.93750\n"
     ]
    }
   ],
   "source": [
    "# Inspired by exercise by Ex 10.20\n",
    "ch10_ewma_min_diff = parameter_estimators.EWMAMinimumDifferenceParameterEstimator(asset_prices_series)\n",
    "print('Optimal value for λ using the minimum difference method: %.5f' % ch10_ewma_min_diff.lamda)"
   ]
  },
  {
   "cell_type": "code",
   "execution_count": 4,
   "id": "injured-rebound",
   "metadata": {},
   "outputs": [
    {
     "name": "stdout",
     "output_type": "stream",
     "text": [
      "Objective function: 11848.63466 after 15 iterations\n",
      "Optimal value for λ when using the EWMA: 0.95849\n"
     ]
    }
   ],
   "source": [
    "ch10_ewma = parameter_estimators.EWMAParameterEstimator(asset_prices_series)\n",
    "print('Optimal value for λ when using the EWMA: %.5f' % ch10_ewma.lamda)"
   ]
  },
  {
   "cell_type": "markdown",
   "id": "smaller-austria",
   "metadata": {},
   "source": [
    "#### Estimating the &omega;, &alpha;, and &beta; parameters for GARCH(1, 1)\n",
    "This takes much longer than the EWMA estimator given that we need to solve a bounded and constrained optimization problem in three parameters as opposed to just a bounded optimization in one variable without any constraints for EWMA."
   ]
  },
  {
   "cell_type": "code",
   "execution_count": 5,
   "id": "shaped-christmas",
   "metadata": {},
   "outputs": [
    {
     "name": "stderr",
     "output_type": "stream",
     "text": [
      "/usr/local/lib/python3.9/site-packages/scipy/optimize/_hessian_update_strategy.py:182: UserWarning: delta_grad == 0.0. Check if the approximated function is linear. If the function is linear better results can be obtained by defining the Hessian as zero instead of using quasi-Newton approximations.\n",
      "  warn('delta_grad == 0.0. Check if the approximated '\n"
     ]
    },
    {
     "name": "stdout",
     "output_type": "stream",
     "text": [
      "Objective function: 11857.54490 after 108 iterations\n",
      "Optimal values for GARCH(1, 1) parameters:\n",
      "\tω=0.000000293641, α=0.04649, β=0.94730\n"
     ]
    }
   ],
   "source": [
    "ch10_garch = parameter_estimators.GARCHParameterEstimator(asset_prices_series)\n",
    "print('Optimal values for GARCH(1, 1) parameters:\\n\\tω=%.12f, α=%.5f, β=%.5f'\n",
    "      % (ch10_garch.omega, ch10_garch.alpha, ch10_garch.beta))"
   ]
  },
  {
   "cell_type": "code",
   "execution_count": null,
   "id": "gross-solid",
   "metadata": {},
   "outputs": [],
   "source": []
  }
 ],
 "metadata": {
  "kernelspec": {
   "display_name": "Python 3",
   "language": "python",
   "name": "python3"
  },
  "language_info": {
   "codemirror_mode": {
    "name": "ipython",
    "version": 3
   },
   "file_extension": ".py",
   "mimetype": "text/x-python",
   "name": "python",
   "nbconvert_exporter": "python",
   "pygments_lexer": "ipython3",
   "version": "3.9.0"
  }
 },
 "nbformat": 4,
 "nbformat_minor": 5
}
