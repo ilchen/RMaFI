{
 "cells": [
  {
   "cell_type": "markdown",
   "id": "assured-immigration",
   "metadata": {},
   "source": [
    "## Correlations and Copulas Exercises\n",
    "This notebook implements the more exercises involving Gaussian copulas"
   ]
  },
  {
   "cell_type": "code",
   "execution_count": 1,
   "id": "fundamental-retirement",
   "metadata": {},
   "outputs": [],
   "source": [
    "import numpy as np\n",
    "import pandas as pd\n",
    "import locale\n",
    "from scipy.stats import uniform\n",
    "from scipy.stats import multivariate_normal\n",
    "from scipy.stats import norm\n",
    "from scipy.stats import triang\n",
    "from math import sqrt"
   ]
  },
  {
   "cell_type": "code",
   "execution_count": 2,
   "id": "removed-manitoba",
   "metadata": {},
   "outputs": [
    {
     "data": {
      "text/plain": [
       "'en_US.UTF-8'"
      ]
     },
     "execution_count": 2,
     "metadata": {},
     "output_type": "execute_result"
    }
   ],
   "source": [
    "locale.setlocale(locale.LC_ALL, '')"
   ]
  },
  {
   "cell_type": "markdown",
   "id": "productive-picnic",
   "metadata": {},
   "source": [
    "#### Exercise 11.8\n",
    "Answers from the textbook\n",
    "\n",
    " _ | 0.25 | 0.5 | 0.75\n",
    "--- | --- | --- | ---\n",
    "**0.25**|0.095|0.163|0.216\n",
    "**0.5**|0.163|0.298|0.413\n",
    "**0.75**|0.216|0.413|0.595"
   ]
  },
  {
   "cell_type": "code",
   "execution_count": 3,
   "id": "stock-checklist",
   "metadata": {},
   "outputs": [],
   "source": [
    "# V1 is uniform [0, 1], V2 is iniform [0, 1]\n",
    "# Gaussian copula correlation between V1 and V2 is 0.3\n",
    "u1u2_bivar = multivariate_normal(cov=[[1, .3],[.3, 1]])\n",
    "uniform_obj = uniform()\n",
    "normal_obj = norm()\n",
    "quantiles = [.25, .5, .75]"
   ]
  },
  {
   "cell_type": "code",
   "execution_count": 4,
   "id": "characteristic-backing",
   "metadata": {},
   "outputs": [],
   "source": [
    "# Maps 'x' percentile to percentile from the uniform [0, 1] to the standard normal distribution\n",
    "from_uniform_to_normal = lambda x: normal_obj.ppf(uniform_obj.cdf(x))"
   ]
  },
  {
   "cell_type": "code",
   "execution_count": 5,
   "id": "veterinary-cutting",
   "metadata": {},
   "outputs": [],
   "source": [
    "# Let's map uniformly distributed values to those distributed using the standard normal distribution\n",
    "mapped_quantiles = list(map(from_uniform_to_normal, quantiles))"
   ]
  },
  {
   "cell_type": "code",
   "execution_count": 6,
   "id": "committed-brand",
   "metadata": {},
   "outputs": [],
   "source": [
    "# Constucting a cumulative distribution table as a numpy matrix\n",
    "l = len(quantiles)\n",
    "cum_matrix = np.empty((l, l), dtype=np.float64)\n",
    "for i in range(l):\n",
    "    for j in range(l):\n",
    "        cum_matrix[i, j] = u1u2_bivar.cdf([mapped_quantiles[i], mapped_quantiles[j]])"
   ]
  },
  {
   "cell_type": "code",
   "execution_count": 7,
   "id": "figured-dependence",
   "metadata": {},
   "outputs": [
    {
     "data": {
      "text/html": [
       "<div>\n",
       "<style scoped>\n",
       "    .dataframe tbody tr th:only-of-type {\n",
       "        vertical-align: middle;\n",
       "    }\n",
       "\n",
       "    .dataframe tbody tr th {\n",
       "        vertical-align: top;\n",
       "    }\n",
       "\n",
       "    .dataframe thead th {\n",
       "        text-align: right;\n",
       "    }\n",
       "</style>\n",
       "<table border=\"1\" class=\"dataframe\">\n",
       "  <thead>\n",
       "    <tr style=\"text-align: right;\">\n",
       "      <th></th>\n",
       "      <th>0.25</th>\n",
       "      <th>0.50</th>\n",
       "      <th>0.75</th>\n",
       "    </tr>\n",
       "  </thead>\n",
       "  <tbody>\n",
       "    <tr>\n",
       "      <th>0.25</th>\n",
       "      <td>0.095103</td>\n",
       "      <td>0.163347</td>\n",
       "      <td>0.215757</td>\n",
       "    </tr>\n",
       "    <tr>\n",
       "      <th>0.50</th>\n",
       "      <td>0.163347</td>\n",
       "      <td>0.298493</td>\n",
       "      <td>0.413347</td>\n",
       "    </tr>\n",
       "    <tr>\n",
       "      <th>0.75</th>\n",
       "      <td>0.215757</td>\n",
       "      <td>0.413347</td>\n",
       "      <td>0.595103</td>\n",
       "    </tr>\n",
       "  </tbody>\n",
       "</table>\n",
       "</div>"
      ],
      "text/plain": [
       "          0.25      0.50      0.75\n",
       "0.25  0.095103  0.163347  0.215757\n",
       "0.50  0.163347  0.298493  0.413347\n",
       "0.75  0.215757  0.413347  0.595103"
      ]
     },
     "execution_count": 7,
     "metadata": {},
     "output_type": "execute_result"
    }
   ],
   "source": [
    "# Converting to a dataframe for ease of display\n",
    "cum_matrix_df = pd.DataFrame(cum_matrix, index=quantiles, columns=quantiles)\n",
    "cum_matrix_df"
   ]
  },
  {
   "cell_type": "markdown",
   "id": "representative-modeling",
   "metadata": {},
   "source": [
    "#### Exercise 11.12\n",
    "Answer from the textbook:"
   ]
  },
  {
   "cell_type": "code",
   "execution_count": 8,
   "id": "transsexual-possession",
   "metadata": {},
   "outputs": [
    {
     "data": {
      "text/html": [
       "<div>\n",
       "<style scoped>\n",
       "    .dataframe tbody tr th:only-of-type {\n",
       "        vertical-align: middle;\n",
       "    }\n",
       "\n",
       "    .dataframe tbody tr th {\n",
       "        vertical-align: top;\n",
       "    }\n",
       "\n",
       "    .dataframe thead th {\n",
       "        text-align: right;\n",
       "    }\n",
       "</style>\n",
       "<table border=\"1\" class=\"dataframe\">\n",
       "  <thead>\n",
       "    <tr style=\"text-align: right;\">\n",
       "      <th></th>\n",
       "      <th>0.1</th>\n",
       "      <th>0.2</th>\n",
       "      <th>0.3</th>\n",
       "      <th>0.4</th>\n",
       "      <th>0.5</th>\n",
       "      <th>0.6</th>\n",
       "      <th>0.7</th>\n",
       "      <th>0.8</th>\n",
       "      <th>0.9</th>\n",
       "    </tr>\n",
       "  </thead>\n",
       "  <tbody>\n",
       "    <tr>\n",
       "      <th>0.1</th>\n",
       "      <td>0.006213</td>\n",
       "      <td>0.016789</td>\n",
       "      <td>0.027563</td>\n",
       "      <td>0.036870</td>\n",
       "      <td>0.043905</td>\n",
       "      <td>0.047756</td>\n",
       "      <td>0.049315</td>\n",
       "      <td>0.049857</td>\n",
       "      <td>0.049988</td>\n",
       "    </tr>\n",
       "    <tr>\n",
       "      <th>0.2</th>\n",
       "      <td>0.013233</td>\n",
       "      <td>0.043060</td>\n",
       "      <td>0.080730</td>\n",
       "      <td>0.120178</td>\n",
       "      <td>0.156425</td>\n",
       "      <td>0.180803</td>\n",
       "      <td>0.192954</td>\n",
       "      <td>0.198182</td>\n",
       "      <td>0.199804</td>\n",
       "    </tr>\n",
       "    <tr>\n",
       "      <th>0.3</th>\n",
       "      <td>0.017058</td>\n",
       "      <td>0.061219</td>\n",
       "      <td>0.123979</td>\n",
       "      <td>0.197462</td>\n",
       "      <td>0.273413</td>\n",
       "      <td>0.331430</td>\n",
       "      <td>0.364406</td>\n",
       "      <td>0.380674</td>\n",
       "      <td>0.386608</td>\n",
       "    </tr>\n",
       "    <tr>\n",
       "      <th>0.4</th>\n",
       "      <td>0.018708</td>\n",
       "      <td>0.070618</td>\n",
       "      <td>0.149407</td>\n",
       "      <td>0.247983</td>\n",
       "      <td>0.357611</td>\n",
       "      <td>0.448508</td>\n",
       "      <td>0.504860</td>\n",
       "      <td>0.535367</td>\n",
       "      <td>0.547817</td>\n",
       "    </tr>\n",
       "    <tr>\n",
       "      <th>0.5</th>\n",
       "      <td>0.019465</td>\n",
       "      <td>0.075617</td>\n",
       "      <td>0.164438</td>\n",
       "      <td>0.280647</td>\n",
       "      <td>0.416804</td>\n",
       "      <td>0.536791</td>\n",
       "      <td>0.616311</td>\n",
       "      <td>0.662648</td>\n",
       "      <td>0.683367</td>\n",
       "    </tr>\n",
       "    <tr>\n",
       "      <th>0.6</th>\n",
       "      <td>0.019804</td>\n",
       "      <td>0.078182</td>\n",
       "      <td>0.172954</td>\n",
       "      <td>0.300803</td>\n",
       "      <td>0.456425</td>\n",
       "      <td>0.600178</td>\n",
       "      <td>0.700730</td>\n",
       "      <td>0.763060</td>\n",
       "      <td>0.793233</td>\n",
       "    </tr>\n",
       "    <tr>\n",
       "      <th>0.7</th>\n",
       "      <td>0.019942</td>\n",
       "      <td>0.079384</td>\n",
       "      <td>0.177371</td>\n",
       "      <td>0.312215</td>\n",
       "      <td>0.480852</td>\n",
       "      <td>0.642312</td>\n",
       "      <td>0.760291</td>\n",
       "      <td>0.837387</td>\n",
       "      <td>0.877460</td>\n",
       "    </tr>\n",
       "    <tr>\n",
       "      <th>0.8</th>\n",
       "      <td>0.019988</td>\n",
       "      <td>0.079857</td>\n",
       "      <td>0.179315</td>\n",
       "      <td>0.317756</td>\n",
       "      <td>0.493905</td>\n",
       "      <td>0.666870</td>\n",
       "      <td>0.797563</td>\n",
       "      <td>0.886789</td>\n",
       "      <td>0.936213</td>\n",
       "    </tr>\n",
       "    <tr>\n",
       "      <th>0.9</th>\n",
       "      <td>0.019999</td>\n",
       "      <td>0.079987</td>\n",
       "      <td>0.179926</td>\n",
       "      <td>0.319719</td>\n",
       "      <td>0.499119</td>\n",
       "      <td>0.677826</td>\n",
       "      <td>0.815827</td>\n",
       "      <td>0.913117</td>\n",
       "      <td>0.969925</td>\n",
       "    </tr>\n",
       "  </tbody>\n",
       "</table>\n",
       "</div>"
      ],
      "text/plain": [
       "          0.1       0.2       0.3       0.4       0.5       0.6       0.7  \\\n",
       "0.1  0.006213  0.016789  0.027563  0.036870  0.043905  0.047756  0.049315   \n",
       "0.2  0.013233  0.043060  0.080730  0.120178  0.156425  0.180803  0.192954   \n",
       "0.3  0.017058  0.061219  0.123979  0.197462  0.273413  0.331430  0.364406   \n",
       "0.4  0.018708  0.070618  0.149407  0.247983  0.357611  0.448508  0.504860   \n",
       "0.5  0.019465  0.075617  0.164438  0.280647  0.416804  0.536791  0.616311   \n",
       "0.6  0.019804  0.078182  0.172954  0.300803  0.456425  0.600178  0.700730   \n",
       "0.7  0.019942  0.079384  0.177371  0.312215  0.480852  0.642312  0.760291   \n",
       "0.8  0.019988  0.079857  0.179315  0.317756  0.493905  0.666870  0.797563   \n",
       "0.9  0.019999  0.079987  0.179926  0.319719  0.499119  0.677826  0.815827   \n",
       "\n",
       "          0.8       0.9  \n",
       "0.1  0.049857  0.049988  \n",
       "0.2  0.198182  0.199804  \n",
       "0.3  0.380674  0.386608  \n",
       "0.4  0.535367  0.547817  \n",
       "0.5  0.662648  0.683367  \n",
       "0.6  0.763060  0.793233  \n",
       "0.7  0.837387  0.877460  \n",
       "0.8  0.886789  0.936213  \n",
       "0.9  0.913117  0.969925  "
      ]
     },
     "execution_count": 8,
     "metadata": {},
     "output_type": "execute_result"
    }
   ],
   "source": [
    "# First let's reconstruct the distributions of V1 and V2\n",
    "triang1_obj = triang(c=.2)\n",
    "triang2_obj = triang(c=.5)\n",
    "\n",
    "# Copula correlation between V1 and V2\n",
    "ρ = .5\n",
    "\n",
    "u1u2_bivar = multivariate_normal(cov=[[1, ρ],[ρ, 1]])\n",
    "\n",
    "\n",
    "# Maps 'x' percentile to percentile from a triangular to the standard normal distribution\n",
    "from_v1_to_u1 = lambda x: normal_obj.ppf(triang1_obj.cdf(x))\n",
    "from_v2_to_u2 = lambda x: normal_obj.ppf(triang2_obj.cdf(x))\n",
    "\n",
    "# pdf of V2 conditional on V1\n",
    "pdf_V2_conditional_on_V1 = lambda v2, v1: u1u2_bivar.pdf([from_v1_to_u1(v1), from_v2_to_u2(v2)]) / triang1_obj.pdf(v1)\n",
    "\n",
    "# Table 11.3\n",
    "quantiles = [i / 10 for i in range(1, 10)]\n",
    "\n",
    "mapped_v1_quantiles = list(map(from_v1_to_u1, quantiles))\n",
    "mapped_v2_quantiles = list(map(from_v2_to_u2, quantiles))\n",
    "# Constucting a cumulative distribution table as a numpy matrix\n",
    "l = len(quantiles)\n",
    "cum_matrix = np.empty((l, l), dtype=np.float64)\n",
    "for i in range(l):\n",
    "    for j in range(l):\n",
    "        cum_matrix[i, j] = u1u2_bivar.cdf([mapped_v1_quantiles[i], mapped_v2_quantiles[j]])\n",
    "        \n",
    "pd.DataFrame(cum_matrix, index=quantiles, columns=quantiles)"
   ]
  },
  {
   "cell_type": "markdown",
   "id": "nasty-language",
   "metadata": {},
   "source": [
    "#### Exercise 11.14\n",
    "Answer from the textbook: $42.68 million"
   ]
  },
  {
   "cell_type": "code",
   "execution_count": 9,
   "id": "judicial-works",
   "metadata": {},
   "outputs": [],
   "source": [
    "# Total loans outstanding in $\n",
    "L = 500_000_000\n",
    "\n",
    "# Commond probability of default among loans\n",
    "common_pd = .015\n",
    "\n",
    "# Recovery rate of 30%\n",
    "lgd = .7\n",
    "\n",
    "# Copula correlation\n",
    "ρ = .2\n",
    "\n",
    "VaR_conf = .995"
   ]
  },
  {
   "cell_type": "code",
   "execution_count": 10,
   "id": "exotic-volume",
   "metadata": {},
   "outputs": [],
   "source": [
    "# Worst case default rate\n",
    "wcdr = normal_obj.cdf(\n",
    "    (normal_obj.ppf(common_pd) + sqrt(ρ) * normal_obj.ppf(VaR_conf)) / sqrt(1 - ρ))\n",
    "var = L * lgd * wcdr"
   ]
  },
  {
   "cell_type": "code",
   "execution_count": 11,
   "id": "vietnamese-egyptian",
   "metadata": {},
   "outputs": [
    {
     "name": "stdout",
     "output_type": "stream",
     "text": [
      "Exercise 11.14. One year VaR with a confidence level of 99.5%: $44,622,694.10\n"
     ]
    }
   ],
   "source": [
    "print(\"Exercise 11.14. One year VaR with a confidence level of %2.1f%%: %s\"\n",
    "              % (VaR_conf * 100, locale.currency(var, grouping=True)))"
   ]
  },
  {
   "cell_type": "markdown",
   "id": "informative-stamp",
   "metadata": {},
   "source": [
    "#### Exercise 11.15\n",
    "This is a fairly complex exercise where I'll pull in TensorFlow 2 to tackle the optimization problem\n",
    "\n",
    "Answers from the textbook: PD=3.92% and ρ=0.1118"
   ]
  },
  {
   "cell_type": "code",
   "execution_count": 12,
   "id": "professional-leonard",
   "metadata": {},
   "outputs": [
    {
     "name": "stdout",
     "output_type": "stream",
     "text": [
      "INFO:tensorflow:Enabling eager execution\n",
      "INFO:tensorflow:Enabling v2 tensorshape\n",
      "INFO:tensorflow:Enabling resource variables\n",
      "INFO:tensorflow:Enabling tensor equality\n",
      "INFO:tensorflow:Enabling control flow v2\n"
     ]
    }
   ],
   "source": [
    "import tensorflow as tf\n",
    "import tensorflow_probability as tfp\n",
    "\n",
    "import matplotlib.pyplot as plt"
   ]
  },
  {
   "cell_type": "code",
   "execution_count": 13,
   "id": "varying-chess",
   "metadata": {},
   "outputs": [],
   "source": [
    "# Annual default rates over 10 years\n",
    "drs = np.array([.01, .09, .02, .03, .05, .01, .06, .07, .04, .01], dtype=np.float64)"
   ]
  },
  {
   "cell_type": "code",
   "execution_count": 14,
   "id": "automatic-compromise",
   "metadata": {},
   "outputs": [],
   "source": [
    "# Using TensorFlow to look for optimal values of the copula correlation and probability of default using\n",
    "# the maximum likelyhood method\n",
    "ρ = tf.Variable(.11, dtype=tf.float64)\n",
    "pd = tf.Variable(.013, dtype=tf.float64)\n",
    "\n",
    "tfd = tfp.distributions\n",
    "\n",
    "# Define a single scalar Normal distribution.\n",
    "tf_normal_obj = tfd.Normal(loc=tf.constant(0., dtype=tf.float64), scale=tf.constant(1., dtype=tf.float64))"
   ]
  },
  {
   "cell_type": "code",
   "execution_count": 15,
   "id": "headed-people",
   "metadata": {},
   "outputs": [],
   "source": [
    "# Changing the sign due to Tensorflow's optimizers not having a 'maximize' method.\n",
    "# When applying a function to a Tensor, the function must be a TensorFlow function, hence tf_normal_obj\n",
    "# instead of normal_obj from scipy\n",
    "probability_ln = lambda: tf.reduce_sum(-tf.math.log(tf.math.sqrt((1 - ρ)/ρ) * tf.math.exp(.5 * (\n",
    "                             np.square(normal_obj.ppf(drs)) -\n",
    "                              tf.math.square((tf.math.sqrt(1 - ρ)*normal_obj.ppf(drs) - tf_normal_obj.quantile(pd))/tf.math.sqrt(ρ)) )\n",
    "                            )) )"
   ]
  },
  {
   "cell_type": "code",
   "execution_count": 16,
   "id": "competitive-leone",
   "metadata": {},
   "outputs": [
    {
     "name": "stdout",
     "output_type": "stream",
     "text": [
      "Cost initially: -13.6580156\n",
      "Starting values: ρ = 0.1100000, pd = 1.3000000%\n"
     ]
    }
   ],
   "source": [
    "print(\"Cost initially: %.7f\" % probability_ln())\n",
    "print(\"Starting values: \\u03C1 = %.7f, pd = %.7f%%\" % (ρ, pd*100))"
   ]
  },
  {
   "cell_type": "code",
   "execution_count": 17,
   "id": "liquid-steam",
   "metadata": {},
   "outputs": [],
   "source": [
    "opt = tf.keras.optimizers.Adam()\n",
    "num_iter = 5000\n",
    "\n",
    "step = 100\n",
    "x = np.arange(0, num_iter // step)\n",
    "y = np.zeros((3, num_iter // step))\n",
    "\n",
    "for i in range(num_iter):\n",
    "    opt.minimize(probability_ln, [ρ, pd])\n",
    "    if i % step == 0:\n",
    "        y[0, i // step] = probability_ln()\n",
    "        y[1, i // step] = ρ\n",
    "        y[2, i // step] = pd"
   ]
  },
  {
   "cell_type": "code",
   "execution_count": 18,
   "id": "oriental-complaint",
   "metadata": {},
   "outputs": [
    {
     "data": {
      "image/png": "[encoded data removed]",
      "text/plain": [
       "<Figure size 1296x720 with 3 Axes>"
      ]
     },
     "metadata": {
      "needs_background": "light"
     },
     "output_type": "display_data"
    }
   ],
   "source": [
    "fig, ax = plt.subplots(2, 2, figsize=(18, 10))\n",
    "ax[0, 0].plot(x, y[0], 'g')\n",
    "ax[0, 0].set_ylabel(\"Cost\")\n",
    "ax[0, 0].set_xlabel('Iteration * %u' % step)\n",
    "ax[0, 0].grid()\n",
    "ax[0, 1].plot(x, y[1], 'b--')\n",
    "ax[0, 1].set_ylabel(\"\\u03C1\")\n",
    "ax[0, 1].set_xlabel('Iteration * %u' % step)\n",
    "ax[0, 1].grid()\n",
    "ax[1, 0].plot(x, y[2], 'k.')\n",
    "ax[1, 0].set_ylabel(\"pd\")\n",
    "ax[1, 0].set_xlabel('Iteration * %u' % step)\n",
    "ax[1, 0].grid()\n",
    "fig.delaxes(ax[1, 1])"
   ]
  },
  {
   "cell_type": "code",
   "execution_count": 19,
   "id": "operating-stand",
   "metadata": {},
   "outputs": [
    {
     "name": "stdout",
     "output_type": "stream",
     "text": [
      "Cost after running optimizer for 5000 iterations: -23.4408813\n",
      "New values: ρ = 0.1117741, pd = 3.9157100%\n"
     ]
    }
   ],
   "source": [
    "print(\"Cost after running optimizer for %d iterations: %.7f\" % (num_iter, probability_ln()))\n",
    "print(\"New values: \\u03C1 = %.7f, pd = %.7f%%\" % (ρ, pd*100))"
   ]
  },
  {
   "cell_type": "code",
   "execution_count": 20,
   "id": "renewable-democracy",
   "metadata": {},
   "outputs": [],
   "source": [
    "def  drPdf(ρ, pd, drs):\n",
    "    ''' This function calculates the probability density function for annual default rates\n",
    "    :param ρ: the copula correlation to use, it must be a scalar\n",
    "    :param pd: the probability of default to use, it must be a scalar\n",
    "    :param drs: the annual default rates, it must be a numpy array of floating point numbers in the range (0, 1)\n",
    "    '''\n",
    "    return  np.sqrt((1 - ρ)/ρ) * np.exp(.5 * (\n",
    "                             np.square(normal_obj.ppf(drs)) -\n",
    "                             np.square((np.sqrt(1 - ρ)*normal_obj.ppf(drs) - normal_obj.ppf(pd))/np.sqrt(ρ))\n",
    "                               ))\n",
    "                            "
   ]
  },
  {
   "cell_type": "code",
   "execution_count": 21,
   "id": "growing-childhood",
   "metadata": {},
   "outputs": [
    {
     "data": {
      "text/plain": [
       "Text(0.5, 0, 'Default rate')"
      ]
     },
     "execution_count": 21,
     "metadata": {},
     "output_type": "execute_result"
    },
    {
     "data": {
      "image/png": "[encoded data removed]",
      "text/plain": [
       "<Figure size 1440x720 with 1 Axes>"
      ]
     },
     "metadata": {
      "needs_background": "light"
     },
     "output_type": "display_data"
    }
   ],
   "source": [
    "x = np.arange(5e-4, .2, 5e-4)\n",
    "fig = plt.figure(figsize=(20, 10))\n",
    "ax = fig.add_subplot(1, 1, 1)\n",
    "ax.plot(x, drPdf(ρ, pd, x), label=\"Default rate pdf\", linewidth=1, color='b')\n",
    "ax.legend(loc='best')\n",
    "ax.grid(True)\n",
    "ax.set_xticks(np.arange(0, .2, .01))\n",
    "ax.set_title('Probability Distribution of Default Rate with \\u03C1 = %.7f, pd = %.7f%%' % (ρ, pd*100))\n",
    "ax.set_xlabel('Default rate')"
   ]
  },
  {
   "cell_type": "code",
   "execution_count": null,
   "id": "micro-milton",
   "metadata": {},
   "outputs": [],
   "source": []
  }
 ],
 "metadata": {
  "kernelspec": {
   "display_name": "Python 3",
   "language": "python",
   "name": "python3"
  },
  "language_info": {
   "codemirror_mode": {
    "name": "ipython",
    "version": 3
   },
   "file_extension": ".py",
   "mimetype": "text/x-python",
   "name": "python",
   "nbconvert_exporter": "python",
   "pygments_lexer": "ipython3",
   "version": "3.9.0"
  }
 },
 "nbformat": 4,
 "nbformat_minor": 5
}
