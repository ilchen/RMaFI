{
 "cells": [
  {
   "cell_type": "markdown",
   "id": "incredible-astronomy",
   "metadata": {},
   "source": [
    "## Correlations and Copulas Exercises\n",
    "This notebook implements the more exercises involving Gaussian copulas"
   ]
  },
  {
   "cell_type": "code",
   "execution_count": 1,
   "id": "expensive-allen",
   "metadata": {},
   "outputs": [],
   "source": [
    "import numpy as np\n",
    "from pandas import Series, DataFrame\n",
    "import pandas as pd\n",
    "import locale\n",
    "from scipy.stats import uniform\n",
    "from scipy.stats import multivariate_normal\n",
    "from scipy.stats import norm\n",
    "from math import sqrt"
   ]
  },
  {
   "cell_type": "code",
   "execution_count": 2,
   "id": "treated-morrison",
   "metadata": {},
   "outputs": [
    {
     "data": {
      "text/plain": [
       "'en_US.UTF-8'"
      ]
     },
     "execution_count": 2,
     "metadata": {},
     "output_type": "execute_result"
    }
   ],
   "source": [
    "locale.setlocale(locale.LC_ALL, '')"
   ]
  },
  {
   "cell_type": "markdown",
   "id": "interstate-preserve",
   "metadata": {},
   "source": [
    "#### Exercise 11.8\n",
    "Answers from the textbook\n",
    "\n",
    " _ | 0.25 | 0.5 | 0.75\n",
    "--- | --- | --- | ---\n",
    "**0.25**|0.095|0.163|0.216\n",
    "**0.5**|0.163|0.298|0.413\n",
    "**0.75**|0.216|0.413|0.595"
   ]
  },
  {
   "cell_type": "code",
   "execution_count": 3,
   "id": "unsigned-waste",
   "metadata": {},
   "outputs": [],
   "source": [
    "# V1 is uniform [0, 1], V2 is iniform [0, 1]\n",
    "# Gaussian copula correlation between V1 and V2 is 0.3\n",
    "u1u2_bivar = multivariate_normal(cov=[[1, .3],[.3, 1]])\n",
    "uniform_obj = uniform()\n",
    "normal_obj = norm()\n",
    "quantiles = [.25, .5, .75]"
   ]
  },
  {
   "cell_type": "code",
   "execution_count": 4,
   "id": "cleared-customer",
   "metadata": {},
   "outputs": [],
   "source": [
    "# Maps 'x' percentile to percentile from the uniform [0, 1] to the standard normal distribution\n",
    "from_uniform_to_normal = lambda x: normal_obj.ppf(uniform_obj.cdf(x))"
   ]
  },
  {
   "cell_type": "code",
   "execution_count": 5,
   "id": "secondary-choir",
   "metadata": {},
   "outputs": [],
   "source": [
    "# Let's map uniformly distributed values to those distributed using the standard normal distribution\n",
    "mapped_quantiles = list(map(from_uniform_to_normal, quantiles))"
   ]
  },
  {
   "cell_type": "code",
   "execution_count": 6,
   "id": "pending-digit",
   "metadata": {},
   "outputs": [],
   "source": [
    "# Constucting a cumulative distribution table as a numpy matrix\n",
    "l = len(quantiles)\n",
    "cum_matrix = np.empty((l, l), dtype=np.float64)\n",
    "for i in range(l):\n",
    "    for j in range(l):\n",
    "        cum_matrix[i, j] = u1u2_bivar.cdf([mapped_quantiles[i], mapped_quantiles[j]])"
   ]
  },
  {
   "cell_type": "code",
   "execution_count": 7,
   "id": "lesbian-camcorder",
   "metadata": {},
   "outputs": [
    {
     "data": {
      "text/html": [
       "<div>\n",
       "<style scoped>\n",
       "    .dataframe tbody tr th:only-of-type {\n",
       "        vertical-align: middle;\n",
       "    }\n",
       "\n",
       "    .dataframe tbody tr th {\n",
       "        vertical-align: top;\n",
       "    }\n",
       "\n",
       "    .dataframe thead th {\n",
       "        text-align: right;\n",
       "    }\n",
       "</style>\n",
       "<table border=\"1\" class=\"dataframe\">\n",
       "  <thead>\n",
       "    <tr style=\"text-align: right;\">\n",
       "      <th>V2</th>\n",
       "      <th>0.25</th>\n",
       "      <th>0.50</th>\n",
       "      <th>0.75</th>\n",
       "    </tr>\n",
       "    <tr>\n",
       "      <th>V1</th>\n",
       "      <th></th>\n",
       "      <th></th>\n",
       "      <th></th>\n",
       "    </tr>\n",
       "  </thead>\n",
       "  <tbody>\n",
       "    <tr>\n",
       "      <th>0.25</th>\n",
       "      <td>0.095103</td>\n",
       "      <td>0.163347</td>\n",
       "      <td>0.215757</td>\n",
       "    </tr>\n",
       "    <tr>\n",
       "      <th>0.50</th>\n",
       "      <td>0.163347</td>\n",
       "      <td>0.298493</td>\n",
       "      <td>0.413347</td>\n",
       "    </tr>\n",
       "    <tr>\n",
       "      <th>0.75</th>\n",
       "      <td>0.215757</td>\n",
       "      <td>0.413347</td>\n",
       "      <td>0.595103</td>\n",
       "    </tr>\n",
       "  </tbody>\n",
       "</table>\n",
       "</div>"
      ],
      "text/plain": [
       "V2        0.25      0.50      0.75\n",
       "V1                                \n",
       "0.25  0.095103  0.163347  0.215757\n",
       "0.50  0.163347  0.298493  0.413347\n",
       "0.75  0.215757  0.413347  0.595103"
      ]
     },
     "execution_count": 7,
     "metadata": {},
     "output_type": "execute_result"
    }
   ],
   "source": [
    "# Converting to a dataframe for ease of display\n",
    "cum_matrix_df = pd.DataFrame(cum_matrix, index=quantiles, columns=quantiles)\n",
    "cum_matrix_df = cum_matrix_df.rename_axis('V1')\n",
    "cum_matrix_df.columns.name = 'V2'\n",
    "cum_matrix_df"
   ]
  },
  {
   "cell_type": "markdown",
   "id": "corrected-islam",
   "metadata": {},
   "source": [
    "#### Exercise 11.14\n",
    "Answer from the textbook: $42.68 million"
   ]
  },
  {
   "cell_type": "code",
   "execution_count": 8,
   "id": "imposed-cassette",
   "metadata": {},
   "outputs": [],
   "source": [
    "# Total loans outstanding in $\n",
    "L = 500_000_000\n",
    "\n",
    "# Commond probability of default among loans\n",
    "common_pd = .015\n",
    "\n",
    "# Recovery rate of 30%\n",
    "lgd = .7\n",
    "\n",
    "# Copula correlation\n",
    "ρ = .2\n",
    "\n",
    "VaR_conf = .995"
   ]
  },
  {
   "cell_type": "code",
   "execution_count": 9,
   "id": "identical-completion",
   "metadata": {},
   "outputs": [],
   "source": [
    "# Worst case default rate\n",
    "wcdr = normal_obj.cdf(\n",
    "    (normal_obj.ppf(common_pd) + sqrt(ρ) * normal_obj.ppf(VaR_conf)) / sqrt(1 - ρ))\n",
    "var = L * lgd * wcdr"
   ]
  },
  {
   "cell_type": "code",
   "execution_count": 10,
   "id": "fatty-archive",
   "metadata": {},
   "outputs": [
    {
     "name": "stdout",
     "output_type": "stream",
     "text": [
      "Exercise 11.14. One year VaR with a confidence level of 99.5%: $44,622,694.10\n"
     ]
    }
   ],
   "source": [
    "print(\"Exercise 11.14. One year VaR with a confidence level of %2.1f%%: %s\"\n",
    "              % (VaR_conf * 100, locale.currency(var, grouping=True)))"
   ]
  },
  {
   "cell_type": "markdown",
   "id": "helpful-announcement",
   "metadata": {},
   "source": [
    "#### Exercise 11.15\n",
    "This is a fairly complex exercise where I'll pull in TensorFlow 2 to tackle the optimization problem\n",
    "\n",
    "Cost after running optimizer for 40000 iterations: -23.4408813\n",
    "New values: ρ = 0.1117741, pd = 3.9157092%"
   ]
  },
  {
   "cell_type": "code",
   "execution_count": 11,
   "id": "drawn-samuel",
   "metadata": {},
   "outputs": [
    {
     "name": "stdout",
     "output_type": "stream",
     "text": [
      "INFO:tensorflow:Enabling eager execution\n",
      "INFO:tensorflow:Enabling v2 tensorshape\n",
      "INFO:tensorflow:Enabling resource variables\n",
      "INFO:tensorflow:Enabling tensor equality\n",
      "INFO:tensorflow:Enabling control flow v2\n"
     ]
    }
   ],
   "source": [
    "import tensorflow as tf\n",
    "import tensorflow_probability as tfp\n",
    "\n",
    "import matplotlib.pyplot as plt"
   ]
  },
  {
   "cell_type": "code",
   "execution_count": 12,
   "id": "solved-timing",
   "metadata": {},
   "outputs": [],
   "source": [
    "# Annual default rates over 10 years\n",
    "drs = np.array([.01, .09, .02, .03, .05, .01, .06, .07, .04, .01], dtype=np.float64)"
   ]
  },
  {
   "cell_type": "code",
   "execution_count": 24,
   "id": "democratic-crash",
   "metadata": {},
   "outputs": [],
   "source": [
    "# Using TensorFlow to look for optimal values of the copula correlation and probability of default using\n",
    "# the maximum likelyhood method\n",
    "ρ = tf.Variable(.11, dtype=tf.float64)\n",
    "pd = tf.Variable(.013, dtype=tf.float64)\n",
    "\n",
    "tfd = tfp.distributions\n",
    "\n",
    "# Define a single scalar Normal distribution.\n",
    "tf_normal_obj = tfd.Normal(loc=tf.constant(0., dtype=tf.float64), scale=tf.constant(1., dtype=tf.float64))"
   ]
  },
  {
   "cell_type": "code",
   "execution_count": 25,
   "id": "sufficient-interest",
   "metadata": {},
   "outputs": [],
   "source": [
    "# Changing the sign due to Tensorflow's optimizers not having a 'maximize' method.\n",
    "# When applying a function to a Tensor, the function must be a TensorFlow function, hence tf_normal_obj\n",
    "# instead of normal_obj from scipy\n",
    "probability_ln = lambda: tf.reduce_sum(-tf.math.log(tf.math.sqrt((1 - ρ)/ρ) * tf.math.exp(.5 * (\n",
    "                             np.square(normal_obj.ppf(drs)) -\n",
    "                              tf.math.square((tf.math.sqrt(1 - ρ)*normal_obj.ppf(drs) - tf_normal_obj.quantile(pd))/tf.math.sqrt(ρ)) )\n",
    "                            )) )"
   ]
  },
  {
   "cell_type": "code",
   "execution_count": 26,
   "id": "disabled-mouse",
   "metadata": {},
   "outputs": [
    {
     "name": "stdout",
     "output_type": "stream",
     "text": [
      "Cost initially: -13.6580156\n",
      "Starting values: ρ = 0.1100000, pd = 1.3000000%\n"
     ]
    }
   ],
   "source": [
    "print(\"Cost initially: %.7f\" % probability_ln())\n",
    "print(\"Starting values: \\u03C1 = %.7f, pd = %.7f%%\" % (ρ, pd*100))"
   ]
  },
  {
   "cell_type": "code",
   "execution_count": 27,
   "id": "authentic-breathing",
   "metadata": {},
   "outputs": [],
   "source": [
    "opt = tf.keras.optimizers.Adam()\n",
    "num_iter = 20000\n",
    "\n",
    "step = 100\n",
    "x = np.arange(0, num_iter // step)\n",
    "y = np.zeros((3, num_iter // step))\n",
    "\n",
    "for i in range(num_iter):\n",
    "    opt.minimize(probability_ln, [ρ, pd])\n",
    "    if i % step == 0:\n",
    "        y[0, i // step] = probability_ln()\n",
    "        y[1, i // step] = ρ\n",
    "        y[2, i // step] = pd"
   ]
  },
  {
   "cell_type": "code",
   "execution_count": 28,
   "id": "heard-excitement",
   "metadata": {},
   "outputs": [
    {
     "data": {
      "image/png": "[encoded data removed]",
      "text/plain": [
       "<Figure size 1296x720 with 3 Axes>"
      ]
     },
     "metadata": {
      "needs_background": "light"
     },
     "output_type": "display_data"
    }
   ],
   "source": [
    "fig, ax = plt.subplots(2, 2, figsize=(18, 10))\n",
    "ax[0, 0].plot(x, y[0], 'g')\n",
    "ax[0, 0].set_ylabel(\"Cost\")\n",
    "ax[0, 0].set_xlabel('Iteration * %u' % step)\n",
    "ax[0, 0].grid()\n",
    "ax[0, 1].plot(x, y[1], 'b--')\n",
    "ax[0, 1].set_ylabel(\"\\u03C1\")\n",
    "ax[0, 1].set_xlabel('Iteration * %u' % step)\n",
    "ax[0, 1].grid()\n",
    "ax[1, 0].plot(x, y[2], 'k.')\n",
    "ax[1, 0].set_ylabel(\"pd\")\n",
    "ax[1, 0].set_xlabel('Iteration * %u' % step)\n",
    "ax[1, 0].grid()\n",
    "fig.delaxes(ax[1, 1])"
   ]
  },
  {
   "cell_type": "code",
   "execution_count": 23,
   "id": "owned-effort",
   "metadata": {},
   "outputs": [
    {
     "name": "stdout",
     "output_type": "stream",
     "text": [
      "Cost after running optimizer for 20000 iterations: -23.4408813\n",
      "New values: ρ = 0.1117741, pd = 3.9157100%\n"
     ]
    }
   ],
   "source": [
    "print(\"Cost after running optimizer for %d iterations: %.7f\" % (num_iter, probability_ln()))\n",
    "print(\"New values: \\u03C1 = %.7f, pd = %.7f%%\" % (ρ, pd*100))"
   ]
  },
  {
   "cell_type": "code",
   "execution_count": 32,
   "id": "uniform-manitoba",
   "metadata": {},
   "outputs": [],
   "source": [
    "def  drPdf(ρ, pd, drs):\n",
    "    ''' This function calculates the probability density function for annual default rates\n",
    "    :param ρ: the copula correlation to use, it must be a scalar\n",
    "    :param pd: the probability of default to use, it must be a scalar\n",
    "    :param drs: the annual default rates, it must be a numpy array\n",
    "    '''\n",
    "    return  np.sqrt((1 - ρ)/ρ) * np.exp(.5 * (\n",
    "                             np.square(normal_obj.ppf(drs)) -\n",
    "                             np.square((np.sqrt(1 - ρ)*normal_obj.ppf(drs) - normal_obj.ppf(pd))/np.sqrt(ρ))\n",
    "                               ))\n",
    "                            "
   ]
  },
  {
   "cell_type": "code",
   "execution_count": 37,
   "id": "japanese-study",
   "metadata": {},
   "outputs": [
    {
     "name": "stderr",
     "output_type": "stream",
     "text": [
      "<ipython-input-32-b31021a2f69f>:8: RuntimeWarning: invalid value encountered in subtract\n",
      "  np.square(normal_obj.ppf(drs)) -\n"
     ]
    },
    {
     "data": {
      "text/plain": [
       "Text(0.5, 0, 'Default rate')"
      ]
     },
     "execution_count": 37,
     "metadata": {},
     "output_type": "execute_result"
    },
    {
     "data": {
      "image/png": "[encoded data removed]",
      "text/plain": [
       "<Figure size 1440x720 with 1 Axes>"
      ]
     },
     "metadata": {
      "needs_background": "light"
     },
     "output_type": "display_data"
    }
   ],
   "source": [
    "x = np.arange(0, .2, .0005)\n",
    "fig = plt.figure(figsize=(20, 10))\n",
    "ax = fig.add_subplot(1, 1, 1)\n",
    "ax.plot(x, drPdf(ρ, pd, x), label=\"Default rate pdf\", linewidth=1, color='b')\n",
    "ax.legend(loc='best')\n",
    "ax.grid(True)\n",
    "ax.set_xticks(np.arange(0, .2, .01))\n",
    "ax.set_title('Probability Distribution of Default Rate with \\u03C1 = %.7f, pd = %.7f%%' % (ρ, pd*100))\n",
    "ax.set_xlabel('Default rate')"
   ]
  },
  {
   "cell_type": "code",
   "execution_count": null,
   "id": "deadly-rendering",
   "metadata": {},
   "outputs": [],
   "source": []
  }
 ],
 "metadata": {
  "kernelspec": {
   "display_name": "Python 3",
   "language": "python",
   "name": "python3"
  },
  "language_info": {
   "codemirror_mode": {
    "name": "ipython",
    "version": 3
   },
   "file_extension": ".py",
   "mimetype": "text/x-python",
   "name": "python",
   "nbconvert_exporter": "python",
   "pygments_lexer": "ipython3",
   "version": "3.9.0"
  }
 },
 "nbformat": 4,
 "nbformat_minor": 5
}
