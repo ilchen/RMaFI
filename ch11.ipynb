{
 "cells": [
  {
   "cell_type": "markdown",
   "id": "executive-accreditation",
   "metadata": {},
   "source": [
    "## Correlations and Copulas Exercises\n",
    "This notebook implements the more exercises involving Gaussian copulas"
   ]
  },
  {
   "cell_type": "code",
   "execution_count": 1,
   "id": "viral-property",
   "metadata": {},
   "outputs": [],
   "source": [
    "import numpy as np\n",
    "from pandas import Series, DataFrame\n",
    "import pandas as pd\n",
    "import locale\n",
    "from scipy.stats import uniform\n",
    "from scipy.stats import multivariate_normal\n",
    "from scipy.stats import norm"
   ]
  },
  {
   "cell_type": "markdown",
   "id": "entertaining-haven",
   "metadata": {},
   "source": [
    "#### Exercise 11.8\n",
    "Answers from the textbook\n",
    "\n",
    " _ | 0.25 | 0.5 | 0.75\n",
    "--- | --- | --- | ---\n",
    "**0.25**|0.095|0.163|0.216\n",
    "**0.5**|0.163|0.298|0.413\n",
    "**0.75**|0.216|0.413|0.595"
   ]
  },
  {
   "cell_type": "code",
   "execution_count": 2,
   "id": "naked-trout",
   "metadata": {},
   "outputs": [],
   "source": [
    "# V1 is uniform [0, 1], V2 is iniform [0, 1]\n",
    "# Gaussian copula correlation between V1 and V2 is 0.3\n",
    "u1u2_bivar = multivariate_normal(cov=[[1, .3],[.3,1]])\n",
    "uniform_obj = uniform()\n",
    "normal_obj = norm()\n",
    "quantiles = [.25, .5, .75]"
   ]
  },
  {
   "cell_type": "code",
   "execution_count": 3,
   "id": "exceptional-casino",
   "metadata": {},
   "outputs": [],
   "source": [
    "# Maps 'x' percentile to percentile from the uniform [0, 1] to the standard normal distribution\n",
    "from_uniform_to_normal = lambda x: normal_obj.ppf(uniform_obj.cdf(x))"
   ]
  },
  {
   "cell_type": "code",
   "execution_count": 4,
   "id": "similar-attempt",
   "metadata": {},
   "outputs": [],
   "source": [
    "# Let's map uniformly distributed values to those distributed using the standard normal distribution\n",
    "mapped_quantiles = list(map(from_uniform_to_normal, quantiles))"
   ]
  },
  {
   "cell_type": "code",
   "execution_count": 5,
   "id": "removable-macro",
   "metadata": {},
   "outputs": [],
   "source": [
    "# Constucting a cumulative distribution table as a numpy matrix\n",
    "l = len(quantiles)\n",
    "cum_matrix = np.empty((l, l), dtype=np.float64)\n",
    "for i in range(l):\n",
    "    for j in range(l):\n",
    "        cum_matrix[i, j] = u1u2_bivar.cdf([mapped_quantiles[i], mapped_quantiles[j]])"
   ]
  },
  {
   "cell_type": "code",
   "execution_count": 6,
   "id": "dietary-supplier",
   "metadata": {},
   "outputs": [
    {
     "data": {
      "text/html": [
       "<div>\n",
       "<style scoped>\n",
       "    .dataframe tbody tr th:only-of-type {\n",
       "        vertical-align: middle;\n",
       "    }\n",
       "\n",
       "    .dataframe tbody tr th {\n",
       "        vertical-align: top;\n",
       "    }\n",
       "\n",
       "    .dataframe thead th {\n",
       "        text-align: right;\n",
       "    }\n",
       "</style>\n",
       "<table border=\"1\" class=\"dataframe\">\n",
       "  <thead>\n",
       "    <tr style=\"text-align: right;\">\n",
       "      <th>V2</th>\n",
       "      <th>0.25</th>\n",
       "      <th>0.50</th>\n",
       "      <th>0.75</th>\n",
       "    </tr>\n",
       "    <tr>\n",
       "      <th>V1</th>\n",
       "      <th></th>\n",
       "      <th></th>\n",
       "      <th></th>\n",
       "    </tr>\n",
       "  </thead>\n",
       "  <tbody>\n",
       "    <tr>\n",
       "      <th>0.25</th>\n",
       "      <td>0.095103</td>\n",
       "      <td>0.163347</td>\n",
       "      <td>0.215757</td>\n",
       "    </tr>\n",
       "    <tr>\n",
       "      <th>0.50</th>\n",
       "      <td>0.163347</td>\n",
       "      <td>0.298493</td>\n",
       "      <td>0.413347</td>\n",
       "    </tr>\n",
       "    <tr>\n",
       "      <th>0.75</th>\n",
       "      <td>0.215757</td>\n",
       "      <td>0.413347</td>\n",
       "      <td>0.595103</td>\n",
       "    </tr>\n",
       "  </tbody>\n",
       "</table>\n",
       "</div>"
      ],
      "text/plain": [
       "V2        0.25      0.50      0.75\n",
       "V1                                \n",
       "0.25  0.095103  0.163347  0.215757\n",
       "0.50  0.163347  0.298493  0.413347\n",
       "0.75  0.215757  0.413347  0.595103"
      ]
     },
     "execution_count": 6,
     "metadata": {},
     "output_type": "execute_result"
    }
   ],
   "source": [
    "# Converting to a dataframe for ease of display\n",
    "cum_matrix_df = pd.DataFrame(cum_matrix, index=quantiles, columns=quantiles)\n",
    "cum_matrix_df = cum_matrix_df.rename_axis('V1')\n",
    "cum_matrix_df.columns.name = 'V2'\n",
    "cum_matrix_df"
   ]
  },
  {
   "cell_type": "code",
   "execution_count": null,
   "id": "powered-garlic",
   "metadata": {},
   "outputs": [],
   "source": []
  }
 ],
 "metadata": {
  "kernelspec": {
   "display_name": "Python 3",
   "language": "python",
   "name": "python3"
  },
  "language_info": {
   "codemirror_mode": {
    "name": "ipython",
    "version": 3
   },
   "file_extension": ".py",
   "mimetype": "text/x-python",
   "name": "python",
   "nbconvert_exporter": "python",
   "pygments_lexer": "ipython3",
   "version": "3.9.0"
  }
 },
 "nbformat": 4,
 "nbformat_minor": 5
}
