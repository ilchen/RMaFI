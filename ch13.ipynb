{
 "cells": [
  {
   "cell_type": "markdown",
   "id": "loose-newport",
   "metadata": {},
   "source": [
    "## Historical Simulation  exercises\n",
    "This notebook implements solutions to all the historical simulation exercises that don't utilize _Extreme value theory_ (EVT)."
   ]
  },
  {
   "cell_type": "code",
   "execution_count": 2,
   "id": "exempt-raise",
   "metadata": {},
   "outputs": [],
   "source": [
    "from ch13 import hist_simulation"
   ]
  },
  {
   "cell_type": "code",
   "execution_count": 3,
   "id": "statutory-undergraduate",
   "metadata": {},
   "outputs": [],
   "source": [
    "hs = hist_simulation.HistSimulation('./ext/VaRExampleRMFI3eHistoricalSimulation.xls', 1e4)"
   ]
  },
  {
   "cell_type": "code",
   "execution_count": 4,
   "id": "ranging-modification",
   "metadata": {},
   "outputs": [
    {
     "data": {
      "text/plain": [
       "'en_US.UTF-8'"
      ]
     },
     "execution_count": 4,
     "metadata": {},
     "output_type": "execute_result"
    }
   ],
   "source": [
    "import locale\n",
    "locale.setlocale(locale.LC_ALL, '')"
   ]
  },
  {
   "cell_type": "markdown",
   "id": "genetic-collector",
   "metadata": {},
   "source": [
    "#### Exercise 13.4\n",
    "Answers from the textbook:\n",
    "* 95.0% VaR: \\$156,511\n",
    "* 95.0% ES: \\$209,310\n",
    "* 97.0% VaR: \\$172,224\n",
    "* 97.0% ES: \\$240,874"
   ]
  },
  {
   "cell_type": "code",
   "execution_count": 5,
   "id": "german-illinois",
   "metadata": {},
   "outputs": [
    {
     "name": "stdout",
     "output_type": "stream",
     "text": [
      "Exercise 13.4. One day VaR with a confidence level of 95.0%: $153,158.04\n",
      "               One day ES with a confidence level of 95.0%: $207,197.79\n",
      "Exercise 13.4. One day VaR with a confidence level of 97.0%: $172,212.30\n",
      "               One day ES with a confidence level of 97.0%: $236,297.06\n"
     ]
    }
   ],
   "source": [
    "hs.exercise_13_4([.95, .97])"
   ]
  },
  {
   "cell_type": "markdown",
   "id": "combined-pregnancy",
   "metadata": {},
   "source": [
    "#### Exercise 13.5\n",
    "Answers from the textbook:\n",
    "* 99.0% VaR: \\$238,526\n",
    "* 99.0% ES: \\$372,872"
   ]
  },
  {
   "cell_type": "code",
   "execution_count": 6,
   "id": "italian-practitioner",
   "metadata": {},
   "outputs": [
    {
     "name": "stdout",
     "output_type": "stream",
     "text": [
      "Exercise 13.5. One day VaR with a confidence level of 99.0%: $234,842.42\n",
      "Exercise 13.5. One day ES with a confidence level of 99.0%: $346,002.76\n"
     ]
    }
   ],
   "source": [
    "hs.exercise_13_5([.99])"
   ]
  },
  {
   "cell_type": "markdown",
   "id": "herbal-bible",
   "metadata": {},
   "source": [
    "#### Exercise 13.6\n",
    "Answers from the textbook:\n",
    "* 99.0% VaR: \\$345,435\n",
    "* 99.0% ES: \\$470,917"
   ]
  },
  {
   "cell_type": "code",
   "execution_count": 8,
   "id": "thirty-pension",
   "metadata": {},
   "outputs": [
    {
     "name": "stdout",
     "output_type": "stream",
     "text": [
      "Exercise 13.6. One day VaR with a confidence level of 1.0% and λ=0.99: $345,435.08\n",
      "Exercise 13.6. One day ES with a confidence level of 1.0% and λ=0.99: $470,917.10\n"
     ]
    }
   ],
   "source": [
    "hs.exercise_13_6(lbd=.99)"
   ]
  },
  {
   "cell_type": "markdown",
   "id": "generous-intermediate",
   "metadata": {},
   "source": [
    "#### Exercise 13.7 (volatility scaling)\n",
    "Answers from the textbook:\n",
    "* 99.0% VaR: \\$541,337\n",
    "* 99.0% ES: \\$707,146"
   ]
  },
  {
   "cell_type": "code",
   "execution_count": 9,
   "id": "satisfied-favor",
   "metadata": {},
   "outputs": [
    {
     "name": "stdout",
     "output_type": "stream",
     "text": [
      "Exercise 13.7. One day VaR with a confidence level of 99.0% and λ=0.96: $535,260.15\n"
     ]
    }
   ],
   "source": [
    "hs.exercise_13_7(lbd=.96)"
   ]
  },
  {
   "cell_type": "code",
   "execution_count": null,
   "id": "muslim-baltimore",
   "metadata": {},
   "outputs": [],
   "source": []
  }
 ],
 "metadata": {
  "kernelspec": {
   "display_name": "Python 3",
   "language": "python",
   "name": "python3"
  },
  "language_info": {
   "codemirror_mode": {
    "name": "ipython",
    "version": 3
   },
   "file_extension": ".py",
   "mimetype": "text/x-python",
   "name": "python",
   "nbconvert_exporter": "python",
   "pygments_lexer": "ipython3",
   "version": "3.9.0"
  }
 },
 "nbformat": 4,
 "nbformat_minor": 5
}
