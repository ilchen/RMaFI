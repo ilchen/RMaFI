{
 "cells": [
  {
   "cell_type": "markdown",
   "id": "smaller-planning",
   "metadata": {},
   "source": [
    "## Extreme Value Theory exercises\n",
    "This notebook implements solutions to all the historical simulation exercises that utilize _Extreme value theory_ (EVT)."
   ]
  },
  {
   "cell_type": "code",
   "execution_count": 1,
   "id": "scientific-better",
   "metadata": {},
   "outputs": [
    {
     "name": "stdout",
     "output_type": "stream",
     "text": [
      "INFO:tensorflow:Enabling eager execution\n",
      "INFO:tensorflow:Enabling v2 tensorshape\n",
      "INFO:tensorflow:Enabling resource variables\n",
      "INFO:tensorflow:Enabling tensor equality\n",
      "INFO:tensorflow:Enabling control flow v2\n"
     ]
    }
   ],
   "source": [
    "from ch13 import evt"
   ]
  },
  {
   "cell_type": "code",
   "execution_count": 2,
   "id": "humanitarian-memphis",
   "metadata": {},
   "outputs": [],
   "source": [
    "ext_val = evt.Evt('./ext/VaRExampleRMFI3eHistoricalSimulation.xls', 1e4, num_iter=20000)"
   ]
  },
  {
   "cell_type": "code",
   "execution_count": 2,
   "id": "meaning-shore",
   "metadata": {},
   "outputs": [
    {
     "data": {
      "text/plain": [
       "'en_US.UTF-8'"
      ]
     },
     "execution_count": 2,
     "metadata": {},
     "output_type": "execute_result"
    }
   ],
   "source": [
    "import locale\n",
    "locale.setlocale(locale.LC_ALL, '')"
   ]
  },
  {
   "cell_type": "markdown",
   "id": "pharmaceutical-grocery",
   "metadata": {},
   "source": [
    "#### Exercises 13.8 and 13.9\n",
    "Answers from the textbook:\n",
    "* **13.8**. Probability: 0.001623\n",
    "* **13.9**. VaR: \\$173,600"
   ]
  },
  {
   "cell_type": "code",
   "execution_count": 4,
   "id": "rising-spread",
   "metadata": {},
   "outputs": [
    {
     "name": "stdout",
     "output_type": "stream",
     "text": [
      "Cost initially: 108.3677826\n",
      "Starting values: β = 40.0000000, γ = 0.3000000\n",
      "Cost after running optimizer for 20000 iterations: 108.2060932\n",
      "New values: β = 32.5316330, γ = 0.4362458\n",
      "Exercise 13.8. The probability the loss will exceed $400 thousand: 0.0016235\n",
      "Exercise 13.9. One day VaR with a confidence level of 97%: $173,560.68\n",
      "\n"
     ]
    }
   ],
   "source": [
    "ext_val.exercise_13_8_9(VaR_conf=.97)"
   ]
  },
  {
   "cell_type": "markdown",
   "id": "macro-aging",
   "metadata": {},
   "source": [
    "#### Exercise 13.10\n",
    "Answers from the textbook: \n",
    "* β = 34.05, γ = 0.353\n",
    "* 99.0% VaR: \\$230,725\n",
    "* 99.0% ES: \\$327,336\n",
    "* 99.9% VaR: \\$452,831\n",
    "* 99.9% ES: \\$670,499"
   ]
  },
  {
   "cell_type": "code",
   "execution_count": 5,
   "id": "normal-mount",
   "metadata": {},
   "outputs": [
    {
     "name": "stdout",
     "output_type": "stream",
     "text": [
      "Cost initially: 136.8032704\n",
      "Starting values: β = 40.0000000, γ = 0.3000000\n",
      "Cost after running optimizer for 20000 iterations: 136.6588638\n",
      "New values: β = 34.0525995, γ = 0.3527673\n",
      "Exercise 13.10. One day VaR with a confidence level of 99.0%: $230,724.97\n",
      "Exercise 13.10. One day ES with a confidence level of 99.0%: $327,335.87\n",
      "Exercise 13.10. One day VaR with a confidence level of 99.9%: $452,830.98\n",
      "Exercise 13.10. One day ES with a confidence level of 99.9%: $670,498.42\n",
      "\n"
     ]
    }
   ],
   "source": [
    "ext_val.exercise_13_10(VaR_conf=[.99, .999])"
   ]
  },
  {
   "cell_type": "markdown",
   "id": "underlying-level",
   "metadata": {},
   "source": [
    "#### Exercise 13.11\n",
    "Answers from the textbook:\n",
    "* β = 82.838, γ = 0.438\n",
    "* 99.0% VaR: \\$534,100\n",
    "* 99.0% ES: \\$785,819\n",
    "* 99.9% VaR: \\$1,096,661\n",
    "* 99.9% ES: \\$1,786,335\n",
    "* Probability: 0.00655"
   ]
  },
  {
   "cell_type": "code",
   "execution_count": 4,
   "id": "white-rouge",
   "metadata": {},
   "outputs": [
    {
     "name": "stdout",
     "output_type": "stream",
     "text": [
      "Cost initially: 103.5355246\n",
      "Starting values: β = 40.0000000, γ = 0.3000000\n",
      "Cost after running optimizer for 40000 iterations: 99.5415125\n",
      "Values: β = 76.5706700, γ = 0.4877979\n",
      "Exercise 13.11a. One day VaR with a confidence level of 99.0%: $528,180.14\n",
      "Exercise 13.11a. One day ES with a confidence level of 99.0%: $799,746.12\n",
      "Exercise 13.11a. One day VaR with a confidence level of 99.9%: $1,119,775.72\n",
      "Exercise 13.11a. One day ES with a confidence level of 99.9%: $1,954,750.28\n",
      "Exercise 13.11b. The probability the loss will exceed $600 thousand: 0.0063096\n",
      "\n"
     ]
    },
    {
     "data": {
      "image/png": "[encoded data removed]",
      "text/plain": [
       "<Figure size 432x288 with 3 Axes>"
      ]
     },
     "metadata": {
      "needs_background": "light"
     },
     "output_type": "display_data"
    }
   ],
   "source": [
    "ext_val.exercise_13_11(VaR_conf=[.99, .999])"
   ]
  }
 ],
 "metadata": {
  "kernelspec": {
   "display_name": "Python 3",
   "language": "python",
   "name": "python3"
  },
  "language_info": {
   "codemirror_mode": {
    "name": "ipython",
    "version": 3
   },
   "file_extension": ".py",
   "mimetype": "text/x-python",
   "name": "python",
   "nbconvert_exporter": "python",
   "pygments_lexer": "ipython3",
   "version": "3.9.0"
  }
 },
 "nbformat": 4,
 "nbformat_minor": 5
}
