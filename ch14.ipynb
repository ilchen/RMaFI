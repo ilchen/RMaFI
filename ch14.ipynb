{
 "cells": [
  {
   "cell_type": "markdown",
   "id": "inside-humanity",
   "metadata": {},
   "source": [
    "## Model Building approach  exercises\n",
    "This notebook implements solutions to all the model building approach exercises."
   ]
  },
  {
   "cell_type": "code",
   "execution_count": 1,
   "id": "special-wisconsin",
   "metadata": {},
   "outputs": [],
   "source": [
    "from ch14 import model_build"
   ]
  },
  {
   "cell_type": "code",
   "execution_count": 2,
   "id": "political-bennett",
   "metadata": {},
   "outputs": [],
   "source": [
    "mb = model_build.ModelBuilding('./ext/VaRExampleRMFI3eHistoricalSimulation.xls', 1e4)"
   ]
  },
  {
   "cell_type": "code",
   "execution_count": 3,
   "id": "artistic-fluid",
   "metadata": {},
   "outputs": [
    {
     "data": {
      "text/plain": [
       "'en_US.UTF-8'"
      ]
     },
     "execution_count": 3,
     "metadata": {},
     "output_type": "execute_result"
    }
   ],
   "source": [
    "import locale\n",
    "locale.setlocale(locale.LC_ALL, '')"
   ]
  },
  {
   "cell_type": "markdown",
   "id": "wicked-people",
   "metadata": {},
   "source": [
    "#### Exercise 14.14a\n",
    "Answers from the textbook:\n",
    "* 99.0% VaR: \\$226,836\n",
    "* 99.0% ES: \\$259,878"
   ]
  },
  {
   "cell_type": "code",
   "execution_count": 4,
   "id": "thorough-rouge",
   "metadata": {},
   "outputs": [
    {
     "name": "stdout",
     "output_type": "stream",
     "text": [
      "Exercise 14.14a. One day VaR with a confidence level of 99.0%: $226,835.60\n",
      "Exercise 14.14a. One day ES with a confidence level of 99.0%: $259,877.50\n"
     ]
    }
   ],
   "source": [
    "mb.exercise_14_14a([.99])"
   ]
  },
  {
   "cell_type": "markdown",
   "id": "characteristic-typing",
   "metadata": {},
   "source": [
    "#### Exercise 14.14b\n",
    "Answers from the textbook:\n",
    "* 99.0% VaR: \\$487,737\n",
    "* 99.0% ES: \\$538,783"
   ]
  },
  {
   "cell_type": "code",
   "execution_count": 5,
   "id": "generous-captain",
   "metadata": {},
   "outputs": [
    {
     "name": "stdout",
     "output_type": "stream",
     "text": [
      "Exercise 14.14b. One day VaR with a confidence level of 99.0% and λ=0.94: $487,183.16\n",
      "Exercise 14.14b. One day ES with a confidence level of 99.0% and λ=0.94: $558,148.46\n"
     ]
    }
   ],
   "source": [
    "mb.exercise_14_14b([.99], mb.weights_equal)"
   ]
  },
  {
   "cell_type": "markdown",
   "id": "forty-professional",
   "metadata": {},
   "source": [
    "#### Exercise 14.15\n",
    "Answers from the textbook:\n",
    "* 99.0% VaR: \\$389,290\n",
    "* 99.0% ES: \\$445,996"
   ]
  },
  {
   "cell_type": "code",
   "execution_count": 6,
   "id": "instructional-roman",
   "metadata": {},
   "outputs": [
    {
     "name": "stdout",
     "output_type": "stream",
     "text": [
      "Exercise 14.14b. One day VaR with a confidence level of 99.0% and λ=0.97: $387,909.64\n",
      "Exercise 14.14b. One day ES with a confidence level of 99.0% and λ=0.97: $444,414.32\n"
     ]
    }
   ],
   "source": [
    "mb.exercise_14_14b([.99], mb.weights, lbd=.97)"
   ]
  },
  {
   "cell_type": "code",
   "execution_count": null,
   "id": "acknowledged-railway",
   "metadata": {},
   "outputs": [],
   "source": []
  }
 ],
 "metadata": {
  "kernelspec": {
   "display_name": "Python 3",
   "language": "python",
   "name": "python3"
  },
  "language_info": {
   "codemirror_mode": {
    "name": "ipython",
    "version": 3
   },
   "file_extension": ".py",
   "mimetype": "text/x-python",
   "name": "python",
   "nbconvert_exporter": "python",
   "pygments_lexer": "ipython3",
   "version": "3.9.0"
  }
 },
 "nbformat": 4,
 "nbformat_minor": 5
}
