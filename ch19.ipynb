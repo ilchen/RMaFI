{
 "cells": [
  {
   "cell_type": "markdown",
   "id": "legislative-helen",
   "metadata": {},
   "source": [
    "## Estimating Default Probabilities"
   ]
  },
  {
   "cell_type": "code",
   "execution_count": 1,
   "id": "southeast-origin",
   "metadata": {},
   "outputs": [],
   "source": [
    "import numpy as np\n",
    "import pandas as pd\n",
    "from scipy.stats import norm\n",
    "from scipy.optimize import minimize\n",
    "from math import exp\n",
    "from math import log\n",
    "from math import sqrt\n",
    "from functools import partial\n",
    "import locale"
   ]
  },
  {
   "cell_type": "code",
   "execution_count": 2,
   "id": "developed-secondary",
   "metadata": {},
   "outputs": [
    {
     "data": {
      "text/plain": [
       "'en_US.UTF-8'"
      ]
     },
     "execution_count": 2,
     "metadata": {},
     "output_type": "execute_result"
    }
   ],
   "source": [
    "locale.setlocale(locale.LC_ALL, '')"
   ]
  },
  {
   "cell_type": "code",
   "execution_count": 3,
   "id": "cognitive-slave",
   "metadata": {},
   "outputs": [],
   "source": [
    "class  CashflowDescriptor:\n",
    "    '''\n",
    "    Represents cashflow schedules\n",
    "    '''\n",
    "    def  __init__(self, coupon_rate, coupon_frequency, notional, T):\n",
    "        '''\n",
    "        :param coupon_rate: coupon rate per annum\n",
    "        :param coupon_frequency: how many times a year is coupon paid\n",
    "        :param notional: notional amount due\n",
    "        :param T: time when the last coupon and notional are due\n",
    "        '''\n",
    "        self.coupon_rate = coupon_rate\n",
    "        self.coupon_frequency = coupon_frequency\n",
    "        self.notional = notional\n",
    "        self.T = T\n",
    "        self.coupon_interval = 1 / coupon_frequency\n",
    "        self.timeline = np.arange(self.coupon_interval, T+self.coupon_interval, self.coupon_interval)\n",
    "        self.coupon_amount = notional * coupon_rate * self.coupon_interval\n",
    "        \n",
    "    def cashflow(self, t):\n",
    "        if t in self.timeline:  return  self.coupon_amount + (self.notional if t == self.T else 0)\n",
    "        else:                   return  0\n",
    "        \n",
    "    def pv_cashflows_from_time(self, start_time, discount_rate):\n",
    "        '''\n",
    "        Calculates the value of cashflows past 'start_time' as seen at 'start_time'\n",
    "        '''\n",
    "        start = start_time if start_time in self.timeline else self.timeline[self.timeline.searchsorted(start_time)]\n",
    "        timeline = np.arange(start, self.T+self.coupon_interval, self.coupon_interval)\n",
    "        return  self.pv_cashflows(timeline, discount_rate, t0=start_time)\n",
    "        \n",
    "    def pv_cashflows(self, timeline, discount_rate, t0=0):\n",
    "        return  sum(map(lambda t: self.cashflow(t) * exp(-discount_rate*(t-t0)), timeline))\n",
    "    \n",
    "    def pv_all_cashflows(self, discount_rate, t0=0):\n",
    "        return  self.pv_cashflows(self.timeline, discount_rate, t0)"
   ]
  },
  {
   "cell_type": "markdown",
   "id": "entertaining-tension",
   "metadata": {},
   "source": [
    "#### Exercise 19.14\n",
    "Answer from the textbook:\n",
    "* The implied pobability of default is 2.74% per year"
   ]
  },
  {
   "cell_type": "code",
   "execution_count": 4,
   "id": "elegant-learning",
   "metadata": {},
   "outputs": [],
   "source": [
    "coupon_rate = .04\n",
    "coupon_frequency = 2  # semiannual payments\n",
    "risk_free_rate = .03  # continuous compounding\n",
    "ytm_rate = .05        # continuous compounding\n",
    "recovery_rate = .3\n",
    "T = 4\n",
    "notional = 100\n",
    "\n",
    "cashflow_descr = CashflowDescriptor(coupon_rate, coupon_frequency, notional, T)"
   ]
  },
  {
   "cell_type": "code",
   "execution_count": 5,
   "id": "sticky-preservation",
   "metadata": {},
   "outputs": [
    {
     "name": "stdout",
     "output_type": "stream",
     "text": [
      "Present value risk free bond: $103.66\n",
      "Present value corporate bond: $96.19\n"
     ]
    }
   ],
   "source": [
    "pv_risk_free_bond = cashflow_descr.pv_all_cashflows(risk_free_rate)\n",
    "pv_corp_bond      = cashflow_descr.pv_all_cashflows(ytm_rate)\n",
    "print(\"Present value risk free bond: %s\" % locale.currency(pv_risk_free_bond, grouping=True))\n",
    "print(\"Present value corporate bond: %s\" % locale.currency(pv_corp_bond, grouping=True))"
   ]
  },
  {
   "cell_type": "code",
   "execution_count": 6,
   "id": "offshore-crown",
   "metadata": {},
   "outputs": [],
   "source": [
    "tl = pd.Series(range(1, cashflow_descr.T+1)) # Defaults can only take place immediately before coupon payment at year's end\n",
    "table = pd.DataFrame(index=tl, columns=['Recovery Amount', 'Default-Free Value', 'Loss', 'PV of Expected Loss'])\n",
    "table.index.name = 'Time'"
   ]
  },
  {
   "cell_type": "code",
   "execution_count": 7,
   "id": "prospective-basketball",
   "metadata": {},
   "outputs": [],
   "source": [
    "table['Recovery Amount'] = cashflow_descr.notional * recovery_rate\n",
    "table['Default-Free Value'] = table.index.to_series().apply(lambda x: cashflow_descr.pv_cashflows_from_time(x, risk_free_rate))\n",
    "table['Loss'] = table['Default-Free Value'] - cashflow_descr.notional * recovery_rate\n",
    "table['PV of Expected Loss'] = table.apply(lambda row: exp(-risk_free_rate*row.name)*row.Loss, axis=1)"
   ]
  },
  {
   "cell_type": "code",
   "execution_count": 8,
   "id": "intensive-local",
   "metadata": {},
   "outputs": [
    {
     "data": {
      "text/html": [
       "<div>\n",
       "<style scoped>\n",
       "    .dataframe tbody tr th:only-of-type {\n",
       "        vertical-align: middle;\n",
       "    }\n",
       "\n",
       "    .dataframe tbody tr th {\n",
       "        vertical-align: top;\n",
       "    }\n",
       "\n",
       "    .dataframe thead th {\n",
       "        text-align: right;\n",
       "    }\n",
       "</style>\n",
       "<table border=\"1\" class=\"dataframe\">\n",
       "  <thead>\n",
       "    <tr style=\"text-align: right;\">\n",
       "      <th></th>\n",
       "      <th>Recovery Amount</th>\n",
       "      <th>Default-Free Value</th>\n",
       "      <th>Loss</th>\n",
       "      <th>PV of Expected Loss</th>\n",
       "    </tr>\n",
       "    <tr>\n",
       "      <th>Time</th>\n",
       "      <th></th>\n",
       "      <th></th>\n",
       "      <th></th>\n",
       "      <th></th>\n",
       "    </tr>\n",
       "  </thead>\n",
       "  <tbody>\n",
       "    <tr>\n",
       "      <th>1</th>\n",
       "      <td>30.0</td>\n",
       "      <td>104.783107</td>\n",
       "      <td>74.783107</td>\n",
       "      <td>72.572932</td>\n",
       "    </tr>\n",
       "    <tr>\n",
       "      <th>2</th>\n",
       "      <td>30.0</td>\n",
       "      <td>103.883092</td>\n",
       "      <td>73.883092</td>\n",
       "      <td>69.580476</td>\n",
       "    </tr>\n",
       "    <tr>\n",
       "      <th>3</th>\n",
       "      <td>30.0</td>\n",
       "      <td>102.955668</td>\n",
       "      <td>72.955668</td>\n",
       "      <td>66.676460</td>\n",
       "    </tr>\n",
       "    <tr>\n",
       "      <th>4</th>\n",
       "      <td>30.0</td>\n",
       "      <td>102.000000</td>\n",
       "      <td>72.000000</td>\n",
       "      <td>63.858271</td>\n",
       "    </tr>\n",
       "  </tbody>\n",
       "</table>\n",
       "</div>"
      ],
      "text/plain": [
       "      Recovery Amount  Default-Free Value       Loss  PV of Expected Loss\n",
       "Time                                                                     \n",
       "1                30.0          104.783107  74.783107            72.572932\n",
       "2                30.0          103.883092  73.883092            69.580476\n",
       "3                30.0          102.955668  72.955668            66.676460\n",
       "4                30.0          102.000000  72.000000            63.858271"
      ]
     },
     "execution_count": 8,
     "metadata": {},
     "output_type": "execute_result"
    }
   ],
   "source": [
    "table"
   ]
  },
  {
   "cell_type": "code",
   "execution_count": 9,
   "id": "miniature-horror",
   "metadata": {},
   "outputs": [
    {
     "name": "stdout",
     "output_type": "stream",
     "text": [
      "Risk-neutral annual default probability: 2.73661%\n"
     ]
    }
   ],
   "source": [
    "Q = (pv_risk_free_bond - pv_corp_bond) / table['PV of Expected Loss'].sum()\n",
    "print(\"Risk-neutral annual default probability: %.5f%%\" % (100*Q))"
   ]
  },
  {
   "cell_type": "markdown",
   "id": "alone-flush",
   "metadata": {},
   "source": [
    "#### Exercise 19.15\n",
    "Answer from the textbook:\n",
    "* Q1: 1.57%\n",
    "* Q2: 2.60%"
   ]
  },
  {
   "cell_type": "code",
   "execution_count": 10,
   "id": "nasty-hanging",
   "metadata": {},
   "outputs": [],
   "source": [
    "coupon_rate = .04\n",
    "coupon_frequency = 1  # semiannual payments\n",
    "risk_free_rate = .035 # continuous compounding\n",
    "ytm1_rate = .045      # continuous compounding\n",
    "ytm2_rate = .0475     # continuous compounding\n",
    "recovery_rate = .4\n",
    "T1 = 3\n",
    "T2 = 5\n",
    "notional = 100\n",
    "default_year_offset = .5 # defaults take place halfway through each year\n",
    "\n",
    "cashflow_descr1 = CashflowDescriptor(coupon_rate, coupon_frequency, notional, T1)\n",
    "cashflow_descr2 = CashflowDescriptor(coupon_rate, coupon_frequency, notional, T2)"
   ]
  },
  {
   "cell_type": "code",
   "execution_count": 11,
   "id": "assisted-cocktail",
   "metadata": {},
   "outputs": [
    {
     "name": "stdout",
     "output_type": "stream",
     "text": [
      "Present value risk free 3-year bond: $101.23\n",
      "Present value 3-year corporate bond: $98.35\n",
      "Present value risk free 5-year bond: $101.97\n",
      "Present value 5-year corporate bond: $96.24\n"
     ]
    }
   ],
   "source": [
    "pv_risk_free_bond1 = cashflow_descr1.pv_all_cashflows(risk_free_rate)\n",
    "pv_corp_bond1      = cashflow_descr1.pv_all_cashflows(ytm1_rate)\n",
    "print(\"Present value risk free %d-year bond: %s\" % (cashflow_descr1.T, locale.currency(pv_risk_free_bond1, grouping=True)))\n",
    "print(\"Present value %d-year corporate bond: %s\" % (cashflow_descr1.T, locale.currency(pv_corp_bond1, grouping=True)))\n",
    "\n",
    "pv_risk_free_bond2 = cashflow_descr2.pv_all_cashflows(risk_free_rate)\n",
    "pv_corp_bond2      = cashflow_descr2.pv_all_cashflows(ytm2_rate)\n",
    "print(\"Present value risk free %d-year bond: %s\" % (cashflow_descr2.T, locale.currency(pv_risk_free_bond2, grouping=True)))\n",
    "print(\"Present value %d-year corporate bond: %s\" % (cashflow_descr2.T, locale.currency(pv_corp_bond2, grouping=True)))"
   ]
  },
  {
   "cell_type": "code",
   "execution_count": 12,
   "id": "welcome-karma",
   "metadata": {},
   "outputs": [],
   "source": [
    "tl1 = pd.Series(np.arange(default_year_offset, cashflow_descr1.T, cashflow_descr1.coupon_interval)) # Defaults can only take place immediately before coupon payment at year's end\n",
    "table1 = pd.DataFrame(index=tl1, columns=['Recovery Amount', 'Default-Free Value', 'Loss', 'PV of Expected Loss'])\n",
    "table1.index.name = 'Time'"
   ]
  },
  {
   "cell_type": "code",
   "execution_count": 13,
   "id": "opened-folks",
   "metadata": {},
   "outputs": [],
   "source": [
    "table1['Recovery Amount'] = cashflow_descr1.notional * recovery_rate\n",
    "table1['Default-Free Value'] = table1.index.to_series().apply(lambda x: cashflow_descr1.pv_cashflows_from_time(x, risk_free_rate))\n",
    "table1['Loss'] = table1['Default-Free Value'] - cashflow_descr1.notional * recovery_rate\n",
    "table1['PV of Expected Loss'] = table1.apply(lambda row: exp(-risk_free_rate*row.name)*row.Loss, axis=1)"
   ]
  },
  {
   "cell_type": "code",
   "execution_count": 14,
   "id": "statewide-method",
   "metadata": {},
   "outputs": [
    {
     "data": {
      "text/html": [
       "<div>\n",
       "<style scoped>\n",
       "    .dataframe tbody tr th:only-of-type {\n",
       "        vertical-align: middle;\n",
       "    }\n",
       "\n",
       "    .dataframe tbody tr th {\n",
       "        vertical-align: top;\n",
       "    }\n",
       "\n",
       "    .dataframe thead th {\n",
       "        text-align: right;\n",
       "    }\n",
       "</style>\n",
       "<table border=\"1\" class=\"dataframe\">\n",
       "  <thead>\n",
       "    <tr style=\"text-align: right;\">\n",
       "      <th></th>\n",
       "      <th>Recovery Amount</th>\n",
       "      <th>Default-Free Value</th>\n",
       "      <th>Loss</th>\n",
       "      <th>PV of Expected Loss</th>\n",
       "    </tr>\n",
       "    <tr>\n",
       "      <th>Time</th>\n",
       "      <th></th>\n",
       "      <th></th>\n",
       "      <th></th>\n",
       "      <th></th>\n",
       "    </tr>\n",
       "  </thead>\n",
       "  <tbody>\n",
       "    <tr>\n",
       "      <th>0.5</th>\n",
       "      <td>40.0</td>\n",
       "      <td>103.012789</td>\n",
       "      <td>63.012789</td>\n",
       "      <td>61.919658</td>\n",
       "    </tr>\n",
       "    <tr>\n",
       "      <th>1.5</th>\n",
       "      <td>40.0</td>\n",
       "      <td>102.611458</td>\n",
       "      <td>62.611458</td>\n",
       "      <td>59.409153</td>\n",
       "    </tr>\n",
       "    <tr>\n",
       "      <th>2.5</th>\n",
       "      <td>40.0</td>\n",
       "      <td>102.195833</td>\n",
       "      <td>62.195833</td>\n",
       "      <td>56.984995</td>\n",
       "    </tr>\n",
       "  </tbody>\n",
       "</table>\n",
       "</div>"
      ],
      "text/plain": [
       "      Recovery Amount  Default-Free Value       Loss  PV of Expected Loss\n",
       "Time                                                                     \n",
       "0.5              40.0          103.012789  63.012789            61.919658\n",
       "1.5              40.0          102.611458  62.611458            59.409153\n",
       "2.5              40.0          102.195833  62.195833            56.984995"
      ]
     },
     "execution_count": 14,
     "metadata": {},
     "output_type": "execute_result"
    }
   ],
   "source": [
    "table1"
   ]
  },
  {
   "cell_type": "code",
   "execution_count": 15,
   "id": "fifth-forestry",
   "metadata": {},
   "outputs": [],
   "source": [
    "Q1 = (pv_risk_free_bond1 - pv_corp_bond1) / table1['PV of Expected Loss'].sum()"
   ]
  },
  {
   "cell_type": "code",
   "execution_count": 16,
   "id": "massive-patch",
   "metadata": {},
   "outputs": [],
   "source": [
    "tl2 = pd.Series(np.arange(default_year_offset, cashflow_descr2.T, cashflow_descr2.coupon_interval)) # Defaults can only take place immediately before coupon payment at year's end\n",
    "table2 = pd.DataFrame(index=tl2, columns=['Recovery Amount', 'Default-Free Value', 'Loss', 'PV of Expected Loss'])\n",
    "table2.index.name = 'Time'"
   ]
  },
  {
   "cell_type": "code",
   "execution_count": 17,
   "id": "retained-leeds",
   "metadata": {},
   "outputs": [],
   "source": [
    "table2['Recovery Amount'] = cashflow_descr2.notional * recovery_rate\n",
    "table2['Default-Free Value'] = table2.index.to_series().apply(lambda x: cashflow_descr2.pv_cashflows_from_time(x, risk_free_rate))\n",
    "table2['Loss'] = table2['Default-Free Value'] - cashflow_descr2.notional * recovery_rate\n",
    "table2['PV of Expected Loss'] = table2.apply(lambda row: exp(-risk_free_rate*row.name)*row.Loss, axis=1)"
   ]
  },
  {
   "cell_type": "code",
   "execution_count": 18,
   "id": "welsh-artist",
   "metadata": {},
   "outputs": [
    {
     "data": {
      "text/html": [
       "<div>\n",
       "<style scoped>\n",
       "    .dataframe tbody tr th:only-of-type {\n",
       "        vertical-align: middle;\n",
       "    }\n",
       "\n",
       "    .dataframe tbody tr th {\n",
       "        vertical-align: top;\n",
       "    }\n",
       "\n",
       "    .dataframe thead th {\n",
       "        text-align: right;\n",
       "    }\n",
       "</style>\n",
       "<table border=\"1\" class=\"dataframe\">\n",
       "  <thead>\n",
       "    <tr style=\"text-align: right;\">\n",
       "      <th></th>\n",
       "      <th>Recovery Amount</th>\n",
       "      <th>Default-Free Value</th>\n",
       "      <th>Loss</th>\n",
       "      <th>PV of Expected Loss</th>\n",
       "    </tr>\n",
       "    <tr>\n",
       "      <th>Time</th>\n",
       "      <th></th>\n",
       "      <th></th>\n",
       "      <th></th>\n",
       "      <th></th>\n",
       "    </tr>\n",
       "  </thead>\n",
       "  <tbody>\n",
       "    <tr>\n",
       "      <th>0.5</th>\n",
       "      <td>40.0</td>\n",
       "      <td>103.774514</td>\n",
       "      <td>63.774514</td>\n",
       "      <td>62.668169</td>\n",
       "    </tr>\n",
       "    <tr>\n",
       "      <th>1.5</th>\n",
       "      <td>40.0</td>\n",
       "      <td>103.400316</td>\n",
       "      <td>63.400316</td>\n",
       "      <td>60.157664</td>\n",
       "    </tr>\n",
       "    <tr>\n",
       "      <th>2.5</th>\n",
       "      <td>40.0</td>\n",
       "      <td>103.012789</td>\n",
       "      <td>63.012789</td>\n",
       "      <td>57.733506</td>\n",
       "    </tr>\n",
       "    <tr>\n",
       "      <th>3.5</th>\n",
       "      <td>40.0</td>\n",
       "      <td>102.611458</td>\n",
       "      <td>62.611458</td>\n",
       "      <td>55.392727</td>\n",
       "    </tr>\n",
       "    <tr>\n",
       "      <th>4.5</th>\n",
       "      <td>40.0</td>\n",
       "      <td>102.195833</td>\n",
       "      <td>62.195833</td>\n",
       "      <td>53.132458</td>\n",
       "    </tr>\n",
       "  </tbody>\n",
       "</table>\n",
       "</div>"
      ],
      "text/plain": [
       "      Recovery Amount  Default-Free Value       Loss  PV of Expected Loss\n",
       "Time                                                                     \n",
       "0.5              40.0          103.774514  63.774514            62.668169\n",
       "1.5              40.0          103.400316  63.400316            60.157664\n",
       "2.5              40.0          103.012789  63.012789            57.733506\n",
       "3.5              40.0          102.611458  62.611458            55.392727\n",
       "4.5              40.0          102.195833  62.195833            53.132458"
      ]
     },
     "execution_count": 18,
     "metadata": {},
     "output_type": "execute_result"
    }
   ],
   "source": [
    "table2"
   ]
  },
  {
   "cell_type": "code",
   "execution_count": 19,
   "id": "minute-wright",
   "metadata": {},
   "outputs": [
    {
     "name": "stdout",
     "output_type": "stream",
     "text": [
      "180.55933866522133 108.52518451951184\n"
     ]
    }
   ],
   "source": [
    "PV1 = table2['PV of Expected Loss'].iloc[:cashflow_descr1.T].sum()\n",
    "PV2 = table2['PV of Expected Loss'].iloc[cashflow_descr1.T:].sum()\n",
    "print(PV1, PV2)"
   ]
  },
  {
   "cell_type": "code",
   "execution_count": 20,
   "id": "happy-talent",
   "metadata": {},
   "outputs": [],
   "source": [
    "Q2 = (pv_risk_free_bond2 - pv_corp_bond2 - Q1*PV1) / PV2"
   ]
  },
  {
   "cell_type": "code",
   "execution_count": 21,
   "id": "interim-zealand",
   "metadata": {},
   "outputs": [
    {
     "name": "stdout",
     "output_type": "stream",
     "text": [
      "Q1 (Risk-neutral annual default probability for first 3 years): 1.61489%\n",
      "Q2 (Risk-neutral annual default probability for last 2 years): 2.59462%\n"
     ]
    }
   ],
   "source": [
    "print(\"Q1 (Risk-neutral annual default probability for first %d years): %.5f%%\" % (cashflow_descr1.T, 100*Q1))\n",
    "print(\"Q2 (Risk-neutral annual default probability for last %d years): %.5f%%\"\n",
    "      % (cashflow_descr2.T-cashflow_descr1.T, 100*Q2))"
   ]
  },
  {
   "cell_type": "markdown",
   "id": "mounted-stylus",
   "metadata": {},
   "source": [
    "#### Exercise 19.18\n",
    "Answer from the textbook:\n",
    "* V<sub>0</sub>=$6.80M\n",
    "* &sigma;<sub>V</sub>=14.82%\n",
    "* Probability of default=1.15%"
   ]
  },
  {
   "cell_type": "code",
   "execution_count": 22,
   "id": "agreed-michael",
   "metadata": {},
   "outputs": [],
   "source": [
    "E0 = 2_000_000 # Current value of company's equity\n",
    "sigma_E = .5   # Annual volatility of company's equity\n",
    "T = 1          # Debt is due in 1 year\n",
    "D = 5_000_000  # Debt due in T years\n",
    "risk_free_rate = .04  # continuous compounding"
   ]
  },
  {
   "cell_type": "code",
   "execution_count": 23,
   "id": "subject-living",
   "metadata": {},
   "outputs": [],
   "source": [
    "# Define d1, d2, and obj_func_1 as per the Black-Scholes-Merton formula\n",
    "def  d1(V0, sigma, D, r, T):\n",
    "    return  (log(V0/D) + (r + sigma**2/2) * T) / (sigma * sqrt(T))\n",
    "def  d2(V0, sigma, D, r, T):\n",
    "    return  d1(V0, sigma, D, r, T) - sigma * sqrt(T)\n",
    "def  obj_func_1(V0, sigma, E0, D, r, T):\n",
    "    return  V0 * norm.cdf(d1(V0, sigma, D, r, T)) - D * exp(-r*T)*norm.cdf(d2(V0, sigma, D, r, T)) - E0\n",
    "def  obj_func_2(V0, sigma, sigma_equity, E0, D, r, T):\n",
    "    return  norm.cdf(d1(V0, sigma, D, r, T)) * sigma * V0 - sigma_equity * E0\n",
    "\n",
    "# We'll minimize obj_func_1^2 + obj_func_2^2\n",
    "def  obj_func(V0, sigma, sigma_equity, E0, D, r, T):\n",
    "    return  obj_func_1(V0, sigma, E0, D, r, T)**2 + obj_func_2(V0, sigma, sigma_equity, E0, D, r, T)**2"
   ]
  },
  {
   "cell_type": "code",
   "execution_count": 24,
   "id": "lovely-faith",
   "metadata": {},
   "outputs": [],
   "source": [
    "# Now let's bind the arguments whose values we know, this gives us a function of two arguments -- V0 and sigma\n",
    "objective_function_aux = partial(obj_func, sigma_equity=sigma_E, E0=E0, D=D, r=risk_free_rate, T=T)\n",
    "objective_function = lambda x: objective_function_aux(x[0], x[1])"
   ]
  },
  {
   "cell_type": "code",
   "execution_count": 25,
   "id": "understood-metabolism",
   "metadata": {},
   "outputs": [
    {
     "name": "stdout",
     "output_type": "stream",
     "text": [
      "V0=$6,801,247.19, σv=14.82%\n",
      "Probability of default in 1 year(s): 1.15%\n"
     ]
    }
   ],
   "source": [
    "x0 = (1_000_000, 0.3)        # starting with assuming V0 = $1M and volatility of assets 30%\n",
    "res = minimize(objective_function, x0, method = 'Nelder-Mead')\n",
    "if res.success:\n",
    "    print('V0=%s, \\u03C3v=%.2f%%' % (locale.currency(res.x[0], grouping=True), res.x[1] * 100))\n",
    "    print('Probability of default in %d year(s): %.2f%%' % (T, 100*norm.cdf(-d2(res.x[0], res.x[1], D, risk_free_rate, T))))"
   ]
  },
  {
   "cell_type": "code",
   "execution_count": null,
   "id": "innocent-proposition",
   "metadata": {},
   "outputs": [],
   "source": []
  }
 ],
 "metadata": {
  "kernelspec": {
   "display_name": "Python 3",
   "language": "python",
   "name": "python3"
  },
  "language_info": {
   "codemirror_mode": {
    "name": "ipython",
    "version": 3
   },
   "file_extension": ".py",
   "mimetype": "text/x-python",
   "name": "python",
   "nbconvert_exporter": "python",
   "pygments_lexer": "ipython3",
   "version": "3.9.0"
  }
 },
 "nbformat": 4,
 "nbformat_minor": 5
}
