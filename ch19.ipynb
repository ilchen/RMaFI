{
 "cells": [
  {
   "cell_type": "markdown",
   "id": "intensive-meeting",
   "metadata": {},
   "source": [
    "## Estimating Default Probabilities"
   ]
  },
  {
   "cell_type": "code",
   "execution_count": 1,
   "id": "empty-optimum",
   "metadata": {},
   "outputs": [],
   "source": [
    "import numpy as np\n",
    "import pandas as pd\n",
    "from scipy.stats import norm\n",
    "from scipy.optimize import minimize\n",
    "from scipy.optimize import minimize_scalar\n",
    "from math import exp\n",
    "from math import log\n",
    "from math import sqrt\n",
    "from functools import partial\n",
    "import locale"
   ]
  },
  {
   "cell_type": "code",
   "execution_count": 2,
   "id": "confident-wesley",
   "metadata": {},
   "outputs": [
    {
     "data": {
      "text/plain": [
       "'en_US.UTF-8'"
      ]
     },
     "execution_count": 2,
     "metadata": {},
     "output_type": "execute_result"
    }
   ],
   "source": [
    "locale.setlocale(locale.LC_ALL, '')"
   ]
  },
  {
   "cell_type": "code",
   "execution_count": 3,
   "id": "exposed-cowboy",
   "metadata": {},
   "outputs": [],
   "source": [
    "class  CashflowDescriptor:\n",
    "    '''\n",
    "    Represents cashflow schedules\n",
    "    '''\n",
    "    def  __init__(self, coupon_rate, coupon_frequency, notional, T):\n",
    "        '''\n",
    "        :param coupon_rate: coupon rate per annum\n",
    "        :param coupon_frequency: how many times a year is coupon paid\n",
    "        :param notional: notional amount due\n",
    "        :param T: time when the last coupon and notional are due\n",
    "        '''\n",
    "        self.coupon_rate = coupon_rate\n",
    "        self.coupon_frequency = coupon_frequency\n",
    "        self.notional = notional\n",
    "        self.T = T\n",
    "        self.coupon_interval = 1 / coupon_frequency\n",
    "        self.timeline = np.arange(self.coupon_interval, T+self.coupon_interval, self.coupon_interval)\n",
    "        self.coupon_amount = notional * coupon_rate * self.coupon_interval\n",
    "        \n",
    "    def cashflow(self, t, coupon_rate=None):\n",
    "        '''\n",
    "        :param t: future time in years\n",
    "        :param coupon_rate: a different coupon rate from self.coupon_rate, might be handy when valuing asset swaps\n",
    "        '''\n",
    "        coupon_amount = self.coupon_amount if coupon_rate == None else notional * coupon_rate * self.coupon_interval\n",
    "        if t in self.timeline:  return  coupon_amount + (self.notional if t == self.T else 0)\n",
    "        else:                   return  0\n",
    "        \n",
    "    def pv_cashflows_from_time(self, start_time, discount_rate):\n",
    "        '''\n",
    "        Calculates the value of cashflows past 'start_time' as seen at 'start_time'\n",
    "        :param start_time: a time expressed in years such that all cashflows taking\n",
    "                           place at that time or after are priced\n",
    "        :param discount_rate: a discount rate expressed with continuous compounding\n",
    "        '''\n",
    "        start = start_time if start_time in self.timeline else self.timeline[self.timeline.searchsorted(start_time)]\n",
    "        timeline = np.arange(start, self.T+self.coupon_interval, self.coupon_interval)\n",
    "        return  self.pv_cashflows(timeline, discount_rate, t0=start_time)\n",
    "        \n",
    "    def pv_cashflows(self, timeline, discount_rate, t0=0):\n",
    "        return  sum(map(lambda t: self.cashflow(t) * exp(-discount_rate*(t-t0)), timeline))\n",
    "    \n",
    "    def pv_all_cashflows(self, discount_rate, t0=0):\n",
    "        return  self.pv_cashflows(self.timeline, discount_rate, t0)\n",
    "    \n",
    "    # Special method needed to value the floating leg of asset swaps\n",
    "    def pv_all_cashflows_with_other_coupon_rate(self, other_coupon_rate, discount_rate, t0=0):\n",
    "        return  sum(map(lambda t: self.cashflow(t, other_coupon_rate) * exp(-discount_rate*(t-t0)), self.timeline))\n",
    "    \n",
    "    @staticmethod\n",
    "    def to_continuous_compounding(rate, comp_freq):\n",
    "        return rate if comp_freq == 0 else comp_freq * log(1 + rate / comp_freq)"
   ]
  },
  {
   "cell_type": "markdown",
   "id": "accurate-kennedy",
   "metadata": {},
   "source": [
    "#### Exercise 19.14\n",
    "Answer from the textbook:\n",
    "* The implied pobability of default is 2.74% per year"
   ]
  },
  {
   "cell_type": "code",
   "execution_count": 4,
   "id": "banner-monthly",
   "metadata": {},
   "outputs": [],
   "source": [
    "coupon_rate = .04\n",
    "coupon_frequency = 2  # semiannual payments\n",
    "risk_free_rate = .03  # continuous compounding\n",
    "ytm_rate = .05        # continuous compounding\n",
    "recovery_rate = .3\n",
    "T = 4\n",
    "notional = 100\n",
    "\n",
    "cashflow_descr = CashflowDescriptor(coupon_rate, coupon_frequency, notional, T)"
   ]
  },
  {
   "cell_type": "code",
   "execution_count": 5,
   "id": "practical-riverside",
   "metadata": {},
   "outputs": [
    {
     "name": "stdout",
     "output_type": "stream",
     "text": [
      "Present value risk free bond: $103.66\n",
      "Present value corporate bond: $96.19\n"
     ]
    }
   ],
   "source": [
    "pv_risk_free_bond = cashflow_descr.pv_all_cashflows(risk_free_rate)\n",
    "pv_corp_bond      = cashflow_descr.pv_all_cashflows(ytm_rate)\n",
    "print(\"Present value risk free bond: %s\" % locale.currency(pv_risk_free_bond, grouping=True))\n",
    "print(\"Present value corporate bond: %s\" % locale.currency(pv_corp_bond, grouping=True))"
   ]
  },
  {
   "cell_type": "code",
   "execution_count": 6,
   "id": "secret-poetry",
   "metadata": {},
   "outputs": [],
   "source": [
    "tl = pd.Series(range(1, cashflow_descr.T+1)) # Defaults can only take place immediately before coupon payment at year's end\n",
    "table = pd.DataFrame(index=tl, columns=['Recovery Amount', 'Default-Free Value', 'Loss', 'PV of Expected Loss'])\n",
    "table.index.name = 'Time'"
   ]
  },
  {
   "cell_type": "code",
   "execution_count": 7,
   "id": "going-entrance",
   "metadata": {},
   "outputs": [],
   "source": [
    "table['Recovery Amount'] = cashflow_descr.notional * recovery_rate\n",
    "table['Default-Free Value'] = table.index.to_series().apply(lambda x: cashflow_descr.pv_cashflows_from_time(x, risk_free_rate))\n",
    "table['Loss'] = table['Default-Free Value'] - cashflow_descr.notional * recovery_rate\n",
    "table['PV of Expected Loss'] = table.apply(lambda row: exp(-risk_free_rate*row.name)*row.Loss, axis=1)"
   ]
  },
  {
   "cell_type": "code",
   "execution_count": 8,
   "id": "discrete-leisure",
   "metadata": {},
   "outputs": [
    {
     "data": {
      "text/html": [
       "<div>\n",
       "<style scoped>\n",
       "    .dataframe tbody tr th:only-of-type {\n",
       "        vertical-align: middle;\n",
       "    }\n",
       "\n",
       "    .dataframe tbody tr th {\n",
       "        vertical-align: top;\n",
       "    }\n",
       "\n",
       "    .dataframe thead th {\n",
       "        text-align: right;\n",
       "    }\n",
       "</style>\n",
       "<table border=\"1\" class=\"dataframe\">\n",
       "  <thead>\n",
       "    <tr style=\"text-align: right;\">\n",
       "      <th></th>\n",
       "      <th>Recovery Amount</th>\n",
       "      <th>Default-Free Value</th>\n",
       "      <th>Loss</th>\n",
       "      <th>PV of Expected Loss</th>\n",
       "    </tr>\n",
       "    <tr>\n",
       "      <th>Time</th>\n",
       "      <th></th>\n",
       "      <th></th>\n",
       "      <th></th>\n",
       "      <th></th>\n",
       "    </tr>\n",
       "  </thead>\n",
       "  <tbody>\n",
       "    <tr>\n",
       "      <th>1</th>\n",
       "      <td>30.0</td>\n",
       "      <td>104.783107</td>\n",
       "      <td>74.783107</td>\n",
       "      <td>72.572932</td>\n",
       "    </tr>\n",
       "    <tr>\n",
       "      <th>2</th>\n",
       "      <td>30.0</td>\n",
       "      <td>103.883092</td>\n",
       "      <td>73.883092</td>\n",
       "      <td>69.580476</td>\n",
       "    </tr>\n",
       "    <tr>\n",
       "      <th>3</th>\n",
       "      <td>30.0</td>\n",
       "      <td>102.955668</td>\n",
       "      <td>72.955668</td>\n",
       "      <td>66.676460</td>\n",
       "    </tr>\n",
       "    <tr>\n",
       "      <th>4</th>\n",
       "      <td>30.0</td>\n",
       "      <td>102.000000</td>\n",
       "      <td>72.000000</td>\n",
       "      <td>63.858271</td>\n",
       "    </tr>\n",
       "  </tbody>\n",
       "</table>\n",
       "</div>"
      ],
      "text/plain": [
       "      Recovery Amount  Default-Free Value       Loss  PV of Expected Loss\n",
       "Time                                                                     \n",
       "1                30.0          104.783107  74.783107            72.572932\n",
       "2                30.0          103.883092  73.883092            69.580476\n",
       "3                30.0          102.955668  72.955668            66.676460\n",
       "4                30.0          102.000000  72.000000            63.858271"
      ]
     },
     "execution_count": 8,
     "metadata": {},
     "output_type": "execute_result"
    }
   ],
   "source": [
    "table"
   ]
  },
  {
   "cell_type": "code",
   "execution_count": 9,
   "id": "sensitive-punch",
   "metadata": {},
   "outputs": [
    {
     "name": "stdout",
     "output_type": "stream",
     "text": [
      "Risk-neutral annual default probability: 2.73661%\n"
     ]
    }
   ],
   "source": [
    "Q = (pv_risk_free_bond - pv_corp_bond) / table['PV of Expected Loss'].sum()\n",
    "print(\"Risk-neutral annual default probability: %.5f%%\" % (100*Q))"
   ]
  },
  {
   "cell_type": "markdown",
   "id": "graduate-committee",
   "metadata": {},
   "source": [
    "#### Exercise 19.15\n",
    "Answer from the textbook:\n",
    "* Q1: 1.57%\n",
    "* Q2: 2.60%"
   ]
  },
  {
   "cell_type": "code",
   "execution_count": 10,
   "id": "macro-failure",
   "metadata": {},
   "outputs": [],
   "source": [
    "coupon_rate = .04\n",
    "coupon_frequency = 1  # annual payments\n",
    "risk_free_rate = .035 # continuous compounding\n",
    "ytm1_rate = .045      # continuous compounding\n",
    "ytm2_rate = .0475     # continuous compounding\n",
    "recovery_rate = .4\n",
    "T1 = 3\n",
    "T2 = 5\n",
    "notional = 100\n",
    "default_year_offset = .5 # defaults take place halfway through each year\n",
    "\n",
    "cashflow_descr1 = CashflowDescriptor(coupon_rate, coupon_frequency, notional, T1)\n",
    "cashflow_descr2 = CashflowDescriptor(coupon_rate, coupon_frequency, notional, T2)"
   ]
  },
  {
   "cell_type": "code",
   "execution_count": 11,
   "id": "painted-scotland",
   "metadata": {},
   "outputs": [
    {
     "name": "stdout",
     "output_type": "stream",
     "text": [
      "Present value risk free 3-year bond: $101.23\n",
      "Present value 3-year corporate bond: $98.35\n",
      "Present value risk free 5-year bond: $101.97\n",
      "Present value 5-year corporate bond: $96.24\n"
     ]
    }
   ],
   "source": [
    "pv_risk_free_bond1 = cashflow_descr1.pv_all_cashflows(risk_free_rate)\n",
    "pv_corp_bond1      = cashflow_descr1.pv_all_cashflows(ytm1_rate)\n",
    "print(\"Present value risk free %d-year bond: %s\" % (cashflow_descr1.T, locale.currency(pv_risk_free_bond1, grouping=True)))\n",
    "print(\"Present value %d-year corporate bond: %s\" % (cashflow_descr1.T, locale.currency(pv_corp_bond1, grouping=True)))\n",
    "\n",
    "pv_risk_free_bond2 = cashflow_descr2.pv_all_cashflows(risk_free_rate)\n",
    "pv_corp_bond2      = cashflow_descr2.pv_all_cashflows(ytm2_rate)\n",
    "print(\"Present value risk free %d-year bond: %s\" % (cashflow_descr2.T, locale.currency(pv_risk_free_bond2, grouping=True)))\n",
    "print(\"Present value %d-year corporate bond: %s\" % (cashflow_descr2.T, locale.currency(pv_corp_bond2, grouping=True)))"
   ]
  },
  {
   "cell_type": "code",
   "execution_count": 12,
   "id": "spanish-grammar",
   "metadata": {},
   "outputs": [],
   "source": [
    "# Defaults can only take place halfway through each year\n",
    "tl1 = pd.Series(np.arange(default_year_offset, cashflow_descr1.T, cashflow_descr1.coupon_interval))\n",
    "table1 = pd.DataFrame(index=tl1, columns=['Recovery Amount', 'Default-Free Value', 'Loss', 'PV of Expected Loss'])\n",
    "table1.index.name = 'Time'"
   ]
  },
  {
   "cell_type": "code",
   "execution_count": 13,
   "id": "standing-background",
   "metadata": {},
   "outputs": [],
   "source": [
    "table1['Recovery Amount'] = cashflow_descr1.notional * recovery_rate\n",
    "table1['Default-Free Value'] = table1.index.to_series().apply(lambda x: cashflow_descr1.pv_cashflows_from_time(x, risk_free_rate))\n",
    "table1['Loss'] = table1['Default-Free Value'] - cashflow_descr1.notional * recovery_rate\n",
    "table1['PV of Expected Loss'] = table1.apply(lambda row: exp(-risk_free_rate*row.name)*row.Loss, axis=1)"
   ]
  },
  {
   "cell_type": "code",
   "execution_count": 14,
   "id": "adverse-eating",
   "metadata": {},
   "outputs": [
    {
     "data": {
      "text/html": [
       "<div>\n",
       "<style scoped>\n",
       "    .dataframe tbody tr th:only-of-type {\n",
       "        vertical-align: middle;\n",
       "    }\n",
       "\n",
       "    .dataframe tbody tr th {\n",
       "        vertical-align: top;\n",
       "    }\n",
       "\n",
       "    .dataframe thead th {\n",
       "        text-align: right;\n",
       "    }\n",
       "</style>\n",
       "<table border=\"1\" class=\"dataframe\">\n",
       "  <thead>\n",
       "    <tr style=\"text-align: right;\">\n",
       "      <th></th>\n",
       "      <th>Recovery Amount</th>\n",
       "      <th>Default-Free Value</th>\n",
       "      <th>Loss</th>\n",
       "      <th>PV of Expected Loss</th>\n",
       "    </tr>\n",
       "    <tr>\n",
       "      <th>Time</th>\n",
       "      <th></th>\n",
       "      <th></th>\n",
       "      <th></th>\n",
       "      <th></th>\n",
       "    </tr>\n",
       "  </thead>\n",
       "  <tbody>\n",
       "    <tr>\n",
       "      <th>0.5</th>\n",
       "      <td>40.0</td>\n",
       "      <td>103.012789</td>\n",
       "      <td>63.012789</td>\n",
       "      <td>61.919658</td>\n",
       "    </tr>\n",
       "    <tr>\n",
       "      <th>1.5</th>\n",
       "      <td>40.0</td>\n",
       "      <td>102.611458</td>\n",
       "      <td>62.611458</td>\n",
       "      <td>59.409153</td>\n",
       "    </tr>\n",
       "    <tr>\n",
       "      <th>2.5</th>\n",
       "      <td>40.0</td>\n",
       "      <td>102.195833</td>\n",
       "      <td>62.195833</td>\n",
       "      <td>56.984995</td>\n",
       "    </tr>\n",
       "  </tbody>\n",
       "</table>\n",
       "</div>"
      ],
      "text/plain": [
       "      Recovery Amount  Default-Free Value       Loss  PV of Expected Loss\n",
       "Time                                                                     \n",
       "0.5              40.0          103.012789  63.012789            61.919658\n",
       "1.5              40.0          102.611458  62.611458            59.409153\n",
       "2.5              40.0          102.195833  62.195833            56.984995"
      ]
     },
     "execution_count": 14,
     "metadata": {},
     "output_type": "execute_result"
    }
   ],
   "source": [
    "table1"
   ]
  },
  {
   "cell_type": "code",
   "execution_count": 15,
   "id": "helpful-cleveland",
   "metadata": {},
   "outputs": [],
   "source": [
    "Q1 = (pv_risk_free_bond1 - pv_corp_bond1) / table1['PV of Expected Loss'].sum()"
   ]
  },
  {
   "cell_type": "code",
   "execution_count": 16,
   "id": "nasty-lottery",
   "metadata": {},
   "outputs": [],
   "source": [
    "tl2 = pd.Series(np.arange(default_year_offset, cashflow_descr2.T, cashflow_descr2.coupon_interval)) # Defaults can only take place immediately before coupon payment at year's end\n",
    "table2 = pd.DataFrame(index=tl2, columns=['Recovery Amount', 'Default-Free Value', 'Loss', 'PV of Expected Loss'])\n",
    "table2.index.name = 'Time'"
   ]
  },
  {
   "cell_type": "code",
   "execution_count": 17,
   "id": "israeli-setting",
   "metadata": {},
   "outputs": [],
   "source": [
    "table2['Recovery Amount'] = cashflow_descr2.notional * recovery_rate\n",
    "table2['Default-Free Value'] = table2.index.to_series().apply(lambda x: cashflow_descr2.pv_cashflows_from_time(x, risk_free_rate))\n",
    "table2['Loss'] = table2['Default-Free Value'] - cashflow_descr2.notional * recovery_rate\n",
    "table2['PV of Expected Loss'] = table2.apply(lambda row: exp(-risk_free_rate*row.name)*row.Loss, axis=1)"
   ]
  },
  {
   "cell_type": "code",
   "execution_count": 18,
   "id": "photographic-arnold",
   "metadata": {},
   "outputs": [
    {
     "data": {
      "text/html": [
       "<div>\n",
       "<style scoped>\n",
       "    .dataframe tbody tr th:only-of-type {\n",
       "        vertical-align: middle;\n",
       "    }\n",
       "\n",
       "    .dataframe tbody tr th {\n",
       "        vertical-align: top;\n",
       "    }\n",
       "\n",
       "    .dataframe thead th {\n",
       "        text-align: right;\n",
       "    }\n",
       "</style>\n",
       "<table border=\"1\" class=\"dataframe\">\n",
       "  <thead>\n",
       "    <tr style=\"text-align: right;\">\n",
       "      <th></th>\n",
       "      <th>Recovery Amount</th>\n",
       "      <th>Default-Free Value</th>\n",
       "      <th>Loss</th>\n",
       "      <th>PV of Expected Loss</th>\n",
       "    </tr>\n",
       "    <tr>\n",
       "      <th>Time</th>\n",
       "      <th></th>\n",
       "      <th></th>\n",
       "      <th></th>\n",
       "      <th></th>\n",
       "    </tr>\n",
       "  </thead>\n",
       "  <tbody>\n",
       "    <tr>\n",
       "      <th>0.5</th>\n",
       "      <td>40.0</td>\n",
       "      <td>103.774514</td>\n",
       "      <td>63.774514</td>\n",
       "      <td>62.668169</td>\n",
       "    </tr>\n",
       "    <tr>\n",
       "      <th>1.5</th>\n",
       "      <td>40.0</td>\n",
       "      <td>103.400316</td>\n",
       "      <td>63.400316</td>\n",
       "      <td>60.157664</td>\n",
       "    </tr>\n",
       "    <tr>\n",
       "      <th>2.5</th>\n",
       "      <td>40.0</td>\n",
       "      <td>103.012789</td>\n",
       "      <td>63.012789</td>\n",
       "      <td>57.733506</td>\n",
       "    </tr>\n",
       "    <tr>\n",
       "      <th>3.5</th>\n",
       "      <td>40.0</td>\n",
       "      <td>102.611458</td>\n",
       "      <td>62.611458</td>\n",
       "      <td>55.392727</td>\n",
       "    </tr>\n",
       "    <tr>\n",
       "      <th>4.5</th>\n",
       "      <td>40.0</td>\n",
       "      <td>102.195833</td>\n",
       "      <td>62.195833</td>\n",
       "      <td>53.132458</td>\n",
       "    </tr>\n",
       "  </tbody>\n",
       "</table>\n",
       "</div>"
      ],
      "text/plain": [
       "      Recovery Amount  Default-Free Value       Loss  PV of Expected Loss\n",
       "Time                                                                     \n",
       "0.5              40.0          103.774514  63.774514            62.668169\n",
       "1.5              40.0          103.400316  63.400316            60.157664\n",
       "2.5              40.0          103.012789  63.012789            57.733506\n",
       "3.5              40.0          102.611458  62.611458            55.392727\n",
       "4.5              40.0          102.195833  62.195833            53.132458"
      ]
     },
     "execution_count": 18,
     "metadata": {},
     "output_type": "execute_result"
    }
   ],
   "source": [
    "table2"
   ]
  },
  {
   "cell_type": "code",
   "execution_count": 19,
   "id": "together-producer",
   "metadata": {},
   "outputs": [
    {
     "name": "stdout",
     "output_type": "stream",
     "text": [
      "180.55933866522133 108.52518451951184\n"
     ]
    }
   ],
   "source": [
    "PV1 = table2['PV of Expected Loss'].iloc[:cashflow_descr1.T].sum()\n",
    "PV2 = table2['PV of Expected Loss'].iloc[cashflow_descr1.T:].sum()\n",
    "print(PV1, PV2)"
   ]
  },
  {
   "cell_type": "code",
   "execution_count": 20,
   "id": "plastic-trick",
   "metadata": {},
   "outputs": [],
   "source": [
    "Q2 = (pv_risk_free_bond2 - pv_corp_bond2 - Q1*PV1) / PV2"
   ]
  },
  {
   "cell_type": "code",
   "execution_count": 21,
   "id": "attached-basket",
   "metadata": {},
   "outputs": [
    {
     "name": "stdout",
     "output_type": "stream",
     "text": [
      "Q1 (Risk-neutral annual default probability for first 3 years): 1.61489%\n",
      "Q2 (Risk-neutral annual default probability for last 2 years): 2.59462%\n"
     ]
    }
   ],
   "source": [
    "print(\"Q1 (Risk-neutral annual default probability for first %d years): %.5f%%\" % (cashflow_descr1.T, 100*Q1))\n",
    "print(\"Q2 (Risk-neutral annual default probability for last %d years): %.5f%%\"\n",
    "      % (cashflow_descr2.T-cashflow_descr1.T, 100*Q2))"
   ]
  },
  {
   "cell_type": "markdown",
   "id": "unique-practice",
   "metadata": {},
   "source": [
    "#### Exercise 19.18\n",
    "Answer from the textbook:\n",
    "* V<sub>0</sub>=$6.80M\n",
    "* &sigma;<sub>V</sub>=14.82%\n",
    "* Probability of default=1.15%"
   ]
  },
  {
   "cell_type": "code",
   "execution_count": 22,
   "id": "consecutive-maple",
   "metadata": {},
   "outputs": [],
   "source": [
    "E0 = 2_000_000 # Current value of company's equity\n",
    "sigma_E = .5   # Annual volatility of company's equity\n",
    "T = 1          # Debt is due in 1 year\n",
    "D = 5_000_000  # Debt due in T years\n",
    "risk_free_rate = .04  # continuous compounding"
   ]
  },
  {
   "cell_type": "markdown",
   "id": "undefined-arthur",
   "metadata": {},
   "source": [
    "To solve two non-linear equations of the form F(x, y) = 0 and G(x, y) = 0, I use SciPy's `optimize` module and search for an (x, y) tuple that minimizes $\\left[F(x, y)\\right]^2 + \\left[G(x, y)\\right]^2$. In the below cell `obj_func_1` corresponds to the equation $V_0\\cdot N(d_1) - D\\cdot e^{-r\\cdot T}\\cdot N(d_2) - E_0 = 0$. While `obj_func_2` corresponds to the following equation derived through Ito's lemma:\n",
    "$N(d_1)\\cdot \\sigma_V\\cdot V_0 - \\sigma_E\\cdot E_0 = 0$."
   ]
  },
  {
   "cell_type": "code",
   "execution_count": 23,
   "id": "perceived-sunday",
   "metadata": {},
   "outputs": [],
   "source": [
    "# Define d1, d2, and obj_func_1 as per the Black-Scholes-Merton formula\n",
    "def  d1(V0, sigma, D, r, T):\n",
    "    return  (log(V0/D) + (r + sigma**2/2) * T) / (sigma * sqrt(T))\n",
    "def  d2(V0, sigma, D, r, T):\n",
    "    return  d1(V0, sigma, D, r, T) - sigma * sqrt(T)\n",
    "def  obj_func_1(V0, sigma, E0, D, r, T):\n",
    "    return  V0 * norm.cdf(d1(V0, sigma, D, r, T)) - D * exp(-r*T)*norm.cdf(d2(V0, sigma, D, r, T)) - E0\n",
    "def  obj_func_2(V0, sigma, sigma_equity, E0, D, r, T):\n",
    "    return  norm.cdf(d1(V0, sigma, D, r, T)) * sigma * V0 - sigma_equity * E0\n",
    "\n",
    "# We'll minimize obj_func_1^2 + obj_func_2^2\n",
    "def  obj_func(V0, sigma, sigma_equity, E0, D, r, T):\n",
    "    return  obj_func_1(V0, sigma, E0, D, r, T)**2 + obj_func_2(V0, sigma, sigma_equity, E0, D, r, T)**2"
   ]
  },
  {
   "cell_type": "code",
   "execution_count": 24,
   "id": "addressed-means",
   "metadata": {},
   "outputs": [],
   "source": [
    "# Now let's bind the arguments whose values we know, this gives us a function of two arguments -- V0 and sigma\n",
    "objective_function_aux = partial(obj_func, sigma_equity=sigma_E, E0=E0, D=D, r=risk_free_rate, T=T)\n",
    "objective_function = lambda x: objective_function_aux(x[0], x[1])"
   ]
  },
  {
   "cell_type": "code",
   "execution_count": 25,
   "id": "unexpected-pocket",
   "metadata": {},
   "outputs": [
    {
     "name": "stdout",
     "output_type": "stream",
     "text": [
      "V0=$6,801,247.19, σv=14.82%\n",
      "Probability of default in 1 year(s): 1.15%\n"
     ]
    }
   ],
   "source": [
    "x0 = (1_000_000, 0.3)        # starting with assuming V0 = $1M and volatility of assets 30%\n",
    "res = minimize(objective_function, x0, method = 'Nelder-Mead')\n",
    "if res.success:\n",
    "    print('V0=%s, \\u03C3v=%.2f%%' % (locale.currency(res.x[0], grouping=True), res.x[1] * 100))\n",
    "    print('Probability of default in %d year(s): %.2f%%' % (T, 100*norm.cdf(-d2(res.x[0], res.x[1], D, risk_free_rate, T))))"
   ]
  },
  {
   "cell_type": "markdown",
   "id": "compatible-addition",
   "metadata": {},
   "source": [
    "#### Exercise 19.22\n",
    "Answer from the textbook:\n",
    "* Price risk-less bond: \\$95.3579\n",
    "* PV of expected loss from default: \\$5.3579\n",
    "* PV of fixed leg: \\$105.3579\n",
    "* Asset-swap spread: 1.2592%"
   ]
  },
  {
   "cell_type": "code",
   "execution_count": 26,
   "id": "equivalent-spotlight",
   "metadata": {},
   "outputs": [],
   "source": [
    "coupon_rate = .05\n",
    "coupon_frequency = 2   # semiannual payments\n",
    "libor_swap_rate = .06  # continuous compounding\n",
    "T = 5                  # it's a five-year bond\n",
    "notional = 100\n",
    "pv_bond = 90.\n",
    "\n",
    "cashflow_descr = CashflowDescriptor(coupon_rate, coupon_frequency, notional, T)"
   ]
  },
  {
   "cell_type": "code",
   "execution_count": 27,
   "id": "disturbed-volunteer",
   "metadata": {},
   "outputs": [],
   "source": [
    "pv_riskfree_bond = cashflow_descr.pv_all_cashflows(libor_swap_rate)\n",
    "pv_fixed_leg     = notional - pv_bond + pv_riskfree_bond"
   ]
  },
  {
   "cell_type": "code",
   "execution_count": 28,
   "id": "authentic-package",
   "metadata": {},
   "outputs": [
    {
     "name": "stdout",
     "output_type": "stream",
     "text": [
      "Price risk-less bond: $95.3579\n",
      "PV of expected loss from default: $5.3579\n",
      "PV of fixed leg: $105.3579\n"
     ]
    }
   ],
   "source": [
    "print('Price risk-less bond: $%.4f' % pv_riskfree_bond)\n",
    "print('PV of expected loss from default: $%.4f' % (pv_riskfree_bond-pv_bond))\n",
    "print('PV of fixed leg: $%.4f' % pv_fixed_leg)"
   ]
  },
  {
   "cell_type": "markdown",
   "id": "indonesian-census",
   "metadata": {},
   "source": [
    "The reason the PV of the fixed leg is higher than the price of the risk-less bond by $10 is because the payer of the swap needs to pay the buyer the initial difference between the notional and the PV of the bond."
   ]
  },
  {
   "cell_type": "code",
   "execution_count": 29,
   "id": "noticed-field",
   "metadata": {},
   "outputs": [
    {
     "name": "stdout",
     "output_type": "stream",
     "text": [
      "Asset swap spread: 1.2592%\n"
     ]
    }
   ],
   "source": [
    "# Now we need to find a spread=libor_swap_rate+asset_swap_rate paying which will result in an equal PV over the same notional.\n",
    "# This is equivallent to minimizing this function\n",
    "objective_function = lambda spread: abs(cashflow_descr.pv_all_cashflows_with_other_coupon_rate(spread, libor_swap_rate)-pv_fixed_leg)\n",
    "spread = minimize_scalar(objective_function, bounds=(0, 10), method='bounded') # looking for a spread in [0%-1000%]\n",
    "\n",
    "# We need to convert the libor swap rate from continuous compounding to half-yearly compounding when calculating\n",
    "# the asset swap spread\n",
    "libor_swap_rate_hy = 2 * (sqrt(exp(libor_swap_rate)) - 1)\n",
    "if spread.success:\n",
    "    print('Asset swap spread: %.4f%%' % ((spread.x-libor_swap_rate_hy) * 100))"
   ]
  },
  {
   "cell_type": "code",
   "execution_count": 30,
   "id": "dominican-charleston",
   "metadata": {},
   "outputs": [],
   "source": [
    "# Verify that the asset swap spread is calculated correctly\n",
    "cashflow_descr2 = CashflowDescriptor(spread.x, coupon_frequency, notional, T)\n",
    "assert abs(pv_fixed_leg - cashflow_descr2.pv_all_cashflows(libor_swap_rate)) < 1e-3, 'Asset swap spread isn\\'t calculated correctly'"
   ]
  },
  {
   "cell_type": "markdown",
   "id": "chicken-wages",
   "metadata": {},
   "source": [
    "Now let's calculate the asset swap spread using the result from exercise 19.16 &mdash; namely that the present value of the spread must equal `pv_riskfree_bond - pv_bond`."
   ]
  },
  {
   "cell_type": "code",
   "execution_count": 31,
   "id": "seventh-shanghai",
   "metadata": {},
   "outputs": [
    {
     "name": "stdout",
     "output_type": "stream",
     "text": [
      "Present value of $1 annuity: 8.5104\n"
     ]
    }
   ],
   "source": [
    "# First let's figure out the present value of $1 received at the same frequency as coupons. This is\n",
    "# the present value of a spread of 2% per annum that pays coupons half-yearly.\n",
    "# This is equivallent to pricing an annuity that pays $1 every 6 months.\n",
    "\n",
    "# This is the present value of a riskless bond with a notional of $100 that pays 2% coupon every 6 months minus\n",
    "# the present value of the bond notional.\n",
    "cashflow_descr3 = CashflowDescriptor(0.02, coupon_frequency, notional, T)\n",
    "one_dollar_annuity = cashflow_descr3.pv_all_cashflows(libor_swap_rate) - notional*exp(-libor_swap_rate*(T))\n",
    "\n",
    "# Or we can price it using the standard formula for annuity.\n",
    "# For which we'll need to switch to half-yearly compounding frequency.\n",
    "r = libor_swap_rate_hy / 2\n",
    "one_dollar_annuity_ = (1. - (1 + r)**-len(cashflow_descr3.timeline)) / r\n",
    "\n",
    "assert abs(one_dollar_annuity - one_dollar_annuity_) < 1e-10, '$1 annuity isn\\'t calculated correctly'\n",
    "print('Present value of $1 annuity: {:.4f}'. format(one_dollar_annuity))"
   ]
  },
  {
   "cell_type": "code",
   "execution_count": 32,
   "id": "pleasant-strengthening",
   "metadata": {},
   "outputs": [
    {
     "name": "stdout",
     "output_type": "stream",
     "text": [
      "Asset swap spread: 1.2591%\n"
     ]
    }
   ],
   "source": [
    "# Now let's see by how much the half-yearly annuity payment must be adjusted to equal the present value of\n",
    "# pv_riskfree_bond - pv_bond.\n",
    "\n",
    "# Since the present value of a spread of 2% is calculated as a sum of half-yearly spread payments discounted\n",
    "# with riskless rate, the factor by which the present value of the required spread exceeds the 2% spread\n",
    "# is the factor that when applied to the 2% spread gives us the required asset spread.\n",
    "required_annuity_payment = (pv_riskfree_bond - pv_bond) / one_dollar_annuity\n",
    "\n",
    "# The asset swap spread is therefore `required_annuity_payment` expressed as an annual rate with semiannual\n",
    "# compounding frequency.\n",
    "print('Asset swap spread: {:.4f}%'.format(required_annuity_payment*2))"
   ]
  },
  {
   "cell_type": "markdown",
   "id": "private-christopher",
   "metadata": {},
   "source": [
    "#### Exercise 19.23"
   ]
  },
  {
   "cell_type": "code",
   "execution_count": 33,
   "id": "false-point",
   "metadata": {},
   "outputs": [],
   "source": [
    "coupon_rate = .07\n",
    "coupon_frequency = 2  # semiannual payments\n",
    "ytm_rate = .05        # semiannual compounding\n",
    "ytm_rf_rate = .04     # semiannual compounding\n",
    "risk_free_rate = CashflowDescriptor.to_continuous_compounding(ytm_rf_rate, 2) # continuous compounding\n",
    "recovery_rate = .45\n",
    "T = 3\n",
    "notional = 100\n",
    "default_year_offset = .5 # defaults take place halfway through each year\n",
    "\n",
    "cashflow_descr = CashflowDescriptor(coupon_rate, coupon_frequency, notional, T)"
   ]
  },
  {
   "cell_type": "code",
   "execution_count": 34,
   "id": "checked-victorian",
   "metadata": {},
   "outputs": [
    {
     "name": "stdout",
     "output_type": "stream",
     "text": [
      "Present value risk free bond: $108.40\n",
      "Present value corporate bond: $105.51\n"
     ]
    }
   ],
   "source": [
    "pv_risk_free_bond = cashflow_descr.pv_all_cashflows(risk_free_rate)\n",
    "pv_corp_bond      = cashflow_descr.pv_all_cashflows(CashflowDescriptor.to_continuous_compounding(ytm_rate, 2))\n",
    "print(\"Present value risk free bond: %s\" % locale.currency(pv_risk_free_bond, grouping=True))\n",
    "print(\"Present value corporate bond: %s\" % locale.currency(pv_corp_bond, grouping=True))"
   ]
  },
  {
   "cell_type": "code",
   "execution_count": 35,
   "id": "comprehensive-cursor",
   "metadata": {},
   "outputs": [],
   "source": [
    "# Defaults can only take place immediately before coupon payment every 6 months\n",
    "tl = pd.Series(np.arange(default_year_offset, cashflow_descr.T + cashflow_descr.coupon_interval,\n",
    "                         cashflow_descr.coupon_interval))\n",
    "table = pd.DataFrame(index=tl, columns=['Recovery Amount', 'Default-Free Value', 'Loss', 'PV of Expected Loss'])\n",
    "table.index.name = 'Time'"
   ]
  },
  {
   "cell_type": "code",
   "execution_count": 36,
   "id": "prerequisite-rings",
   "metadata": {},
   "outputs": [],
   "source": [
    "table['Recovery Amount'] = cashflow_descr.notional * recovery_rate\n",
    "table['Default-Free Value'] = table.index.to_series().apply(lambda x: cashflow_descr.pv_cashflows_from_time(x, risk_free_rate))\n",
    "table['Loss'] = table['Default-Free Value'] - cashflow_descr.notional * recovery_rate\n",
    "table['PV of Expected Loss'] = table.apply(lambda row: exp(-risk_free_rate*row.name)*row.Loss, axis=1)"
   ]
  },
  {
   "cell_type": "code",
   "execution_count": 37,
   "id": "medieval-break",
   "metadata": {},
   "outputs": [
    {
     "data": {
      "text/html": [
       "<div>\n",
       "<style scoped>\n",
       "    .dataframe tbody tr th:only-of-type {\n",
       "        vertical-align: middle;\n",
       "    }\n",
       "\n",
       "    .dataframe tbody tr th {\n",
       "        vertical-align: top;\n",
       "    }\n",
       "\n",
       "    .dataframe thead th {\n",
       "        text-align: right;\n",
       "    }\n",
       "</style>\n",
       "<table border=\"1\" class=\"dataframe\">\n",
       "  <thead>\n",
       "    <tr style=\"text-align: right;\">\n",
       "      <th></th>\n",
       "      <th>Recovery Amount</th>\n",
       "      <th>Default-Free Value</th>\n",
       "      <th>Loss</th>\n",
       "      <th>PV of Expected Loss</th>\n",
       "    </tr>\n",
       "    <tr>\n",
       "      <th>Time</th>\n",
       "      <th></th>\n",
       "      <th></th>\n",
       "      <th></th>\n",
       "      <th></th>\n",
       "    </tr>\n",
       "  </thead>\n",
       "  <tbody>\n",
       "    <tr>\n",
       "      <th>0.5</th>\n",
       "      <td>45.0</td>\n",
       "      <td>110.570189</td>\n",
       "      <td>65.570189</td>\n",
       "      <td>64.284499</td>\n",
       "    </tr>\n",
       "    <tr>\n",
       "      <th>1.0</th>\n",
       "      <td>45.0</td>\n",
       "      <td>109.211593</td>\n",
       "      <td>64.211593</td>\n",
       "      <td>61.718179</td>\n",
       "    </tr>\n",
       "    <tr>\n",
       "      <th>1.5</th>\n",
       "      <td>45.0</td>\n",
       "      <td>107.825825</td>\n",
       "      <td>62.825825</td>\n",
       "      <td>59.202178</td>\n",
       "    </tr>\n",
       "    <tr>\n",
       "      <th>2.0</th>\n",
       "      <td>45.0</td>\n",
       "      <td>106.412341</td>\n",
       "      <td>61.412341</td>\n",
       "      <td>56.735511</td>\n",
       "    </tr>\n",
       "    <tr>\n",
       "      <th>2.5</th>\n",
       "      <td>45.0</td>\n",
       "      <td>104.970588</td>\n",
       "      <td>59.970588</td>\n",
       "      <td>54.317209</td>\n",
       "    </tr>\n",
       "    <tr>\n",
       "      <th>3.0</th>\n",
       "      <td>45.0</td>\n",
       "      <td>103.500000</td>\n",
       "      <td>58.500000</td>\n",
       "      <td>51.946326</td>\n",
       "    </tr>\n",
       "  </tbody>\n",
       "</table>\n",
       "</div>"
      ],
      "text/plain": [
       "      Recovery Amount  Default-Free Value       Loss  PV of Expected Loss\n",
       "Time                                                                     \n",
       "0.5              45.0          110.570189  65.570189            64.284499\n",
       "1.0              45.0          109.211593  64.211593            61.718179\n",
       "1.5              45.0          107.825825  62.825825            59.202178\n",
       "2.0              45.0          106.412341  61.412341            56.735511\n",
       "2.5              45.0          104.970588  59.970588            54.317209\n",
       "3.0              45.0          103.500000  58.500000            51.946326"
      ]
     },
     "execution_count": 37,
     "metadata": {},
     "output_type": "execute_result"
    }
   ],
   "source": [
    "table"
   ]
  },
  {
   "cell_type": "code",
   "execution_count": 38,
   "id": "resistant-concert",
   "metadata": {},
   "outputs": [],
   "source": [
    "pv_loss_from_default = pv_risk_free_bond - pv_corp_bond\n",
    "uncond_prob = pv_loss_from_default / table['PV of Expected Loss'].sum()"
   ]
  },
  {
   "cell_type": "code",
   "execution_count": 39,
   "id": "relevant-curtis",
   "metadata": {},
   "outputs": [
    {
     "name": "stdout",
     "output_type": "stream",
     "text": [
      "Unconditional semiannual default probability: 0.00831\n"
     ]
    }
   ],
   "source": [
    "print('Unconditional semiannual default probability: {:.5f}'.format(uncond_prob))"
   ]
  },
  {
   "cell_type": "markdown",
   "id": "variable-toolbox",
   "metadata": {},
   "source": [
    "Calculating conditional default probabilities is a little trickier and requires solving a small optimization problem."
   ]
  },
  {
   "cell_type": "code",
   "execution_count": 40,
   "id": "instructional-webster",
   "metadata": {},
   "outputs": [
    {
     "name": "stdout",
     "output_type": "stream",
     "text": [
      "Conditional semiannual default probability: 0.00848\n"
     ]
    }
   ],
   "source": [
    "def objective_function(q_cond):\n",
    "    series = table['PV of Expected Loss']\n",
    "    sum = 0.\n",
    "    for i, idx in enumerate(series.index):\n",
    "        sum += series[idx] * q_cond * (1 - q_cond)**i\n",
    "    return abs(sum - pv_loss_from_default)\n",
    "\n",
    "# looking for a probability implies the [0, 1] range\n",
    "cond_prob = minimize_scalar(objective_function, bounds=(0, 1), method='bounded')\n",
    "if cond_prob.success:\n",
    "    print('Conditional semiannual default probability: {:.5f}'.format(cond_prob.x))"
   ]
  },
  {
   "cell_type": "markdown",
   "id": "continental-nightlife",
   "metadata": {},
   "source": [
    "#### Exercise 19.24"
   ]
  },
  {
   "cell_type": "code",
   "execution_count": 41,
   "id": "tight-classic",
   "metadata": {},
   "outputs": [],
   "source": [
    "coupon_rate = .08\n",
    "coupon_frequency = 1  # annual payments\n",
    "risk_free_rate = .045 # continuous compounding\n",
    "ytm1_rate = .06       # continuous compounding\n",
    "ytm2_rate = .066      # continuous compounding\n",
    "recovery_rate = .35\n",
    "T1 = 1\n",
    "T2 = 2\n",
    "notional = 100\n",
    "default_year_offset = .5 # defaults take place halfway through each year\n",
    "\n",
    "cashflow_descr1 = CashflowDescriptor(coupon_rate, coupon_frequency, notional, T1)\n",
    "cashflow_descr2 = CashflowDescriptor(coupon_rate, coupon_frequency, notional, T2)"
   ]
  },
  {
   "cell_type": "code",
   "execution_count": 42,
   "id": "breathing-definition",
   "metadata": {},
   "outputs": [
    {
     "name": "stdout",
     "output_type": "stream",
     "text": [
      "Present value risk free 1-year bond: $103.25\n",
      "Present value 1-year corporate bond: $101.71\n",
      "Present value risk free 2-year bond: $106.35\n",
      "Present value 2-year corporate bond: $102.13\n"
     ]
    }
   ],
   "source": [
    "pv_risk_free_bond1 = cashflow_descr1.pv_all_cashflows(risk_free_rate)\n",
    "pv_corp_bond1      = cashflow_descr1.pv_all_cashflows(ytm1_rate)\n",
    "print(\"Present value risk free %d-year bond: %s\" % (cashflow_descr1.T, locale.currency(pv_risk_free_bond1, grouping=True)))\n",
    "print(\"Present value %d-year corporate bond: %s\" % (cashflow_descr1.T, locale.currency(pv_corp_bond1, grouping=True)))\n",
    "\n",
    "pv_risk_free_bond2 = cashflow_descr2.pv_all_cashflows(risk_free_rate)\n",
    "pv_corp_bond2      = cashflow_descr2.pv_all_cashflows(ytm2_rate)\n",
    "print(\"Present value risk free %d-year bond: %s\" % (cashflow_descr2.T, locale.currency(pv_risk_free_bond2, grouping=True)))\n",
    "print(\"Present value %d-year corporate bond: %s\" % (cashflow_descr2.T, locale.currency(pv_corp_bond2, grouping=True)))"
   ]
  },
  {
   "cell_type": "code",
   "execution_count": 43,
   "id": "peaceful-singing",
   "metadata": {},
   "outputs": [],
   "source": [
    "# Defaults can only take place halfway through each year\n",
    "tl1 = pd.Series(np.arange(default_year_offset, cashflow_descr1.T, cashflow_descr1.coupon_interval))\n",
    "table1 = pd.DataFrame(index=tl1, columns=['Recovery Amount', 'Default-Free Value', 'Loss', 'PV of Expected Loss'])\n",
    "table1.index.name = 'Time'"
   ]
  },
  {
   "cell_type": "code",
   "execution_count": 44,
   "id": "stretch-applicant",
   "metadata": {},
   "outputs": [],
   "source": [
    "table1['Recovery Amount'] = cashflow_descr1.notional * recovery_rate\n",
    "table1['Default-Free Value'] = table1.index.to_series().apply(lambda x: cashflow_descr1.pv_cashflows_from_time(x, risk_free_rate))\n",
    "table1['Loss'] = table1['Default-Free Value'] - cashflow_descr1.notional * recovery_rate\n",
    "table1['PV of Expected Loss'] = table1.apply(lambda row: exp(-risk_free_rate*row.name)*row.Loss, axis=1)"
   ]
  },
  {
   "cell_type": "code",
   "execution_count": 45,
   "id": "necessary-library",
   "metadata": {},
   "outputs": [
    {
     "data": {
      "text/html": [
       "<div>\n",
       "<style scoped>\n",
       "    .dataframe tbody tr th:only-of-type {\n",
       "        vertical-align: middle;\n",
       "    }\n",
       "\n",
       "    .dataframe tbody tr th {\n",
       "        vertical-align: top;\n",
       "    }\n",
       "\n",
       "    .dataframe thead th {\n",
       "        text-align: right;\n",
       "    }\n",
       "</style>\n",
       "<table border=\"1\" class=\"dataframe\">\n",
       "  <thead>\n",
       "    <tr style=\"text-align: right;\">\n",
       "      <th></th>\n",
       "      <th>Recovery Amount</th>\n",
       "      <th>Default-Free Value</th>\n",
       "      <th>Loss</th>\n",
       "      <th>PV of Expected Loss</th>\n",
       "    </tr>\n",
       "    <tr>\n",
       "      <th>Time</th>\n",
       "      <th></th>\n",
       "      <th></th>\n",
       "      <th></th>\n",
       "      <th></th>\n",
       "    </tr>\n",
       "  </thead>\n",
       "  <tbody>\n",
       "    <tr>\n",
       "      <th>0.5</th>\n",
       "      <td>35.0</td>\n",
       "      <td>105.597134</td>\n",
       "      <td>70.597134</td>\n",
       "      <td>69.026435</td>\n",
       "    </tr>\n",
       "  </tbody>\n",
       "</table>\n",
       "</div>"
      ],
      "text/plain": [
       "      Recovery Amount  Default-Free Value       Loss  PV of Expected Loss\n",
       "Time                                                                     \n",
       "0.5              35.0          105.597134  70.597134            69.026435"
      ]
     },
     "execution_count": 45,
     "metadata": {},
     "output_type": "execute_result"
    }
   ],
   "source": [
    "table1"
   ]
  },
  {
   "cell_type": "code",
   "execution_count": 46,
   "id": "theoretical-antigua",
   "metadata": {},
   "outputs": [],
   "source": [
    "Q1 = (pv_risk_free_bond1 - pv_corp_bond1) / table1['PV of Expected Loss'].sum()"
   ]
  },
  {
   "cell_type": "code",
   "execution_count": 47,
   "id": "classified-tournament",
   "metadata": {},
   "outputs": [],
   "source": [
    "tl2 = pd.Series(np.arange(default_year_offset, cashflow_descr2.T, cashflow_descr2.coupon_interval)) # Defaults can only take place immediately before coupon payment at year's end\n",
    "table2 = pd.DataFrame(index=tl2, columns=['Recovery Amount', 'Default-Free Value', 'Loss', 'PV of Expected Loss'])\n",
    "table2.index.name = 'Time'"
   ]
  },
  {
   "cell_type": "code",
   "execution_count": 48,
   "id": "grand-image",
   "metadata": {},
   "outputs": [],
   "source": [
    "table2['Recovery Amount'] = cashflow_descr2.notional * recovery_rate\n",
    "table2['Default-Free Value'] = table2.index.to_series().apply(lambda x: cashflow_descr2.pv_cashflows_from_time(x, risk_free_rate))\n",
    "table2['Loss'] = table2['Default-Free Value'] - cashflow_descr2.notional * recovery_rate\n",
    "table2['PV of Expected Loss'] = table2.apply(lambda row: exp(-risk_free_rate*row.name)*row.Loss, axis=1)"
   ]
  },
  {
   "cell_type": "code",
   "execution_count": 49,
   "id": "opponent-departure",
   "metadata": {},
   "outputs": [
    {
     "data": {
      "text/html": [
       "<div>\n",
       "<style scoped>\n",
       "    .dataframe tbody tr th:only-of-type {\n",
       "        vertical-align: middle;\n",
       "    }\n",
       "\n",
       "    .dataframe tbody tr th {\n",
       "        vertical-align: top;\n",
       "    }\n",
       "\n",
       "    .dataframe thead th {\n",
       "        text-align: right;\n",
       "    }\n",
       "</style>\n",
       "<table border=\"1\" class=\"dataframe\">\n",
       "  <thead>\n",
       "    <tr style=\"text-align: right;\">\n",
       "      <th></th>\n",
       "      <th>Recovery Amount</th>\n",
       "      <th>Default-Free Value</th>\n",
       "      <th>Loss</th>\n",
       "      <th>PV of Expected Loss</th>\n",
       "    </tr>\n",
       "    <tr>\n",
       "      <th>Time</th>\n",
       "      <th></th>\n",
       "      <th></th>\n",
       "      <th></th>\n",
       "      <th></th>\n",
       "    </tr>\n",
       "  </thead>\n",
       "  <tbody>\n",
       "    <tr>\n",
       "      <th>0.5</th>\n",
       "      <td>35.0</td>\n",
       "      <td>108.772604</td>\n",
       "      <td>73.772604</td>\n",
       "      <td>72.131255</td>\n",
       "    </tr>\n",
       "    <tr>\n",
       "      <th>1.5</th>\n",
       "      <td>35.0</td>\n",
       "      <td>105.597134</td>\n",
       "      <td>70.597134</td>\n",
       "      <td>65.989098</td>\n",
       "    </tr>\n",
       "  </tbody>\n",
       "</table>\n",
       "</div>"
      ],
      "text/plain": [
       "      Recovery Amount  Default-Free Value       Loss  PV of Expected Loss\n",
       "Time                                                                     \n",
       "0.5              35.0          108.772604  73.772604            72.131255\n",
       "1.5              35.0          105.597134  70.597134            65.989098"
      ]
     },
     "execution_count": 49,
     "metadata": {},
     "output_type": "execute_result"
    }
   ],
   "source": [
    "table2"
   ]
  },
  {
   "cell_type": "code",
   "execution_count": 50,
   "id": "accurate-worse",
   "metadata": {},
   "outputs": [
    {
     "name": "stdout",
     "output_type": "stream",
     "text": [
      "72.13125456219066 65.98909778773168\n"
     ]
    }
   ],
   "source": [
    "PV1 = table2['PV of Expected Loss'].iloc[:cashflow_descr1.T].sum()\n",
    "PV2 = table2['PV of Expected Loss'].iloc[cashflow_descr1.T:].sum()\n",
    "print(PV1, PV2)"
   ]
  },
  {
   "cell_type": "code",
   "execution_count": 51,
   "id": "sudden-yugoslavia",
   "metadata": {},
   "outputs": [],
   "source": [
    "Q2 = (pv_risk_free_bond2 - pv_corp_bond2 - Q1*PV1) / PV2"
   ]
  },
  {
   "cell_type": "code",
   "execution_count": 52,
   "id": "generous-burke",
   "metadata": {},
   "outputs": [
    {
     "name": "stdout",
     "output_type": "stream",
     "text": [
      "Q1 (Risk-neutral annual default probability for first 1 years): 2.22691%\n",
      "Q2 (Risk-neutral annual default probability for last 1 years): 3.95880%\n"
     ]
    }
   ],
   "source": [
    "print('Q1 (Risk-neutral annual default probability for first {:d} years): {:.5%}'.format(\n",
    "    cashflow_descr1.T, Q1))\n",
    "print('Q2 (Risk-neutral annual default probability for last {:d} years): {:.5%}'.format(\n",
    "    cashflow_descr2.T-cashflow_descr1.T, Q2))"
   ]
  },
  {
   "cell_type": "markdown",
   "id": "closing-bronze",
   "metadata": {},
   "source": [
    "#### Exercise 19.25\n",
    "The exercise is similar to Ex 19.18. I will reuse the objective functions defined for it."
   ]
  },
  {
   "cell_type": "code",
   "execution_count": 53,
   "id": "prescribed-dating",
   "metadata": {},
   "outputs": [],
   "source": [
    "E0 = 4_000_000 # Current value of company's equity\n",
    "sigma_E = .6   # Annual volatility of company's equity\n",
    "T = 2          # Debt is due in 2 years\n",
    "D = 15_000_000  # Debt due in T years\n",
    "risk_free_rate = .06  # continuous compounding"
   ]
  },
  {
   "cell_type": "code",
   "execution_count": 54,
   "id": "rational-timothy",
   "metadata": {},
   "outputs": [],
   "source": [
    "# Let's bind the arguments whose values we know, this gives us a function of two arguments -- V0 and sigma\n",
    "objective_function_aux = partial(obj_func, sigma_equity=sigma_E, E0=E0, D=D, r=risk_free_rate, T=T)\n",
    "objective_function = lambda x: objective_function_aux(x[0], x[1])"
   ]
  },
  {
   "cell_type": "code",
   "execution_count": 55,
   "id": "operational-sodium",
   "metadata": {},
   "outputs": [],
   "source": [
    "x0 = (1_000_000, 0.3)        # starting with assuming V0 = $1M and volatility of assets 30%\n",
    "res = minimize(objective_function, x0, method = 'Nelder-Mead')"
   ]
  },
  {
   "cell_type": "markdown",
   "id": "useful-ferry",
   "metadata": {},
   "source": [
    "The market value of the debt is V<sub>0</sub> - E<sub>0</sub>."
   ]
  },
  {
   "cell_type": "code",
   "execution_count": 56,
   "id": "advisory-island",
   "metadata": {},
   "outputs": [
    {
     "name": "stdout",
     "output_type": "stream",
     "text": [
      "V0=$17,083,946.65, σv=15.76%\n",
      "Probability of default in 2 year(s): 15.61%\n",
      "Current market value of debt: $13,083,946.65\n",
      "Present value of expected loss from default: $219,859.90\n",
      "Estimate of recovery rate: 98.35%\n"
     ]
    }
   ],
   "source": [
    "if res.success:\n",
    "    print('V0={:s}, \\u03C3v={:.2%}'.format(locale.currency(res.x[0], grouping=True), res.x[1]))\n",
    "    print('Probability of default in {:d} year(s): {:.2%}'.format(\n",
    "          T, norm.cdf(-d2(res.x[0], res.x[1], D, risk_free_rate, T))) )\n",
    "    debt_mkt_val = res.x[0] - E0\n",
    "    print('Current market value of debt: {:s}'.format(locale.currency(debt_mkt_val, grouping=True)))\n",
    "    pv_debt_payment = D * exp(-risk_free_rate * T)\n",
    "    pv_expected_loss = pv_debt_payment - debt_mkt_val\n",
    "    print('Present value of expected loss from default: {:s}'.format(locale.currency(pv_expected_loss, grouping=True)))\n",
    "    print('Estimate of recovery rate: {:.2%}'.format(1 - pv_expected_loss/pv_debt_payment))"
   ]
  },
  {
   "cell_type": "code",
   "execution_count": null,
   "id": "obvious-costume",
   "metadata": {},
   "outputs": [],
   "source": []
  }
 ],
 "metadata": {
  "kernelspec": {
   "display_name": "Python 3",
   "language": "python",
   "name": "python3"
  },
  "language_info": {
   "codemirror_mode": {
    "name": "ipython",
    "version": 3
   },
   "file_extension": ".py",
   "mimetype": "text/x-python",
   "name": "python",
   "nbconvert_exporter": "python",
   "pygments_lexer": "ipython3",
   "version": "3.9.0"
  }
 },
 "nbformat": 4,
 "nbformat_minor": 5
}
