{
 "cells": [
  {
   "cell_type": "markdown",
   "id": "wound-intervention",
   "metadata": {},
   "source": [
    "# CVA and DVA"
   ]
  },
  {
   "cell_type": "code",
   "execution_count": 1,
   "id": "vertical-salon",
   "metadata": {},
   "outputs": [],
   "source": [
    "import numpy as np\n",
    "import pandas as pd\n",
    "from scipy.stats import norm\n",
    "from scipy.optimize import minimize\n",
    "from scipy.optimize import minimize_scalar\n",
    "from math import exp\n",
    "from math import log\n",
    "from math import sqrt\n",
    "from functools import partial\n",
    "import locale"
   ]
  },
  {
   "cell_type": "code",
   "execution_count": 2,
   "id": "finnish-accounting",
   "metadata": {},
   "outputs": [],
   "source": [
    "_ = locale.setlocale(locale.LC_ALL, '')"
   ]
  },
  {
   "cell_type": "markdown",
   "id": "reverse-senator",
   "metadata": {},
   "source": [
    "#### Exercise 20.13"
   ]
  },
  {
   "cell_type": "code",
   "execution_count": 3,
   "id": "broad-philadelphia",
   "metadata": {},
   "outputs": [],
   "source": [
    "T = 2.\n",
    "K = 1500.\n",
    "F0 = 1600.\n",
    "risk_free_rate = .05 # continuous compounding\n",
    "recovery_rate = .3\n",
    "sigma_gold = .2      # Annual volatility of forward price of gold\n",
    "default_year_offset = 1./24 # defaults take place in the middle of each month\n",
    "q1 = .001667 # Monthly unconditional default probability in the first year\n",
    "q2 = .0025   # Monthly unconditional default probability in the second year"
   ]
  },
  {
   "cell_type": "code",
   "execution_count": 4,
   "id": "narrative-fundamentals",
   "metadata": {},
   "outputs": [],
   "source": [
    "# Possible times of default in the first and the second years of the forward contract\n",
    "t1s = np.array([default_year_offset + i/12. for i in range(12)])\n",
    "t2s = 1. + t1s"
   ]
  },
  {
   "cell_type": "code",
   "execution_count": 5,
   "id": "solar-timer",
   "metadata": {},
   "outputs": [],
   "source": [
    "# Define d1, d2 as per the Black-Scholes-Merton formula for a futures or forward price\n",
    "# Any of the arguments can be either a scalar or a numpy array\n",
    "def  d1(S0, sigma, K, T, r=0.):\n",
    "    return  (np.log(S0/K) + (r + np.square(sigma) / 2) * T) / (sigma * np.sqrt(T))\n",
    "def  d2(S0, sigma, K, T, r=0.):\n",
    "    return  d1(S0, sigma, K, T, r) - sigma * np.sqrt(T)"
   ]
  },
  {
   "cell_type": "code",
   "execution_count": 6,
   "id": "productive-guitar",
   "metadata": {},
   "outputs": [],
   "source": [
    "# Here we are valuing a call on a forward contract\n",
    "def  ts_to_exposures(ts):\n",
    "    return  exp(-risk_free_rate * T)\\\n",
    "        * (F0*norm.cdf(d1(F0, sigma_gold, K, ts)) - K*norm.cdf(d2(F0, sigma_gold, K, ts)))"
   ]
  },
  {
   "cell_type": "code",
   "execution_count": 7,
   "id": "monetary-florence",
   "metadata": {},
   "outputs": [],
   "source": [
    "v1s = ts_to_exposures(t1s)\n",
    "v2s = ts_to_exposures(t2s)"
   ]
  },
  {
   "cell_type": "code",
   "execution_count": 8,
   "id": "curious-consultation",
   "metadata": {},
   "outputs": [],
   "source": [
    "cva = (1 - recovery_rate) * ((q1 * v1s).sum() + (q2 * v2s).sum())"
   ]
  },
  {
   "cell_type": "code",
   "execution_count": 9,
   "id": "suspended-mistake",
   "metadata": {},
   "outputs": [
    {
     "name": "stdout",
     "output_type": "stream",
     "text": [
      "CVA of the forward contract: $5.73\n"
     ]
    }
   ],
   "source": [
    "print('CVA of the forward contract: {:s}'.format(locale.currency(cva, grouping=True)))"
   ]
  },
  {
   "cell_type": "markdown",
   "id": "characteristic-princess",
   "metadata": {},
   "source": [
    "#### Exercise 20.14"
   ]
  },
  {
   "cell_type": "code",
   "execution_count": 10,
   "id": "healthy-pharmacology",
   "metadata": {},
   "outputs": [],
   "source": [
    "q_bank = 1e-3\n",
    "recovery_rate_bank = .4"
   ]
  },
  {
   "cell_type": "code",
   "execution_count": 11,
   "id": "assisted-simple",
   "metadata": {},
   "outputs": [],
   "source": [
    "# Here we are valuing a put on a forward contract (as we are looking to the transaction\n",
    "# through the eyes of the counterparty)\n",
    "def  ts_to_exposures_dva(ts):\n",
    "    return  exp(-risk_free_rate * T)\\\n",
    "        * (K*norm.cdf(-d2(F0, sigma_gold, K, ts)) - F0*norm.cdf(-d1(F0, sigma_gold, K, ts)))"
   ]
  },
  {
   "cell_type": "code",
   "execution_count": 12,
   "id": "warming-paraguay",
   "metadata": {},
   "outputs": [],
   "source": [
    "v1s_cpy = ts_to_exposures_dva(t1s)\n",
    "v2s_cpy = ts_to_exposures_dva(t2s)"
   ]
  },
  {
   "cell_type": "code",
   "execution_count": 13,
   "id": "handed-knight",
   "metadata": {},
   "outputs": [],
   "source": [
    "dva = (1 - recovery_rate_bank) * (q_bank * np.concatenate((v1s_cpy, v2s_cpy))).sum()"
   ]
  },
  {
   "cell_type": "code",
   "execution_count": 14,
   "id": "hungry-particular",
   "metadata": {},
   "outputs": [
    {
     "name": "stdout",
     "output_type": "stream",
     "text": [
      "DVA of the forward contract: $0.97\n"
     ]
    }
   ],
   "source": [
    "print('DVA of the forward contract: {:s}'.format(locale.currency(dva, grouping=True)))"
   ]
  },
  {
   "cell_type": "markdown",
   "id": "tropical-organizer",
   "metadata": {},
   "source": [
    "#### Exercise 20.15"
   ]
  },
  {
   "cell_type": "code",
   "execution_count": 23,
   "id": "organic-assurance",
   "metadata": {},
   "outputs": [],
   "source": [
    "S0 = 52.\n",
    "K = 50.\n",
    "risk_free_rate = .05 # continuous compounding\n",
    "sigma_stock = .3\n",
    "T = 1\n",
    "recovery_rate = 0.\n",
    "q = .02    # Probability of default at maturity of option seller"
   ]
  },
  {
   "cell_type": "markdown",
   "id": "present-spencer",
   "metadata": {},
   "source": [
    "**(a)** Pricing a non-dividend-paying Eurpoean call option."
   ]
  },
  {
   "cell_type": "code",
   "execution_count": 16,
   "id": "automatic-paint",
   "metadata": {},
   "outputs": [],
   "source": [
    "c = S0*norm.cdf(d1(S0, sigma_stock, K, T, risk_free_rate))\\\n",
    "    - K*exp(-risk_free_rate*T)*norm.cdf(d2(S0, sigma_stock, K, T, risk_free_rate))"
   ]
  },
  {
   "cell_type": "code",
   "execution_count": 17,
   "id": "fundamental-significance",
   "metadata": {},
   "outputs": [
    {
     "name": "stdout",
     "output_type": "stream",
     "text": [
      "Value of the option assuming no possibility of default: $8.41\n"
     ]
    }
   ],
   "source": [
    "print('Value of the option assuming no possibility of default: {:s}'.format(locale.currency(c, grouping=True)))"
   ]
  },
  {
   "cell_type": "markdown",
   "id": "developing-trust",
   "metadata": {},
   "source": [
    "**(b)** Pricing the same option with CVA."
   ]
  },
  {
   "cell_type": "code",
   "execution_count": 18,
   "id": "alone-prince",
   "metadata": {},
   "outputs": [
    {
     "name": "stdout",
     "output_type": "stream",
     "text": [
      "CVA: $0.17\n",
      "Value of the option with CVA: $8.25\n"
     ]
    }
   ],
   "source": [
    "cva = c * q\n",
    "print('CVA: {:s}\\nValue of the option with CVA: {:s}'.format(\n",
    "    locale.currency(cva, grouping=True),\n",
    "    locale.currency(c - cva, grouping=True)))"
   ]
  },
  {
   "cell_type": "markdown",
   "id": "tribal-peeing",
   "metadata": {},
   "source": [
    "**(c)** Pricing the same option with delayed premium payment.\n",
    "\n",
    "If the option's buyer pays the option price (with interest) at maturity, the exposure from default to the buyer will equal $max(S - K + c\\cdot e^{r\\cdot T}, 0)$. In other words, to find the new exposure we'll need to price an option on the same stock but with a different strike."
   ]
  },
  {
   "cell_type": "code",
   "execution_count": 19,
   "id": "southern-graduation",
   "metadata": {},
   "outputs": [],
   "source": [
    "K_adjusted = K + c * exp(risk_free_rate * T)\n",
    "c_adjusted = S0*norm.cdf(d1(S0, sigma_stock, K_adjusted, T, risk_free_rate))\\\n",
    "    - K_adjusted*exp(-risk_free_rate*T)*norm.cdf(d2(S0, sigma_stock, K_adjusted, T, risk_free_rate))\n",
    "cva_adjusted = c_adjusted * q"
   ]
  },
  {
   "cell_type": "code",
   "execution_count": 26,
   "id": "sensitive-privilege",
   "metadata": {},
   "outputs": [
    {
     "name": "stdout",
     "output_type": "stream",
     "text": [
      "Paying option price at maturity with interest leads to an adjusted CVA of: $0.09\n",
      "It thus reduces the cost of defaults by: $0.08, compared with paying the premium upfront\n"
     ]
    }
   ],
   "source": [
    "print('Paying option price at maturity with interest leads to an adjusted CVA of: {:s}\\n'\n",
    "      'It thus reduces the cost of defaults by: {:s}, compared with paying the premium upfront'.format(\n",
    "          locale.currency(cva_adjusted, grouping=True), \n",
    "          locale.currency(cva - cva_adjusted, grouping=True)))"
   ]
  },
  {
   "cell_type": "markdown",
   "id": "several-truck",
   "metadata": {},
   "source": [
    "**(d)** Pricing the DVA on the same option with delayed premium payment.\n",
    "\n",
    "The exposure to the dealer will be $max(K + c\\cdot e^{r\\cdot T} - S, 0)$. In othwe words, to find the exposure to the dealer we'll need to price the corresponding European put option with a strike of $K + c\\cdot e^{r\\cdot T}$."
   ]
  },
  {
   "cell_type": "code",
   "execution_count": 24,
   "id": "large-negotiation",
   "metadata": {},
   "outputs": [],
   "source": [
    "q_buyer = .01    # Probability of default at maturity of option buyer"
   ]
  },
  {
   "cell_type": "code",
   "execution_count": 25,
   "id": "alike-mainstream",
   "metadata": {},
   "outputs": [],
   "source": [
    "p = K_adjusted*exp(-risk_free_rate*T)*norm.cdf(-d2(S0, sigma_stock, K_adjusted, T, risk_free_rate))\\\n",
    "    - S0*norm.cdf(-d1(S0, sigma_stock, K_adjusted, T, risk_free_rate))\n",
    "dva = p * q_buyer"
   ]
  },
  {
   "cell_type": "code",
   "execution_count": 27,
   "id": "played-lawsuit",
   "metadata": {},
   "outputs": [
    {
     "name": "stdout",
     "output_type": "stream",
     "text": [
      "Paying option price at maturity with interest leads to a DVA of $0.09 for the option's seller\n"
     ]
    }
   ],
   "source": [
    "print('Paying option price at maturity with interest leads to a DVA of {:s} for the option\\'s seller'.format(\n",
    "          locale.currency(dva, grouping=True)))"
   ]
  },
  {
   "cell_type": "markdown",
   "id": "adjacent-missile",
   "metadata": {},
   "source": [
    "#### Exercise 20.16"
   ]
  },
  {
   "cell_type": "code",
   "execution_count": 28,
   "id": "dutch-float",
   "metadata": {},
   "outputs": [],
   "source": [
    "yield_spread = .0210\n",
    "c = 4.1\n",
    "T = 3."
   ]
  },
  {
   "cell_type": "code",
   "execution_count": 29,
   "id": "experienced-steps",
   "metadata": {},
   "outputs": [
    {
     "name": "stdout",
     "output_type": "stream",
     "text": [
      "Option price with CVA: $3.85\n"
     ]
    }
   ],
   "source": [
    "print('Option price with CVA: {:s}'\n",
    "      .format(locale.currency(c * exp(-yield_spread*T), grouping=True)))"
   ]
  },
  {
   "cell_type": "code",
   "execution_count": null,
   "id": "pharmaceutical-invention",
   "metadata": {},
   "outputs": [],
   "source": []
  }
 ],
 "metadata": {
  "kernelspec": {
   "display_name": "Python 3",
   "language": "python",
   "name": "python3"
  },
  "language_info": {
   "codemirror_mode": {
    "name": "ipython",
    "version": 3
   },
   "file_extension": ".py",
   "mimetype": "text/x-python",
   "name": "python",
   "nbconvert_exporter": "python",
   "pygments_lexer": "ipython3",
   "version": "3.9.0"
  }
 },
 "nbformat": 4,
 "nbformat_minor": 5
}
