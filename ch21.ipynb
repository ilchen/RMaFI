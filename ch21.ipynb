{
 "cells": [
  {
   "cell_type": "markdown",
   "id": "adult-stroke",
   "metadata": {},
   "source": [
    "# Credit Value at Risk"
   ]
  },
  {
   "cell_type": "code",
   "execution_count": 1,
   "id": "graphic-vietnam",
   "metadata": {},
   "outputs": [],
   "source": [
    "import numpy as np\n",
    "import pandas as pd\n",
    "import requests\n",
    "import io\n",
    "from scipy.stats import binom, norm\n",
    "\n",
    "from math import exp\n",
    "from math import log\n",
    "from math import sqrt\n",
    "import locale"
   ]
  },
  {
   "cell_type": "code",
   "execution_count": 2,
   "id": "offensive-discussion",
   "metadata": {},
   "outputs": [],
   "source": [
    "_ = locale.setlocale(locale.LC_ALL, '')"
   ]
  },
  {
   "cell_type": "markdown",
   "id": "english-liberal",
   "metadata": {},
   "source": [
    "### Exercise 21.6\n",
    "Answer from the textbook:\n",
    "* The pobability of 6 or more defaults is 0.0005"
   ]
  },
  {
   "cell_type": "code",
   "execution_count": 3,
   "id": "facial-convenience",
   "metadata": {},
   "outputs": [
    {
     "name": "stdout",
     "output_type": "stream",
     "text": [
      "Probability of 6 or more defaults: 0.0005\n"
     ]
    }
   ],
   "source": [
    "num_loans = 100\n",
    "pr_default = .01\n",
    "num_defaults = 6\n",
    "print(f'Probability of {num_defaults:d} or more defaults: {(1 - binom.cdf(num_defaults-1, num_loans, pr_default)):.4f}')"
   ]
  },
  {
   "cell_type": "markdown",
   "id": "technical-singles",
   "metadata": {},
   "source": [
    "### Exercise 21.7\n",
    "Answer from the textbook:\n",
    "* The pobability of 6 or more defaults is 0.0021"
   ]
  },
  {
   "cell_type": "code",
   "execution_count": 4,
   "id": "extreme-letters",
   "metadata": {},
   "outputs": [
    {
     "name": "stdout",
     "output_type": "stream",
     "text": [
      "Probability of 6 or more defaults: 0.0021\n"
     ]
    }
   ],
   "source": [
    "pds = [.005, .015]\n",
    "pr_default = sum([1 - binom.cdf(num_defaults-1, num_loans, pd) for pd in pds]) / len(pds)\n",
    "print(f'Probability of {num_defaults:d} or more defaults: {pr_default:.4f}')"
   ]
  },
  {
   "cell_type": "markdown",
   "id": "ranging-philosophy",
   "metadata": {},
   "source": [
    "### Exercise 21.8\n",
    "Answer from the textbook (confirmed by the author to be incorrect):\n",
    "* The autocorrelation is quite high at 0.546"
   ]
  },
  {
   "cell_type": "markdown",
   "id": "falling-overhead",
   "metadata": {},
   "source": [
    "Retrieving Table 11.6 from the author's website."
   ]
  },
  {
   "cell_type": "code",
   "execution_count": 5,
   "id": "violent-debut",
   "metadata": {},
   "outputs": [],
   "source": [
    "with requests.get('http://www-2.rotman.utoronto.ca/~hull/calcs/Chapter11DefaultRates5e.xls') as s:\n",
    "    df = pd.read_excel(io.BytesIO(s.content), index_col=0, header=5,\n",
    "                       usecols='A,C', names=['Year', 'Defaul Rate'], parse_dates=True)"
   ]
  },
  {
   "cell_type": "code",
   "execution_count": 6,
   "id": "raising-tournament",
   "metadata": {},
   "outputs": [],
   "source": [
    "df = df.dropna()\n",
    "df = df.asfreq('AS')"
   ]
  },
  {
   "cell_type": "code",
   "execution_count": 7,
   "id": "prospective-honduras",
   "metadata": {},
   "outputs": [
    {
     "data": {
      "text/html": [
       "<div>\n",
       "<style scoped>\n",
       "    .dataframe tbody tr th:only-of-type {\n",
       "        vertical-align: middle;\n",
       "    }\n",
       "\n",
       "    .dataframe tbody tr th {\n",
       "        vertical-align: top;\n",
       "    }\n",
       "\n",
       "    .dataframe thead th {\n",
       "        text-align: right;\n",
       "    }\n",
       "</style>\n",
       "<table border=\"1\" class=\"dataframe\">\n",
       "  <thead>\n",
       "    <tr style=\"text-align: right;\">\n",
       "      <th></th>\n",
       "      <th>Defaul Rate</th>\n",
       "    </tr>\n",
       "    <tr>\n",
       "      <th>Year</th>\n",
       "      <th></th>\n",
       "    </tr>\n",
       "  </thead>\n",
       "  <tbody>\n",
       "    <tr>\n",
       "      <th>1970-01-01</th>\n",
       "      <td>0.02631</td>\n",
       "    </tr>\n",
       "    <tr>\n",
       "      <th>1971-01-01</th>\n",
       "      <td>0.00286</td>\n",
       "    </tr>\n",
       "    <tr>\n",
       "      <th>1972-01-01</th>\n",
       "      <td>0.00453</td>\n",
       "    </tr>\n",
       "    <tr>\n",
       "      <th>1973-01-01</th>\n",
       "      <td>0.00456</td>\n",
       "    </tr>\n",
       "    <tr>\n",
       "      <th>1974-01-01</th>\n",
       "      <td>0.00275</td>\n",
       "    </tr>\n",
       "    <tr>\n",
       "      <th>1975-01-01</th>\n",
       "      <td>0.00361</td>\n",
       "    </tr>\n",
       "    <tr>\n",
       "      <th>1976-01-01</th>\n",
       "      <td>0.00176</td>\n",
       "    </tr>\n",
       "    <tr>\n",
       "      <th>1977-01-01</th>\n",
       "      <td>0.00354</td>\n",
       "    </tr>\n",
       "    <tr>\n",
       "      <th>1978-01-01</th>\n",
       "      <td>0.00354</td>\n",
       "    </tr>\n",
       "    <tr>\n",
       "      <th>1979-01-01</th>\n",
       "      <td>0.00088</td>\n",
       "    </tr>\n",
       "    <tr>\n",
       "      <th>1980-01-01</th>\n",
       "      <td>0.00344</td>\n",
       "    </tr>\n",
       "    <tr>\n",
       "      <th>1981-01-01</th>\n",
       "      <td>0.00162</td>\n",
       "    </tr>\n",
       "    <tr>\n",
       "      <th>1982-01-01</th>\n",
       "      <td>0.01040</td>\n",
       "    </tr>\n",
       "    <tr>\n",
       "      <th>1983-01-01</th>\n",
       "      <td>0.00900</td>\n",
       "    </tr>\n",
       "    <tr>\n",
       "      <th>1984-01-01</th>\n",
       "      <td>0.00869</td>\n",
       "    </tr>\n",
       "    <tr>\n",
       "      <th>1985-01-01</th>\n",
       "      <td>0.00952</td>\n",
       "    </tr>\n",
       "    <tr>\n",
       "      <th>1986-01-01</th>\n",
       "      <td>0.01830</td>\n",
       "    </tr>\n",
       "    <tr>\n",
       "      <th>1987-01-01</th>\n",
       "      <td>0.01423</td>\n",
       "    </tr>\n",
       "    <tr>\n",
       "      <th>1988-01-01</th>\n",
       "      <td>0.01393</td>\n",
       "    </tr>\n",
       "    <tr>\n",
       "      <th>1989-01-01</th>\n",
       "      <td>0.02226</td>\n",
       "    </tr>\n",
       "    <tr>\n",
       "      <th>1990-01-01</th>\n",
       "      <td>0.03572</td>\n",
       "    </tr>\n",
       "    <tr>\n",
       "      <th>1991-01-01</th>\n",
       "      <td>0.02803</td>\n",
       "    </tr>\n",
       "    <tr>\n",
       "      <th>1992-01-01</th>\n",
       "      <td>0.01337</td>\n",
       "    </tr>\n",
       "    <tr>\n",
       "      <th>1993-01-01</th>\n",
       "      <td>0.00899</td>\n",
       "    </tr>\n",
       "    <tr>\n",
       "      <th>1994-01-01</th>\n",
       "      <td>0.00651</td>\n",
       "    </tr>\n",
       "    <tr>\n",
       "      <th>1995-01-01</th>\n",
       "      <td>0.00899</td>\n",
       "    </tr>\n",
       "    <tr>\n",
       "      <th>1996-01-01</th>\n",
       "      <td>0.00506</td>\n",
       "    </tr>\n",
       "    <tr>\n",
       "      <th>1997-01-01</th>\n",
       "      <td>0.00616</td>\n",
       "    </tr>\n",
       "    <tr>\n",
       "      <th>1998-01-01</th>\n",
       "      <td>0.01137</td>\n",
       "    </tr>\n",
       "    <tr>\n",
       "      <th>1999-01-01</th>\n",
       "      <td>0.02123</td>\n",
       "    </tr>\n",
       "    <tr>\n",
       "      <th>2000-01-01</th>\n",
       "      <td>0.02455</td>\n",
       "    </tr>\n",
       "    <tr>\n",
       "      <th>2001-01-01</th>\n",
       "      <td>0.03679</td>\n",
       "    </tr>\n",
       "    <tr>\n",
       "      <th>2002-01-01</th>\n",
       "      <td>0.02924</td>\n",
       "    </tr>\n",
       "    <tr>\n",
       "      <th>2003-01-01</th>\n",
       "      <td>0.01828</td>\n",
       "    </tr>\n",
       "    <tr>\n",
       "      <th>2004-01-01</th>\n",
       "      <td>0.00834</td>\n",
       "    </tr>\n",
       "    <tr>\n",
       "      <th>2005-01-01</th>\n",
       "      <td>0.00647</td>\n",
       "    </tr>\n",
       "    <tr>\n",
       "      <th>2006-01-01</th>\n",
       "      <td>0.00593</td>\n",
       "    </tr>\n",
       "    <tr>\n",
       "      <th>2007-01-01</th>\n",
       "      <td>0.00349</td>\n",
       "    </tr>\n",
       "    <tr>\n",
       "      <th>2008-01-01</th>\n",
       "      <td>0.02507</td>\n",
       "    </tr>\n",
       "    <tr>\n",
       "      <th>2009-01-01</th>\n",
       "      <td>0.04996</td>\n",
       "    </tr>\n",
       "    <tr>\n",
       "      <th>2010-01-01</th>\n",
       "      <td>0.01232</td>\n",
       "    </tr>\n",
       "    <tr>\n",
       "      <th>2011-01-01</th>\n",
       "      <td>0.00906</td>\n",
       "    </tr>\n",
       "    <tr>\n",
       "      <th>2012-01-01</th>\n",
       "      <td>0.01230</td>\n",
       "    </tr>\n",
       "    <tr>\n",
       "      <th>2013-01-01</th>\n",
       "      <td>0.01232</td>\n",
       "    </tr>\n",
       "    <tr>\n",
       "      <th>2014-01-01</th>\n",
       "      <td>0.00939</td>\n",
       "    </tr>\n",
       "    <tr>\n",
       "      <th>2015-01-01</th>\n",
       "      <td>0.01732</td>\n",
       "    </tr>\n",
       "    <tr>\n",
       "      <th>2016-01-01</th>\n",
       "      <td>0.02149</td>\n",
       "    </tr>\n",
       "  </tbody>\n",
       "</table>\n",
       "</div>"
      ],
      "text/plain": [
       "            Defaul Rate\n",
       "Year                   \n",
       "1970-01-01      0.02631\n",
       "1971-01-01      0.00286\n",
       "1972-01-01      0.00453\n",
       "1973-01-01      0.00456\n",
       "1974-01-01      0.00275\n",
       "1975-01-01      0.00361\n",
       "1976-01-01      0.00176\n",
       "1977-01-01      0.00354\n",
       "1978-01-01      0.00354\n",
       "1979-01-01      0.00088\n",
       "1980-01-01      0.00344\n",
       "1981-01-01      0.00162\n",
       "1982-01-01      0.01040\n",
       "1983-01-01      0.00900\n",
       "1984-01-01      0.00869\n",
       "1985-01-01      0.00952\n",
       "1986-01-01      0.01830\n",
       "1987-01-01      0.01423\n",
       "1988-01-01      0.01393\n",
       "1989-01-01      0.02226\n",
       "1990-01-01      0.03572\n",
       "1991-01-01      0.02803\n",
       "1992-01-01      0.01337\n",
       "1993-01-01      0.00899\n",
       "1994-01-01      0.00651\n",
       "1995-01-01      0.00899\n",
       "1996-01-01      0.00506\n",
       "1997-01-01      0.00616\n",
       "1998-01-01      0.01137\n",
       "1999-01-01      0.02123\n",
       "2000-01-01      0.02455\n",
       "2001-01-01      0.03679\n",
       "2002-01-01      0.02924\n",
       "2003-01-01      0.01828\n",
       "2004-01-01      0.00834\n",
       "2005-01-01      0.00647\n",
       "2006-01-01      0.00593\n",
       "2007-01-01      0.00349\n",
       "2008-01-01      0.02507\n",
       "2009-01-01      0.04996\n",
       "2010-01-01      0.01232\n",
       "2011-01-01      0.00906\n",
       "2012-01-01      0.01230\n",
       "2013-01-01      0.01232\n",
       "2014-01-01      0.00939\n",
       "2015-01-01      0.01732\n",
       "2016-01-01      0.02149"
      ]
     },
     "execution_count": 7,
     "metadata": {},
     "output_type": "execute_result"
    }
   ],
   "source": [
    "df"
   ]
  },
  {
   "cell_type": "code",
   "execution_count": 8,
   "id": "precise-olive",
   "metadata": {},
   "outputs": [
    {
     "name": "stdout",
     "output_type": "stream",
     "text": [
      "The autocorrelation is: 0.563\n"
     ]
    }
   ],
   "source": [
    "print(f'The autocorrelation is: {df.iloc[:,0].autocorr():.3f}')"
   ]
  },
  {
   "cell_type": "markdown",
   "id": "loving-anger",
   "metadata": {},
   "source": [
    "### Exercise 21.9"
   ]
  },
  {
   "cell_type": "code",
   "execution_count": 10,
   "id": "material-embassy",
   "metadata": {},
   "outputs": [],
   "source": [
    "notional = 100\n",
    "risk_free_rate = .05 # continuous compounding\n",
    "pr_downgrade = 1. - .004 - .09 - .6574\n",
    "T = 1"
   ]
  },
  {
   "cell_type": "code",
   "execution_count": 11,
   "id": "chubby-jamaica",
   "metadata": {},
   "outputs": [
    {
     "name": "stdout",
     "output_type": "stream",
     "text": [
      "The price of the credit derivative (using historical probabilities) is: $23.65\n"
     ]
    }
   ],
   "source": [
    "price = notional * exp(-risk_free_rate * T) * pr_downgrade\n",
    "print('The price of the credit derivative (using historical probabilities) is: {:s}'\n",
    "     .format(locale.currency(price, grouping=True)))"
   ]
  },
  {
   "cell_type": "markdown",
   "id": "perfect-south",
   "metadata": {},
   "source": [
    "### Exercise 21.10"
   ]
  },
  {
   "cell_type": "code",
   "execution_count": 14,
   "id": "concrete-beijing",
   "metadata": {},
   "outputs": [],
   "source": [
    "ead = 10_000_000\n",
    "pr_default = .01\n",
    "recovery_rate = .4\n",
    "percentile = .995\n",
    "ρ = .2"
   ]
  },
  {
   "cell_type": "code",
   "execution_count": 15,
   "id": "wrapped-electron",
   "metadata": {},
   "outputs": [
    {
     "name": "stdout",
     "output_type": "stream",
     "text": [
      "WCDR: 0.0946\n"
     ]
    }
   ],
   "source": [
    "wcdr = norm.cdf((norm.ppf(pr_default) + sqrt(ρ)*norm.ppf(percentile)) / sqrt(1-ρ))\n",
    "print(f'WCDR: {wcdr:.4f}')"
   ]
  },
  {
   "cell_type": "code",
   "execution_count": 19,
   "id": "serial-nicaragua",
   "metadata": {},
   "outputs": [
    {
     "name": "stdout",
     "output_type": "stream",
     "text": [
      "99.5% 1-year credit VaR: $507,527.27\n"
     ]
    }
   ],
   "source": [
    "var = (wcdr - pr_default) * ead * (1 - recovery_rate)\n",
    "print('{:.1%} {:d}-year credit VaR: {:s}'.format(percentile, T, locale.currency(var, grouping=True)))"
   ]
  },
  {
   "cell_type": "code",
   "execution_count": null,
   "id": "raising-vault",
   "metadata": {},
   "outputs": [],
   "source": []
  }
 ],
 "metadata": {
  "kernelspec": {
   "display_name": "Python 3",
   "language": "python",
   "name": "python3"
  },
  "language_info": {
   "codemirror_mode": {
    "name": "ipython",
    "version": 3
   },
   "file_extension": ".py",
   "mimetype": "text/x-python",
   "name": "python",
   "nbconvert_exporter": "python",
   "pygments_lexer": "ipython3",
   "version": "3.9.0"
  }
 },
 "nbformat": 4,
 "nbformat_minor": 5
}
