{
 "cells": [
  {
   "cell_type": "markdown",
   "id": "moral-trader",
   "metadata": {},
   "source": [
    "# Scenario Analysis and Stress Testing\n",
    "In this notebook for exercises to do with VaR I make use of a separate Python module `hist_simulation`, which you can find under the `ch13` directory of this project. Essentially all logic to sole the exercises is implemented in it."
   ]
  },
  {
   "cell_type": "code",
   "execution_count": 1,
   "id": "unknown-component",
   "metadata": {},
   "outputs": [],
   "source": [
    "from ch13 import hist_simulation\n",
    "\n",
    "import numpy as np\n",
    "import pandas as pd\n",
    "from scipy.stats import norm\n",
    "from scipy.optimize import minimize\n",
    "from scipy.optimize import Bounds\n",
    "\n",
    "from math import exp\n",
    "from functools import partial"
   ]
  },
  {
   "cell_type": "code",
   "execution_count": 2,
   "id": "palestinian-dialogue",
   "metadata": {},
   "outputs": [],
   "source": [
    "# All amounts passed are in thousands of dollars\n",
    "hs = hist_simulation.HistSimulation('./ext/VaRExampleRMFI3eHistoricalSimulation.xls', 1e4)"
   ]
  },
  {
   "cell_type": "code",
   "execution_count": 3,
   "id": "final-arizona",
   "metadata": {},
   "outputs": [
    {
     "data": {
      "text/plain": [
       "'en_US.UTF-8'"
      ]
     },
     "execution_count": 3,
     "metadata": {},
     "output_type": "execute_result"
    }
   ],
   "source": [
    "import locale\n",
    "locale.setlocale(locale.LC_ALL, '')"
   ]
  },
  {
   "cell_type": "markdown",
   "id": "ruled-fight",
   "metadata": {},
   "source": [
    "#### Exercise 22.8"
   ]
  },
  {
   "cell_type": "code",
   "execution_count": 4,
   "id": "juvenile-following",
   "metadata": {},
   "outputs": [
    {
     "name": "stdout",
     "output_type": "stream",
     "text": [
      "Exercise 22.8. One day VaR with a confidence level of 99.0%: $282,203.85\n",
      "Exercise 22.8. One day ES with a confidence level of 99.0%: $609,039.44\n"
     ]
    }
   ],
   "source": [
    "hs.exercise_22_8([(240, .005), (280, .005), (340, .002), (500, .002),\n",
    "                  (700, 5e-4), (850, 5e-4), (1050, 5e-4)])"
   ]
  },
  {
   "cell_type": "markdown",
   "id": "wicked-contractor",
   "metadata": {},
   "source": [
    "#### Exercise 22.9\n",
    "This exercise demonstrates _reverse stress testing_. Answer from the textbook:\n",
    "* Worst-case scenario is achieved when asset price is $60 and volatility σ is 30%"
   ]
  },
  {
   "cell_type": "code",
   "execution_count": 5,
   "id": "optional-spending",
   "metadata": {},
   "outputs": [],
   "source": [
    "# Define d1, d2 as per the Black-Scholes-Merton formula for a futures or forward price\n",
    "# Any of the arguments can be either a scalar or a numpy array\n",
    "def  d1(S0, sigma, K, T, r=0.):\n",
    "    return  (np.log(S0/K) + (r + np.square(sigma) / 2) * T) / (sigma * np.sqrt(T))\n",
    "def  d2(S0, sigma, K, T, r=0.):\n",
    "    return  d1(S0, sigma, K, T, r) - sigma * np.sqrt(T)"
   ]
  },
  {
   "cell_type": "code",
   "execution_count": 6,
   "id": "future-parliament",
   "metadata": {},
   "outputs": [],
   "source": [
    "# Define the Black-Scholes-Merton formula\n",
    "def call_opt(S0, sigma, K, T, r):\n",
    "    return S0*norm.cdf(d1(S0, sigma, K, T, r)) - K*exp(-risk_free_rate*T)*norm.cdf(d2(S0, sigma, K, T, r))"
   ]
  },
  {
   "cell_type": "code",
   "execution_count": 7,
   "id": "pacific-banks",
   "metadata": {},
   "outputs": [],
   "source": [
    "S0 = 50.\n",
    "risk_free_rate = .03 # continuous compounding\n",
    "sigma = .2\n",
    "positions = np.array([200, -70, -120, -60]) # * 1000\n",
    "strikes = np.array([50, 60, 40, 55])\n",
    "Ts = np.array([1., 1.5, .8, .5])\n",
    "df = pd.DataFrame(np.array([positions, strikes, Ts]).T, columns=['Position', 'Strike Price', 'Life (years)'])"
   ]
  },
  {
   "cell_type": "markdown",
   "id": "deadly-leonard",
   "metadata": {},
   "source": [
    "First let's calculate positions' values"
   ]
  },
  {
   "cell_type": "code",
   "execution_count": 8,
   "id": "rotary-coordinator",
   "metadata": {},
   "outputs": [],
   "source": [
    "def price_position(row, S0, sigma):\n",
    "    '''\n",
    "    :param row: a pd.Series object representing an option position, expected values are position, K, T\n",
    "    '''\n",
    "    return row[0] * call_opt(S0, sigma, row[1], row[2], risk_free_rate)\n",
    "\n",
    "def price_positions(df, S0, sigma):\n",
    "    return df.apply(partial(price_position, S0=S0, sigma=sigma), axis=1).sum()"
   ]
  },
  {
   "cell_type": "code",
   "execution_count": 9,
   "id": "alleged-gothic",
   "metadata": {},
   "outputs": [
    {
     "data": {
      "text/html": [
       "<div>\n",
       "<style scoped>\n",
       "    .dataframe tbody tr th:only-of-type {\n",
       "        vertical-align: middle;\n",
       "    }\n",
       "\n",
       "    .dataframe tbody tr th {\n",
       "        vertical-align: top;\n",
       "    }\n",
       "\n",
       "    .dataframe thead th {\n",
       "        text-align: right;\n",
       "    }\n",
       "</style>\n",
       "<table border=\"1\" class=\"dataframe\">\n",
       "  <thead>\n",
       "    <tr style=\"text-align: right;\">\n",
       "      <th></th>\n",
       "      <th>Position</th>\n",
       "      <th>Strike Price</th>\n",
       "      <th>Life (years)</th>\n",
       "      <th>Position Value</th>\n",
       "    </tr>\n",
       "  </thead>\n",
       "  <tbody>\n",
       "    <tr>\n",
       "      <th>0</th>\n",
       "      <td>200.0</td>\n",
       "      <td>50.0</td>\n",
       "      <td>1.0</td>\n",
       "      <td>941.340338</td>\n",
       "    </tr>\n",
       "    <tr>\n",
       "      <th>1</th>\n",
       "      <td>-70.0</td>\n",
       "      <td>60.0</td>\n",
       "      <td>1.5</td>\n",
       "      <td>-164.391186</td>\n",
       "    </tr>\n",
       "    <tr>\n",
       "      <th>2</th>\n",
       "      <td>-120.0</td>\n",
       "      <td>40.0</td>\n",
       "      <td>0.8</td>\n",
       "      <td>-1349.943909</td>\n",
       "    </tr>\n",
       "    <tr>\n",
       "      <th>3</th>\n",
       "      <td>-60.0</td>\n",
       "      <td>55.0</td>\n",
       "      <td>0.5</td>\n",
       "      <td>-78.357066</td>\n",
       "    </tr>\n",
       "  </tbody>\n",
       "</table>\n",
       "</div>"
      ],
      "text/plain": [
       "   Position  Strike Price  Life (years)  Position Value\n",
       "0     200.0          50.0           1.0      941.340338\n",
       "1     -70.0          60.0           1.5     -164.391186\n",
       "2    -120.0          40.0           0.8    -1349.943909\n",
       "3     -60.0          55.0           0.5      -78.357066"
      ]
     },
     "execution_count": 9,
     "metadata": {},
     "output_type": "execute_result"
    }
   ],
   "source": [
    "df['Position Value'] = df.apply(partial(price_position, S0=S0, sigma=sigma), axis=1)\n",
    "df"
   ]
  },
  {
   "cell_type": "markdown",
   "id": "measured-framing",
   "metadata": {},
   "source": [
    "Now we are ready to define an objective function"
   ]
  },
  {
   "cell_type": "code",
   "execution_count": 10,
   "id": "caring-record",
   "metadata": {},
   "outputs": [
    {
     "name": "stdout",
     "output_type": "stream",
     "text": [
      "Portfolio value: -$651.35\n"
     ]
    }
   ],
   "source": [
    "cur_portfolio_value = df.iloc[:,-1].sum()\n",
    "print('Portfolio value: {:s}'.format(locale.currency(cur_portfolio_value, grouping=True)))"
   ]
  },
  {
   "cell_type": "code",
   "execution_count": 11,
   "id": "short-subsection",
   "metadata": {},
   "outputs": [],
   "source": [
    "def objective_function(x):\n",
    "    price, volatility = x\n",
    "    return price_positions(df, price, volatility)"
   ]
  },
  {
   "cell_type": "code",
   "execution_count": 12,
   "id": "close-american",
   "metadata": {},
   "outputs": [
    {
     "name": "stdout",
     "output_type": "stream",
     "text": [
      "Worst case scenario:\n",
      "\tS0=$60.00, σ=29.99%\n",
      "\tPortfolio Value: -$992.74\n",
      "\tImplying a loss of: -$341.39\n"
     ]
    }
   ],
   "source": [
    "x0 = (S0, sigma)        # starting with the current asset price and volatility\n",
    "# S0[40, 60), sigma[.1, .3]\n",
    "bounds = Bounds([40., .1], [60., .3])\n",
    "res = minimize(objective_function, x0, bounds=bounds, method = 'Nelder-Mead')\n",
    "res = minimize(objective_function, x0, bounds=bounds, method = 'Powell')\n",
    "if res.success:\n",
    "    print('Worst case scenario:\\n\\tS0={:s}, \\u03C3={:.2%}'\n",
    "          .format(locale.currency(res.x[0], grouping=True), res.x[1]))\n",
    "    df.iloc[:,-1].update(df.apply(partial(price_position, S0=res.x[0], sigma=res.x[1]), axis=1))\n",
    "    print('\\tPortfolio Value: {:s}'.format(locale.currency(df.iloc[:,-1].sum(), grouping=True)))\n",
    "    print('\\tImplying a loss of: {:s}'.format(\n",
    "        locale.currency(df.iloc[:,-1].sum()-cur_portfolio_value, grouping=True)))"
   ]
  },
  {
   "cell_type": "markdown",
   "id": "directed-gambling",
   "metadata": {},
   "source": [
    "#### Exercise 22.11\n",
    "I assume the autor is referring to Section 13.3.3 \"Volatility Scaling for the Portfolio\" and solve it with an EWMA &lambda;=0.94."
   ]
  },
  {
   "cell_type": "code",
   "execution_count": 13,
   "id": "southeast-acceptance",
   "metadata": {},
   "outputs": [
    {
     "name": "stdout",
     "output_type": "stream",
     "text": [
      "Exercise 22.11. One day VaR with a confidence level of 99.0% and λ=0.94: $627,915.82\n",
      "Exercise 22.11. One day ES with a confidence level of 99.0% and λ=0.94: $785,029.94\n"
     ]
    }
   ],
   "source": [
    "hs.exercise_22_11(.94, [(235, .005), (300, .002), (450, .002), (750, 5e-4), (850, 5e-4)])"
   ]
  },
  {
   "cell_type": "code",
   "execution_count": null,
   "id": "adjustable-electric",
   "metadata": {},
   "outputs": [],
   "source": []
  }
 ],
 "metadata": {
  "kernelspec": {
   "display_name": "Python 3",
   "language": "python",
   "name": "python3"
  },
  "language_info": {
   "codemirror_mode": {
    "name": "ipython",
    "version": 3
   },
   "file_extension": ".py",
   "mimetype": "text/x-python",
   "name": "python",
   "nbconvert_exporter": "python",
   "pygments_lexer": "ipython3",
   "version": "3.9.0"
  }
 },
 "nbformat": 4,
 "nbformat_minor": 5
}
